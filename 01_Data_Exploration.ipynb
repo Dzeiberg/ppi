{
 "cells": [
  {
   "cell_type": "code",
   "execution_count": null,
   "id": "1107541f",
   "metadata": {},
   "outputs": [],
   "source": [
    "import pandas as pd\n",
    "import matplotlib.pyplot as plt"
   ]
  },
  {
   "cell_type": "code",
   "execution_count": null,
   "id": "9871b197",
   "metadata": {},
   "outputs": [],
   "source": [
    "aaPairs = {\"A\":\"Ala\", \"R\":\"Arg\", \"N\":\"Asn\", \"D\":\"Asp\",\n",
    "           \"C\":\"Cys\", \"E\":\"Glu\", \"Q\":\"Gln\", \"G\":\"Gly\",\n",
    "           \"H\":\"His\", \"I\":\"Ile\", \"L\":\"Leu\", \"K\":\"Lys\",\n",
    "           \"M\":\"Met\", \"F\":\"Phe\", \"P\":\"Pro\", \"S\":\"Ser\",\n",
    "           \"T\":\"Thr\", \"W\":\"Trp\", \"Y\":\"Tyr\", \"V\":\"Val\"}\n",
    "\n",
    "aaTable = dict(list(zip(*list(zip(*aaPairs.items()))[::-1])))"
   ]
  },
  {
   "cell_type": "markdown",
   "id": "993cb481",
   "metadata": {},
   "source": [
    "# Vidal Lab Data"
   ]
  },
  {
   "cell_type": "code",
   "execution_count": null,
   "id": "cabc300e",
   "metadata": {},
   "outputs": [],
   "source": [
    "edgotypes = pd.read_csv(\"data/y2hEdgotyping/qY2H_edgotyping_data.csv\",index_col=0)"
   ]
  },
  {
   "cell_type": "markdown",
   "id": "491b49c0",
   "metadata": {},
   "source": [
    "- ad_orf_id : ID of the ORF fused on Activation Domain (AD)\n",
    "- db_orf_id : ID of the ORF fused on DNA-binding Domain (DB)\n",
    "- db_mut_id : ID of the variant\n",
    "- standard_batch : Name of the experiment\n",
    "- assay_id : Type of Y2H experiment, I can explain you the details of that in our next meeting\n",
    "- LW : Selective media score to control for the presence of both plasmids (AD and DB); scores range from 0-4 and should 3+ for most\n",
    "- LWH1_f : Selective media score to test for interaction, for yeast spotted on SC -LW -histidine +1 mM 3AT (“level 1”); scores range from 0-4\n",
    "- LWH10_f : Selective media score to test for interaction, for yeast spotted on SC -LW -histidine +10 mM 3AT (“level 2”); scores range from 0-4\n",
    "- LWH25_f : Selective media score to test for interaction, for yeast spotted on SC -LW -histidine +25 mM 3AT (“level 3”); scores range from 0-4\n",
    "- LWA_f :Selective media score to test for interaction, for yeast spotted on SC -LW -adenine (“level 4”); scores range from 0-4\n",
    "- LWAH1_f :Selective media score to test for interaction, for yeast spotted on SC -LW -adenine -histidine +1 mM 3AT (“level 5”); scores range from 0-4\n",
    "- n_condition : number of valid conditions (some conditions might be ignored if contamination for instance)\n",
    "- score : sum positive levels; a level is considered positive if score > 1\n",
    "- score_norm : score/n_condition\n",
    "- ad_symbol : HGNC symbol of the ORF fused on Activation Domain (AD)\n",
    "- ad_ensembl_gene_id : ad_ensembl_gene_id of the ORF fused on Activation Domain (AD)\n",
    "- db_symbol : HGNC symbol of the ORF fused on the DNA-binding Domain (DB)\n",
    "- db_ensembl_gene_id : ad_ensembl_gene_id of the ORF fused on the DNA-binding Domain (DB)\n",
    "- nt_change : nt_change\n",
    "- aa_change : aa_change\n",
    "- clinical_significance : clinical_significance from ClinVar\n",
    "- allele_score : score_norm\n",
    "- wt_score : score_norm of the respective wild-type (WT score_norm if the row is WT)"
   ]
  },
  {
   "cell_type": "code",
   "execution_count": null,
   "id": "29f4be23",
   "metadata": {},
   "outputs": [],
   "source": [
    "mtSub = edgotypes[edgotypes.clinical_significance != \"WT\"]\n",
    "wtSub = edgotypes[edgotypes.clinical_significance == \"WT\"]"
   ]
  },
  {
   "cell_type": "code",
   "execution_count": null,
   "id": "24935340",
   "metadata": {},
   "outputs": [],
   "source": [
    "mtSub[[c for c in mtSub.columns if \"LW\" in c] + [\"score\"]]"
   ]
  },
  {
   "cell_type": "code",
   "execution_count": null,
   "id": "2ad97ef3",
   "metadata": {},
   "outputs": [],
   "source": [
    "wtTraj = wtSub[[c for c in wtSub.columns if \"LW\" in c]].dropna().values"
   ]
  },
  {
   "cell_type": "code",
   "execution_count": null,
   "id": "5fed8fa6",
   "metadata": {},
   "outputs": [],
   "source": [
    "mtTraj = mtSub[[c for c in mtSub.columns if \"LW\" in c]].dropna().values"
   ]
  },
  {
   "cell_type": "code",
   "execution_count": null,
   "id": "1ec92755",
   "metadata": {},
   "outputs": [],
   "source": [
    "plt.fill_between(range(6),wtTraj.mean(0) - 1.96 * wtTraj.std(0),\n",
    "                wtTraj.mean(0) + 1.96* wtTraj.std(0),color=\"blue\")\n",
    "plt.plot(wtTraj.mean(0),color=\"blue\",label=\"WT\")\n",
    "\n",
    "plt.fill_between(range(6),mtTraj.mean(0) - 1.96 * mtTraj.std(0),\n",
    "                mtTraj.mean(0) + 1.96* mtTraj.std(0),alpha=.5,color=\"orange\")\n",
    "plt.plot(mtTraj.mean(0),color=\"orange\",label=\"MT\")\n",
    "plt.legend()"
   ]
  },
  {
   "cell_type": "code",
   "execution_count": null,
   "id": "b7253708",
   "metadata": {},
   "outputs": [],
   "source": []
  },
  {
   "cell_type": "code",
   "execution_count": null,
   "id": "e8402f53",
   "metadata": {},
   "outputs": [],
   "source": [
    "mergedEdgoTypes = pd.merge(mtSub,wtSub,how=\"left\",\n",
    "                           left_on=[\"db_orf_id\",\"ad_orf_id\"],\n",
    "                           right_on=[\"db_orf_id\",\"ad_orf_id\"],\n",
    "                           suffixes=[\"_mt\",\"_wt\"])"
   ]
  },
  {
   "cell_type": "code",
   "execution_count": null,
   "id": "16f3c652",
   "metadata": {},
   "outputs": [],
   "source": [
    "orf_seqs = pd.read_csv(\"data/y2hEdgotyping/ORF_sequence.csv\",index_col=0)"
   ]
  },
  {
   "cell_type": "code",
   "execution_count": null,
   "id": "75d21f08",
   "metadata": {},
   "outputs": [],
   "source": [
    "y2HMerged = pd.merge(pd.merge(mergedEdgoTypes,orf_seqs,left_on=\"db_orf_id\",\n",
    "         right_on=\"orf_id\",how=\"left\"),orf_seqs,left_on=\"ad_orf_id\",\n",
    "        right_on=\"orf_id\",suffixes=[\"_db\",\"_ad\"])"
   ]
  },
  {
   "cell_type": "code",
   "execution_count": null,
   "id": "75c246e0",
   "metadata": {},
   "outputs": [],
   "source": [
    "y2HMerged"
   ]
  },
  {
   "cell_type": "code",
   "execution_count": null,
   "id": "7bdd486e",
   "metadata": {},
   "outputs": [],
   "source": [
    "def validateSeqs(r):\n",
    "    ref,loc,alt = aaTable[r.aa_change_mt[:3]],int(r.aa_change_mt[3:-3]),aaTable[r.aa_change_mt[-3:]]\n",
    "    return (r.p_seq_db[loc-1] == ref) and (ref != alt)"
   ]
  },
  {
   "cell_type": "code",
   "execution_count": null,
   "id": "a527331f",
   "metadata": {},
   "outputs": [],
   "source": [
    "y2HMerged[y2HMerged.apply(validateSeqs,axis=1)]"
   ]
  },
  {
   "cell_type": "code",
   "execution_count": null,
   "id": "3a9747ea",
   "metadata": {},
   "outputs": [],
   "source": [
    "y2HMerged[y2HMerged.apply(validateSeqs,axis=1)].to_csv(\"data/y2H_edgotyping_10_7_22/y2HMerged.csv\")"
   ]
  },
  {
   "cell_type": "markdown",
   "id": "9636dac3",
   "metadata": {},
   "source": [
    "# Look into Overlap with MaveDB"
   ]
  },
  {
   "cell_type": "code",
   "execution_count": null,
   "id": "e949fe09",
   "metadata": {},
   "outputs": [],
   "source": [
    "y2HSymbols = set(y2HMerged.db_symbol_mt).union(set(y2HMerged.ad_symbol_mt))"
   ]
  },
  {
   "cell_type": "code",
   "execution_count": null,
   "id": "b92afba8",
   "metadata": {},
   "outputs": [],
   "source": [
    "import requests"
   ]
  },
  {
   "cell_type": "code",
   "execution_count": null,
   "id": "300c8ae4",
   "metadata": {},
   "outputs": [],
   "source": [
    "r = requests.get(\"https://www.mavedb.org/api/target/\")"
   ]
  },
  {
   "cell_type": "code",
   "execution_count": null,
   "id": "a8a4120b",
   "metadata": {},
   "outputs": [],
   "source": [
    "maveSymbols = set([t[\"name\"] for t in r.json()])"
   ]
  },
  {
   "cell_type": "code",
   "execution_count": null,
   "id": "d6aa1f90",
   "metadata": {},
   "outputs": [],
   "source": [
    "maveSymbols.intersection(y2HSymbols)"
   ]
  },
  {
   "cell_type": "code",
   "execution_count": null,
   "id": "38aa9707",
   "metadata": {},
   "outputs": [],
   "source": [
    "maveIntersection = y2HMerged[(y2HMerged.db_symbol_mt.isin(maveSymbols))]"
   ]
  },
  {
   "cell_type": "code",
   "execution_count": null,
   "id": "9b70ccd1",
   "metadata": {},
   "outputs": [],
   "source": [
    "maveIntersection[[\"db_mut_id_mt\",\"db_orf_id\"]].drop_duplicates()"
   ]
  },
  {
   "cell_type": "code",
   "execution_count": null,
   "id": "5b9a4dd2",
   "metadata": {},
   "outputs": [],
   "source": [
    "maveIntersection = maveIntersection.assign(hgvs_pro=maveIntersection.aa_change_mt.apply(lambda s: \"p.\"+s)) "
   ]
  },
  {
   "cell_type": "code",
   "execution_count": null,
   "id": "c2141e39",
   "metadata": {},
   "outputs": [],
   "source": [
    "maveIntersection.db_symbol_mt.value_counts()"
   ]
  },
  {
   "cell_type": "code",
   "execution_count": null,
   "id": "93f462f9",
   "metadata": {},
   "outputs": [],
   "source": [
    "maves = [pd.read_csv(\"data/maveDB/urn_mavedb_00000096-a-1_scores_GATK.csv\",header=4),\n",
    "        pd.read_csv(\"data/maveDB/urn_mavedb_00000001-d-1_scores_TPK1.csv\",header=4)]"
   ]
  },
  {
   "cell_type": "code",
   "execution_count": null,
   "id": "8d98e91c",
   "metadata": {},
   "outputs": [],
   "source": [
    "maves[1]"
   ]
  },
  {
   "cell_type": "code",
   "execution_count": null,
   "id": "0cc3c761",
   "metadata": {},
   "outputs": [],
   "source": [
    "maveIntersectionJoined = pd.merge(maveIntersection,maves[0],left_on=\"hgvs_pro\",right_on=\"hgvs_pro\")"
   ]
  },
  {
   "cell_type": "code",
   "execution_count": null,
   "id": "31659b7f",
   "metadata": {},
   "outputs": [],
   "source": [
    "maveIntersectionJoined.score"
   ]
  },
  {
   "cell_type": "code",
   "execution_count": null,
   "id": "a4f54b65",
   "metadata": {},
   "outputs": [],
   "source": [
    "plt.scatter(maveIntersectionJoined.score, maveIntersectionJoined.LWH25_f_wt - maveIntersectionJoined.LWH25_f_mt)\n",
    "plt.xlabel(\"Mave\")\n",
    "plt.ylabel(r\"$\\Delta$ PPI (WT-MT)\")\n",
    "# plt.yticks(ticks=[0,1,2],labels=list(\"012\"))"
   ]
  },
  {
   "cell_type": "code",
   "execution_count": null,
   "id": "bd6369c8",
   "metadata": {},
   "outputs": [],
   "source": [
    "import seaborn as sns\n",
    "\n",
    "import scipy.stats as ss\n",
    "\n",
    "fig,ax = plt.subplots(2,6,figsize=(24,12))\n",
    "for lvl,(axi,mtScores,wtScores) in enumerate(zip(ax.T,[y2HMerged.LW_mt,\n",
    "                                          y2HMerged.LWH1_f_mt,\n",
    "                                          y2HMerged.LWH10_f_mt,\n",
    "                                          y2HMerged.LWH25_f_mt,\n",
    "                                          y2HMerged.LWA_f_mt,\n",
    "                                         y2HMerged.LWAH1_f_mt],\n",
    "                                              [y2HMerged.LW_wt,\n",
    "                                          y2HMerged.LWH1_f_wt,\n",
    "                                          y2HMerged.LWH10_f_wt,\n",
    "                                          y2HMerged.LWH25_f_wt,\n",
    "                                          y2HMerged.LWA_f_wt,\n",
    "                                         y2HMerged.LWAH1_f_wt]),start=0):\n",
    "    mask = ~(pd.isna(mtScores) | pd.isna(wtScores))\n",
    "\n",
    "    _,xb,yb,binVal = ss.binned_statistic_2d(mtScores[mask],wtScores[mask],np.zeros(mask.sum()),statistic=np.sum,\n",
    "                                          bins=[np.arange(6),np.arange(6)],expand_binnumbers=True,)\n",
    "    binVal -= 1\n",
    "    cnts = np.zeros((5,5))\n",
    "    for b in binVal.T:\n",
    "        cnts[b[0],b[1]] += 1\n",
    "    cnts /= cnts.sum()\n",
    "    cnts *= 100\n",
    "    sns.heatmap(cnts,ax=axi[0],annot=True,cmap=\"rocket_r\",vmin=0,vmax=100,cbar=lvl == ax.shape[1]-1)\n",
    "    axi[0].set_xlabel(\"WT Score\")\n",
    "    if lvl == 0:\n",
    "        axi[0].set_ylabel(\"MT Score\")\n",
    "    axi[1].hist(mtScores.dropna(),bins=np.arange(0,6),label=\"mt\")\n",
    "    axi[1].hist(wtScores.dropna(),bins=np.arange(0,6),alpha=.5,label=\"wt\")\n",
    "    axi[1].set_xlabel(\"Score\")\n",
    "    if lvl == 0:\n",
    "        axi[1].set_ylabel(\"Count\")\n",
    "    \n",
    "    if not lvl:\n",
    "        axi[0].set_title(f\"Control\")\n",
    "    else:\n",
    "        axi[0].set_title(f\"Level {lvl:d}\")\n",
    "axi[1].legend()"
   ]
  },
  {
   "cell_type": "code",
   "execution_count": null,
   "id": "b6ae2e98",
   "metadata": {},
   "outputs": [],
   "source": [
    "fig.savefig(\"data/y2H_edgotyping_10_7_22/figs/scoreChanges.pdf\",format=\"pdf\")"
   ]
  },
  {
   "cell_type": "code",
   "execution_count": null,
   "id": "2e9f82c1",
   "metadata": {},
   "outputs": [],
   "source": [
    "tot = 0\n",
    "with open(\"data/y2hEdgotyping/mutpred2Results/variants.faa\",\"w\") as f:\n",
    "    for seq,group in y2HMerged[y2HMerged.apply(validateSeqs,axis=1)].groupby(\"p_seq_db\"):\n",
    "        orf_id = str(group.db_orf_id.unique()[0]).replace(\" \",\"\").replace(\";\",\"\").replace(\",\",\"\")\n",
    "        uniqueVariants = group.aa_change_mt.unique()\n",
    "        tot += len(uniqueVariants)\n",
    "        for v in uniqueVariants:\n",
    "            try:\n",
    "                int(v[3:-3])\n",
    "            except ValueError:\n",
    "                print(v)\n",
    "                raise ValueError\n",
    "        varstr = \" \".join([aaTable[v[:3]]+v[3:-3]+aaTable[v[-3:]] for v in uniqueVariants])\n",
    "        r = f\">db_orf_{orf_id} {varstr}\\n{seq}\\n\"\n",
    "        print(r)\n",
    "        f.write(r)"
   ]
  },
  {
   "cell_type": "code",
   "execution_count": null,
   "id": "d4c26f4e",
   "metadata": {},
   "outputs": [],
   "source": [
    "tot"
   ]
  },
  {
   "cell_type": "markdown",
   "id": "f627ea73",
   "metadata": {},
   "source": [
    "# Nature Paper"
   ]
  },
  {
   "cell_type": "code",
   "execution_count": null,
   "id": "8548528b",
   "metadata": {},
   "outputs": [],
   "source": [
    "ls data/natureExtensiveDisruption/"
   ]
  },
  {
   "cell_type": "code",
   "execution_count": null,
   "id": "264e1ecc",
   "metadata": {},
   "outputs": [],
   "source": [
    "pd.read_excel(\"data/natureExtensiveDisruption/41467_2019_11959_MOESM10_ESM.xlsx\")"
   ]
  },
  {
   "cell_type": "markdown",
   "id": "71ca5683",
   "metadata": {},
   "source": [
    "# HuRI Data"
   ]
  },
  {
   "cell_type": "code",
   "execution_count": null,
   "id": "4d05b5df",
   "metadata": {},
   "outputs": [],
   "source": [
    "huriT = pd.read_csv(\"/data/dzeiberg/ppi/HuRI.tsv\",delimiter=\"\\t\",header=None)"
   ]
  },
  {
   "cell_type": "code",
   "execution_count": null,
   "id": "100a7a62",
   "metadata": {},
   "outputs": [],
   "source": [
    "huriT.columns = [\"A\",\"B\"]"
   ]
  },
  {
   "cell_type": "code",
   "execution_count": null,
   "id": "30282d19",
   "metadata": {},
   "outputs": [],
   "source": [
    "huriT"
   ]
  },
  {
   "cell_type": "code",
   "execution_count": null,
   "id": "bed60b11",
   "metadata": {},
   "outputs": [],
   "source": [
    "huri = pd.read_csv(\"/data/dzeiberg/ppi/HuRI.psi\",delimiter=\"\\t\",header=None)"
   ]
  },
  {
   "cell_type": "code",
   "execution_count": null,
   "id": "0bd1cced",
   "metadata": {},
   "outputs": [],
   "source": [
    "huri.shape"
   ]
  },
  {
   "cell_type": "code",
   "execution_count": null,
   "id": "9645f64a",
   "metadata": {},
   "outputs": [],
   "source": [
    "huri.loc[0]"
   ]
  },
  {
   "cell_type": "code",
   "execution_count": null,
   "id": "fc8953c6",
   "metadata": {},
   "outputs": [],
   "source": [
    "huri.loc[0,3]"
   ]
  },
  {
   "cell_type": "code",
   "execution_count": null,
   "id": "d4d7a2b9",
   "metadata": {},
   "outputs": [],
   "source": [
    "huriT[huriT.A == \"ENSG00000130518\"]"
   ]
  },
  {
   "cell_type": "code",
   "execution_count": null,
   "id": "e2fe5b9b",
   "metadata": {},
   "outputs": [],
   "source": [
    "huriT[huriT.A == \"ENSG00000160014\"]"
   ]
  },
  {
   "cell_type": "code",
   "execution_count": null,
   "id": "ed318d92",
   "metadata": {},
   "outputs": [],
   "source": [
    "huriT"
   ]
  },
  {
   "cell_type": "code",
   "execution_count": null,
   "id": "3db169ac",
   "metadata": {},
   "outputs": [],
   "source": []
  }
 ],
 "metadata": {
  "language_info": {
   "name": "python",
   "pygments_lexer": "ipython3"
  }
 },
 "nbformat": 4,
 "nbformat_minor": 5
}
