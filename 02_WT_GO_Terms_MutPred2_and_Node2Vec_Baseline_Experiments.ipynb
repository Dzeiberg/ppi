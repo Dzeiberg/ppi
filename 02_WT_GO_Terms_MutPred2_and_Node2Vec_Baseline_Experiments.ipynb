{
 "cells": [
  {
   "cell_type": "code",
   "execution_count": null,
   "id": "0bfa2f17",
   "metadata": {},
   "outputs": [],
   "source": [
    "aaPairs = {\"A\":\"Ala\", \"R\":\"Arg\", \"N\":\"Asn\", \"D\":\"Asp\",\n",
    "           \"C\":\"Cys\", \"E\":\"Glu\", \"Q\":\"Gln\", \"G\":\"Gly\",\n",
    "           \"H\":\"His\", \"I\":\"Ile\", \"L\":\"Leu\", \"K\":\"Lys\",\n",
    "           \"M\":\"Met\", \"F\":\"Phe\", \"P\":\"Pro\", \"S\":\"Ser\",\n",
    "           \"T\":\"Thr\", \"W\":\"Trp\", \"Y\":\"Tyr\", \"V\":\"Val\"}\n",
    "\n",
    "aaTable = dict(list(zip(*list(zip(*aaPairs.items()))[::-1])))"
   ]
  },
  {
   "cell_type": "code",
   "execution_count": null,
   "id": "0abfdf87",
   "metadata": {},
   "outputs": [],
   "source": [
    "import pandas as pd"
   ]
  },
  {
   "cell_type": "markdown",
   "id": "444b0b29",
   "metadata": {},
   "source": [
    "# Import HuRI-Union Reference Interactome"
   ]
  },
  {
   "cell_type": "code",
   "execution_count": null,
   "id": "380f8c1d",
   "metadata": {},
   "outputs": [],
   "source": [
    "huri = pd.read_csv(\"data/HuRI/HI-union.tsv\",\n",
    "                   delimiter=\"\\t\",\n",
    "                   header=None)\n",
    "huri.columns = [\"A\",\"B\"]"
   ]
  },
  {
   "cell_type": "markdown",
   "id": "ea864d94",
   "metadata": {},
   "source": [
    "# Import Processed Dataset of Variant Effect on PPI measured by Y2H"
   ]
  },
  {
   "cell_type": "code",
   "execution_count": null,
   "id": "dd1dfb70",
   "metadata": {},
   "outputs": [],
   "source": [
    "y2h = pd.read_csv(\"data/y2hEdgotyping/y2HMerged.csv\",index_col=0)"
   ]
  },
  {
   "cell_type": "code",
   "execution_count": null,
   "id": "4288df87",
   "metadata": {},
   "outputs": [],
   "source": [
    "y2h"
   ]
  },
  {
   "cell_type": "code",
   "execution_count": null,
   "id": "3c74382b",
   "metadata": {},
   "outputs": [],
   "source": [
    "gene_ids = list(set(huri.A).union(set(huri.B)))"
   ]
  },
  {
   "cell_type": "markdown",
   "id": "c4786913",
   "metadata": {},
   "source": [
    "# SKIP - Get GO Terms"
   ]
  },
  {
   "cell_type": "code",
   "execution_count": null,
   "id": "e93f066b",
   "metadata": {},
   "outputs": [],
   "source": [
    "# with open(\"data/HuRI/HI-union.ensg.csv\",\"w\") as f:\n",
    "#     f.write(\"\\n\".join(gene_ids))\n",
    "\n",
    "# import requests\n",
    "\n",
    "# len(gene_ids)\n",
    "\n",
    "# def batchiter(seq, size):\n",
    "#     return (seq[pos:pos + size] for pos in range(0, len(seq), size))\n",
    "\n",
    "# from tqdm import tqdm\n",
    "\n",
    "# responses = []\n",
    "# for batch in tqdm(batchiter(gene_ids,100),total=len(gene_ids)//100):\n",
    "#     r = requests.post(\"https://mygene.info/v3/gene?fields=go\",data={\"ids\":\",\".join(batch)})\n",
    "#     if r.status_code == 200:\n",
    "#         terms = r.json()\n",
    "#         responses.append(terms)\n",
    "#     else:\n",
    "#         print(r.status_code)"
   ]
  },
  {
   "cell_type": "markdown",
   "id": "9b142cfe",
   "metadata": {},
   "source": [
    "BP = Biological Process\n",
    "\n",
    "CC = Cellular Component\n",
    "\n",
    "MF = Molecular Function"
   ]
  },
  {
   "cell_type": "code",
   "execution_count": null,
   "id": "1b5a5301",
   "metadata": {},
   "outputs": [],
   "source": [
    "def extract(terms):\n",
    "    if terms is None:\n",
    "        ids = set()\n",
    "    elif type(terms) is dict:\n",
    "        ids = set([terms[\"qualifier\"]+\":\"+terms[\"id\"]])\n",
    "    else:\n",
    "        ids = set((t[\"qualifier\"]+\":\"+t[\"id\"] for t in terms))\n",
    "    return ids"
   ]
  },
  {
   "cell_type": "code",
   "execution_count": null,
   "id": "82db44d7",
   "metadata": {},
   "outputs": [],
   "source": [
    "terms = {\"BP\":set(), \"CC\": set(), \"MF\":set()}\n",
    "gene_results = {}\n",
    "nf = 0\n",
    "for response in responses:\n",
    "    for g in response:\n",
    "        if \"notfound\" in g and g[\"notfound\"]: nf += 1\n",
    "        if \"go\" not in g: continue\n",
    "        bpids = extract(g[\"go\"][\"BP\"] if \"BP\" in g[\"go\"] else set())\n",
    "        ccids = extract(g[\"go\"][\"CC\"] if \"CC\" in g[\"go\"] else set())\n",
    "        mfids = extract(g[\"go\"][\"MF\"] if \"MF\" in g[\"go\"] else set())\n",
    "        g_res = {\"bp\":bpids,\"cc\":ccids,\"mf\":mfids}\n",
    "        gene_results[g[\"query\"]] = g_res\n",
    "        terms[\"BP\"].update(bpids)\n",
    "        terms[\"CC\"].update(ccids)\n",
    "        terms[\"MF\"].update(mfids)"
   ]
  },
  {
   "cell_type": "code",
   "execution_count": null,
   "id": "e1452ab9",
   "metadata": {},
   "outputs": [],
   "source": [
    "nf"
   ]
  },
  {
   "cell_type": "code",
   "execution_count": null,
   "id": "7223d9b7",
   "metadata": {},
   "outputs": [],
   "source": [
    "len(gene_results)"
   ]
  },
  {
   "cell_type": "code",
   "execution_count": null,
   "id": "87659bfd",
   "metadata": {},
   "outputs": [],
   "source": [
    "len(terms[\"BP\"])"
   ]
  },
  {
   "cell_type": "code",
   "execution_count": null,
   "id": "ff7600b4",
   "metadata": {},
   "outputs": [],
   "source": [
    "import matplotlib.pyplot as plt"
   ]
  },
  {
   "cell_type": "code",
   "execution_count": null,
   "id": "5d9eccf8",
   "metadata": {},
   "outputs": [],
   "source": [
    "nbp = len(terms[\"BP\"])\n",
    "plt.hist([len(g[\"bp\"]) for g in gene_results.values()])"
   ]
  },
  {
   "cell_type": "markdown",
   "id": "729bdd08",
   "metadata": {},
   "source": [
    "# Issues with Using Gene Ontology\n",
    "[Gene Ontology](http://geneontology.org/docs/go-annotations/)\n",
    "* Gene products are annotated to the most granular term in the ontology that is supported by the available evidence.\n",
    "* By the transitivity principle, an annotation to a GO term implies annotation to all its parents\n"
   ]
  },
  {
   "cell_type": "code",
   "execution_count": null,
   "id": "29f6a11c",
   "metadata": {},
   "outputs": [],
   "source": [
    "huri"
   ]
  },
  {
   "cell_type": "code",
   "execution_count": null,
   "id": "f870540f",
   "metadata": {},
   "outputs": [],
   "source": [
    "gene_id_map = dict(zip(list(gene_ids),range(len(gene_ids))))"
   ]
  },
  {
   "cell_type": "code",
   "execution_count": null,
   "id": "dfc60c4f",
   "metadata": {},
   "outputs": [],
   "source": [
    "huri = huri.assign(ID_A=huri.A.apply(lambda ensg: gene_id_map[ensg]),\n",
    "                  ID_B=huri.B.apply(lambda ensg: gene_id_map[ensg]))"
   ]
  },
  {
   "cell_type": "code",
   "execution_count": null,
   "id": "a360e080",
   "metadata": {},
   "outputs": [],
   "source": [
    "huri"
   ]
  },
  {
   "cell_type": "code",
   "execution_count": null,
   "id": "35ddc3e4",
   "metadata": {},
   "outputs": [],
   "source": [
    "with open(\"/data/dzeiberg/ppi/HuRI/HI-union.edgelist\",\"w\") as f:\n",
    "    for a,b in zip(huri.ID_A,huri.ID_B):\n",
    "        f.write(f\"{a} {b}\\n\")\n",
    "        \n",
    "with open(\"/data/dzeiberg/ppi/HuRI/HI-union.weightedEdgeList\",\"w\") as f:\n",
    "    for a,b in zip(huri.ID_A,huri.ID_B):\n",
    "        f.write(f\"{a} {b} 1\\n\")"
   ]
  },
  {
   "cell_type": "code",
   "execution_count": null,
   "id": "c940407b",
   "metadata": {},
   "outputs": [],
   "source": [
    "import networkx as nx"
   ]
  },
  {
   "cell_type": "code",
   "execution_count": null,
   "id": "04443432",
   "metadata": {},
   "outputs": [],
   "source": [
    "G = nx.read_weighted_edgelist(\"/data/dzeiberg/ppi/HuRI/HI-union.weightedEdgeList\",nodetype=int)"
   ]
  },
  {
   "cell_type": "code",
   "execution_count": null,
   "id": "78a88452",
   "metadata": {},
   "outputs": [],
   "source": [
    "import nxmetis"
   ]
  },
  {
   "cell_type": "code",
   "execution_count": null,
   "id": "b6c2b3b4",
   "metadata": {},
   "outputs": [],
   "source": [
    "(cut,parts) = nxmetis.partition(G, 2)"
   ]
  },
  {
   "cell_type": "code",
   "execution_count": null,
   "id": "fa8f14d9",
   "metadata": {},
   "outputs": [],
   "source": [
    "cut/len(G.edges)"
   ]
  },
  {
   "cell_type": "code",
   "execution_count": null,
   "id": "fc3a6f86",
   "metadata": {},
   "outputs": [],
   "source": [
    "G_train,G_val = G.subgraph(parts[0]), G.subgraph(parts[1])"
   ]
  },
  {
   "cell_type": "code",
   "execution_count": null,
   "id": "9b6dd74d",
   "metadata": {},
   "outputs": [],
   "source": [
    "len(G_train.edges),len(G_val.edges)"
   ]
  },
  {
   "cell_type": "code",
   "execution_count": null,
   "id": "db6fa57b",
   "metadata": {},
   "outputs": [],
   "source": [
    "np.mean([G_train.degree(n) for n in G_train.nodes()])"
   ]
  },
  {
   "cell_type": "code",
   "execution_count": null,
   "id": "faafe600",
   "metadata": {},
   "outputs": [],
   "source": [
    "np.mean([G_val.degree(n) for n in G_val.nodes()])"
   ]
  },
  {
   "cell_type": "code",
   "execution_count": null,
   "id": "f813c3fa",
   "metadata": {},
   "outputs": [],
   "source": [
    "nx.write_edgelist(G_train,\"/data/dzeiberg/ppi/HuRI/HI-union.train.edgelist\")"
   ]
  },
  {
   "cell_type": "code",
   "execution_count": null,
   "id": "b8b45d1a",
   "metadata": {},
   "outputs": [],
   "source": [
    "nx.write_edgelist(G_val,\"/data/dzeiberg/ppi/HuRI/HI-union.val.edgelist\")"
   ]
  },
  {
   "cell_type": "markdown",
   "id": "6a794f9f",
   "metadata": {},
   "source": [
    "# Read in Node2Vec"
   ]
  },
  {
   "cell_type": "code",
   "execution_count": null,
   "id": "c7ddf18c",
   "metadata": {},
   "outputs": [],
   "source": [
    "import pandas as pd"
   ]
  },
  {
   "cell_type": "code",
   "execution_count": null,
   "id": "0bea9b6b",
   "metadata": {},
   "outputs": [],
   "source": [
    "n2vTrain = pd.read_csv(\"/data/dzeiberg/ppi/HuRI/HI-union.train.emb\",\n",
    "                       delimiter=\" \",\n",
    "                       skiprows=[0],header=None,index_col=0)\n",
    "\n",
    "n2vVal = pd.read_csv(\"/data/dzeiberg/ppi/HuRI/HI-union.val.emb\",\n",
    "                       delimiter=\" \",\n",
    "                       skiprows=[0],header=None,index_col=0)"
   ]
  },
  {
   "cell_type": "code",
   "execution_count": null,
   "id": "297108da",
   "metadata": {},
   "outputs": [],
   "source": [
    "n2vTrain"
   ]
  },
  {
   "cell_type": "markdown",
   "id": "681a27aa",
   "metadata": {},
   "source": [
    "# Read in Mutpred2 Results"
   ]
  },
  {
   "cell_type": "code",
   "execution_count": null,
   "id": "633381bd",
   "metadata": {},
   "outputs": [],
   "source": [
    "mp = pd.read_csv(\"data/y2hEdgotyping/mutpred2Results/variants.faa.out\")\n",
    "mp = mp.assign(ID=mp.ID.str.replace(\"db_orf_\",\"\"),\n",
    "              aa_change_mt=mp.Substitution.apply(lambda s: aaPairs[s[0]]+s[1:-1]+aaPairs[s[-1]]))"
   ]
  },
  {
   "cell_type": "code",
   "execution_count": null,
   "id": "200ba702",
   "metadata": {},
   "outputs": [],
   "source": [
    "mp"
   ]
  },
  {
   "cell_type": "code",
   "execution_count": null,
   "id": "d08ff054",
   "metadata": {},
   "outputs": [],
   "source": [
    "mp.columns"
   ]
  },
  {
   "cell_type": "code",
   "execution_count": null,
   "id": "c4eb6227",
   "metadata": {},
   "outputs": [],
   "source": [
    "mp.loc[0,\"Molecular mechanisms with Pr >= 0.01 and P < 0.99\"].split(\";\")"
   ]
  },
  {
   "cell_type": "markdown",
   "id": "6a935ac8",
   "metadata": {},
   "source": [
    "# Get the file and row number for each variant's mutpred2 features"
   ]
  },
  {
   "cell_type": "code",
   "execution_count": null,
   "id": "97ad06e3",
   "metadata": {},
   "outputs": [],
   "source": [
    "u_idx = np.stack((np.ones(len(mp)),\n",
    "                  np.zeros(len(mp))),axis=1)\n",
    "last = mp.ID.values[0]\n",
    "for i,v in enumerate(mp.ID.values[1:],start=1):\n",
    "    if v == last:\n",
    "        u_idx[i,0] = u_idx[i-1,0]\n",
    "        u_idx[i,1] = u_idx[i-1,1] + 1\n",
    "    else:\n",
    "        last = v\n",
    "        u_idx[i,0] = u_idx[i-1,0] + 1"
   ]
  },
  {
   "cell_type": "code",
   "execution_count": null,
   "id": "8a0afc8e",
   "metadata": {},
   "outputs": [],
   "source": [
    "mp = mp.assign(featFileNum=u_idx[:,0],fileRowNum=u_idx[:,1])"
   ]
  },
  {
   "cell_type": "code",
   "execution_count": null,
   "id": "790aacdf",
   "metadata": {},
   "outputs": [],
   "source": [
    "mp.ID = mp.ID.astype(int)"
   ]
  },
  {
   "cell_type": "markdown",
   "id": "06243c2e",
   "metadata": {},
   "source": [
    "# Merge dataframes"
   ]
  },
  {
   "cell_type": "code",
   "execution_count": null,
   "id": "a7589674",
   "metadata": {},
   "outputs": [],
   "source": [
    "df = pd.merge(y2h,mp,left_on=[\"db_orf_id\",\"aa_change_mt\"],\n",
    "        right_on=[\"ID\",\"aa_change_mt\"],validate=\"m:1\")"
   ]
  },
  {
   "cell_type": "code",
   "execution_count": null,
   "id": "fce178d7",
   "metadata": {},
   "outputs": [],
   "source": [
    "df"
   ]
  },
  {
   "cell_type": "code",
   "execution_count": null,
   "id": "8df35d1d",
   "metadata": {},
   "outputs": [],
   "source": [
    "#df.to_csv(\"data/y2hEdgotyping/y2hWithMutPred2Info.csv\")"
   ]
  },
  {
   "cell_type": "markdown",
   "id": "414588aa",
   "metadata": {},
   "source": [
    "# Define Score change at level 3"
   ]
  },
  {
   "cell_type": "code",
   "execution_count": null,
   "id": "ec93d76b",
   "metadata": {},
   "outputs": [],
   "source": [
    "df = df.assign(delta3=df.LWH25_f_wt - df.LWH25_f_mt)"
   ]
  },
  {
   "cell_type": "markdown",
   "id": "2f5b4e32",
   "metadata": {},
   "source": [
    "# Load Mutpred2 Features for each row"
   ]
  },
  {
   "cell_type": "code",
   "execution_count": null,
   "id": "bf3244aa",
   "metadata": {},
   "outputs": [],
   "source": [
    "df.db_n2v_idx.isna().any()"
   ]
  },
  {
   "cell_type": "code",
   "execution_count": null,
   "id": "b3e63df5",
   "metadata": {},
   "outputs": [],
   "source": [
    "gene_id_map"
   ]
  },
  {
   "cell_type": "code",
   "execution_count": null,
   "id": "cd17a63a",
   "metadata": {},
   "outputs": [],
   "source": [
    "df = df.assign(db_n2v_idx=df.db_ensembl_gene_id_mt.apply(lambda ensg: gene_id_map[ensg]),\n",
    "              ad_n2v_idx=df.ad_ensembl_gene_id_mt.apply(lambda ensg: gene_id_map[ensg]))"
   ]
  },
  {
   "cell_type": "code",
   "execution_count": null,
   "id": "6fd4e3fa",
   "metadata": {},
   "outputs": [],
   "source": [
    "n2vAll = pd.concat((n2vTrain,n2vVal))"
   ]
  },
  {
   "cell_type": "code",
   "execution_count": null,
   "id": "f5d4cf96",
   "metadata": {},
   "outputs": [],
   "source": [
    "def getfold(row):\n",
    "    if row.db_n2v_idx in n2vTrain.index and row.ad_n2v_idx in n2vTrain.index:\n",
    "        return 0\n",
    "    elif row.db_n2v_idx in n2vVal.index and row.ad_n2v_idx in n2vVal.index:\n",
    "        return 1\n",
    "    return 2"
   ]
  },
  {
   "cell_type": "code",
   "execution_count": null,
   "id": "106357b9",
   "metadata": {},
   "outputs": [],
   "source": [
    "from scipy.io import loadmat\n",
    "\n",
    "X = np.zeros((len(df),1345))\n",
    "foldNum = np.zeros(len(df))\n",
    "for idx_i in df.featFileNum.astype(int).unique():\n",
    "    idxmask = df.featFileNum == idx_i\n",
    "    rownums = df.fileRowNum[idxmask].astype(int)\n",
    "    f = loadmat(f\"data/y2hEdgotyping/mutpred2Results/variants.faa.out.feats_{idx_i}\")[\"feats\"]\n",
    "    X[idxmask,:] = f[rownums]\n",
    "    foldNum[idxmask] = df.loc[idxmask].apply(lambda row: getfold(row),axis=1)\n",
    "X2 = n2vAll.loc[df.db_n2v_idx].values\n",
    "X3 = n2vAll.loc[df.ad_n2v_idx].values\n",
    "\n",
    "# X = np.concatenate((X,X2,X3),axis=1)"
   ]
  },
  {
   "cell_type": "code",
   "execution_count": null,
   "id": "8f25c725",
   "metadata": {},
   "outputs": [],
   "source": [
    "np.unique(foldNum,return_counts=True)"
   ]
  },
  {
   "cell_type": "markdown",
   "id": "9c881066",
   "metadata": {},
   "source": [
    "# Define Target Task"
   ]
  },
  {
   "cell_type": "code",
   "execution_count": null,
   "id": "c2eee7bf",
   "metadata": {},
   "outputs": [],
   "source": [
    "y = df.delta3 >= 2"
   ]
  },
  {
   "cell_type": "markdown",
   "id": "3c896d60",
   "metadata": {},
   "source": [
    "# Train and validate Logistic Regression Model\n",
    "> Predict whether the mutation applied to db, represented by its mutpred2 features, will result in a score change at level 3 with the experiment's ad.\n",
    "\n",
    "> The limitations here are that the MutPred2 features are independent of the AD protein even though the target value is a function of DB, MT, and AD\n",
    "\n",
    "> The node2vec features are meaningless because the train and validation features are not in the same feature space"
   ]
  },
  {
   "cell_type": "code",
   "execution_count": null,
   "id": "53af5f93",
   "metadata": {},
   "outputs": [],
   "source": [
    "from sklearn.linear_model import LogisticRegression\n",
    "from sklearn.svm import SVC\n",
    "\n",
    "from sklearn.ensemble import RandomForestClassifier\n",
    "\n",
    "import matplotlib.pyplot as plt\n",
    "\n",
    "from sklearn.metrics import roc_auc_score"
   ]
  },
  {
   "cell_type": "code",
   "execution_count": null,
   "id": "490403ae",
   "metadata": {},
   "outputs": [],
   "source": [
    "clf = RandomForestClassifier(n_estimators=500,n_jobs=20)\n",
    "# clf = SVC(probability=True)\n",
    "# clf = LogisticRegression()\n",
    "\n",
    "clf.fit(X[foldNum==0],\n",
    "        y[foldNum==0])"
   ]
  },
  {
   "cell_type": "code",
   "execution_count": null,
   "id": "9bac37a8",
   "metadata": {},
   "outputs": [],
   "source": [
    "plt.hist(clf.predict_proba(X[foldNum==0])[:,1])"
   ]
  },
  {
   "cell_type": "code",
   "execution_count": null,
   "id": "cdcb7e8e",
   "metadata": {},
   "outputs": [],
   "source": [
    "valpreds = clf.predict_proba(X[foldNum==1])[:,1]"
   ]
  },
  {
   "cell_type": "code",
   "execution_count": null,
   "id": "a715341a",
   "metadata": {},
   "outputs": [],
   "source": [
    "plt.hist(valpreds[y[foldNum==1]])\n",
    "plt.hist(valpreds[~y[foldNum==1]],alpha=.5,color=\"red\")"
   ]
  },
  {
   "cell_type": "code",
   "execution_count": null,
   "id": "13064bee",
   "metadata": {},
   "outputs": [],
   "source": [
    "roc_auc_score(y[foldNum==1],valpreds)"
   ]
  },
  {
   "cell_type": "code",
   "execution_count": null,
   "id": "5461eb66",
   "metadata": {},
   "outputs": [],
   "source": []
  }
 ],
 "metadata": {
  "language_info": {
   "name": "python",
   "pygments_lexer": "ipython3"
  }
 },
 "nbformat": 4,
 "nbformat_minor": 5
}
