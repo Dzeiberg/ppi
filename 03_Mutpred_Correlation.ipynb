{
 "cells": [
  {
   "cell_type": "markdown",
   "id": "91681bf8",
   "metadata": {},
   "source": [
    "# Measuring the Correlation on MutPred2 Pathogenicity Score and Y2H Score Change\n",
    "> Here, I investigate if there is correlation between MutPred2 probability of pathogenicity and the change in Y2H assay scores resulting from mutations"
   ]
  },
  {
   "cell_type": "markdown",
   "id": "f4d1a1ce",
   "metadata": {},
   "source": [
    "## Read in MutPred2 Output"
   ]
  },
  {
   "cell_type": "code",
   "execution_count": null,
   "id": "052274e4",
   "metadata": {},
   "outputs": [],
   "source": [
    "import pandas as pd"
   ]
  },
  {
   "cell_type": "code",
   "execution_count": null,
   "id": "640f2720",
   "metadata": {},
   "outputs": [],
   "source": [
    "import seaborn as sns"
   ]
  },
  {
   "cell_type": "code",
   "execution_count": null,
   "id": "ac4fc5dc",
   "metadata": {},
   "outputs": [],
   "source": [
    "def validateSeqs(r):\n",
    "    ref,loc,alt = aaTable[r.aa_change_mt[:3]],int(r.aa_change_mt[3:-3]),aaTable[r.aa_change_mt[-3:]]\n",
    "    return (r.p_seq_db[loc-1] == ref) and (ref != alt)"
   ]
  },
  {
   "cell_type": "code",
   "execution_count": null,
   "id": "8a50c3ae",
   "metadata": {},
   "outputs": [],
   "source": [
    "aaPairs = {\"A\":\"Ala\", \"R\":\"Arg\", \"N\":\"Asn\", \"D\":\"Asp\",\n",
    "           \"C\":\"Cys\", \"E\":\"Glu\", \"Q\":\"Gln\", \"G\":\"Gly\",\n",
    "           \"H\":\"His\", \"I\":\"Ile\", \"L\":\"Leu\", \"K\":\"Lys\",\n",
    "           \"M\":\"Met\", \"F\":\"Phe\", \"P\":\"Pro\", \"S\":\"Ser\",\n",
    "           \"T\":\"Thr\", \"W\":\"Trp\", \"Y\":\"Tyr\", \"V\":\"Val\"}\n",
    "\n",
    "aaTable = dict(list(zip(*list(zip(*aaPairs.items()))[::-1])))"
   ]
  },
  {
   "cell_type": "code",
   "execution_count": null,
   "id": "d454933c",
   "metadata": {},
   "outputs": [],
   "source": [
    "mp = pd.read_csv(\"data/y2hEdgotyping/mutpred2Results/variants.faa.out\")"
   ]
  },
  {
   "cell_type": "code",
   "execution_count": null,
   "id": "328dccb8",
   "metadata": {},
   "outputs": [],
   "source": [
    "mp"
   ]
  },
  {
   "cell_type": "markdown",
   "id": "8a58e757",
   "metadata": {},
   "source": [
    "## Read in Y2H pre-processed version from nb_01"
   ]
  },
  {
   "cell_type": "code",
   "execution_count": null,
   "id": "64c71d5d",
   "metadata": {},
   "outputs": [],
   "source": [
    "y2h = pd.read_csv(\"data/y2hEdgotyping/y2HMerged.csv\",index_col=0)"
   ]
  },
  {
   "cell_type": "markdown",
   "id": "89221d3f",
   "metadata": {},
   "source": [
    "### Get the degree counts of each \"central node\""
   ]
  },
  {
   "cell_type": "code",
   "execution_count": null,
   "id": "5fad67aa",
   "metadata": {},
   "outputs": [],
   "source": [
    "y2h.groupby(by=[\"db_orf_id\",\"aa_change_mt\"]).ad_orf_id.count().sort_values()#.hist()"
   ]
  },
  {
   "cell_type": "markdown",
   "id": "d71f8adb",
   "metadata": {},
   "source": [
    "## Merge the MutPred2 and Y2H dataframes"
   ]
  },
  {
   "cell_type": "code",
   "execution_count": null,
   "id": "28ac9ccb",
   "metadata": {},
   "outputs": [],
   "source": [
    "mp = mp.assign(db_orf_id=mp.ID.apply(lambda s: s.replace(\"db_orf_\",\"\")),\n",
    "               aa_change_mt=mp.Substitution.apply(lambda s: aaPairs[s[0]]+s[1:-1]+aaPairs[s[-1]]))"
   ]
  },
  {
   "cell_type": "code",
   "execution_count": null,
   "id": "fee27c38",
   "metadata": {},
   "outputs": [],
   "source": [
    "mp"
   ]
  },
  {
   "cell_type": "code",
   "execution_count": null,
   "id": "6568732a",
   "metadata": {},
   "outputs": [],
   "source": [
    "y2h = y2h.assign(db_orf_id=y2h.db_orf_id.astype(str))"
   ]
  },
  {
   "cell_type": "code",
   "execution_count": null,
   "id": "436fba85",
   "metadata": {},
   "outputs": [],
   "source": [
    "y2h"
   ]
  },
  {
   "cell_type": "code",
   "execution_count": null,
   "id": "66b90db7",
   "metadata": {},
   "outputs": [],
   "source": [
    "df = pd.merge(y2h[y2h.apply(validateSeqs,axis=1)],mp,\n",
    "              left_on=[\"db_orf_id\",\"aa_change_mt\"],right_on=[\"db_orf_id\",\"aa_change_mt\"],\n",
    "              how=\"inner\")"
   ]
  },
  {
   "cell_type": "code",
   "execution_count": null,
   "id": "4bf92e8d",
   "metadata": {},
   "outputs": [],
   "source": [
    "df"
   ]
  },
  {
   "cell_type": "markdown",
   "id": "ec103300",
   "metadata": {},
   "source": [
    "# Calculate the relative score for each variant-PPI pair\n",
    "> Each row of df is composed of scores for a single PPI in 5 selective media (settings) before and after mutating one of the two interacting proteins.\n",
    "Each of the 10 scores can range from 0-4, indicating the number of technical replicates in which a colony grew.\n",
    "To measure the effect on a single protein-protein interaction for a variant, I calculate the change in counts for each of the 5 selective media. Previously, a change of 2 or more was interpreted as disrupting PPI"
   ]
  },
  {
   "cell_type": "code",
   "execution_count": null,
   "id": "0c7549fd",
   "metadata": {},
   "outputs": [],
   "source": [
    "import matplotlib.pyplot as plt"
   ]
  },
  {
   "cell_type": "code",
   "execution_count": null,
   "id": "3ef55dbb",
   "metadata": {},
   "outputs": [],
   "source": [
    "df = df.assign(delta1=df.apply(lambda r: r.LWH1_f_wt-r.LWH1_f_mt,axis=1),\n",
    "               delta2=df.apply(lambda r: r.LWH10_f_wt-r.LWH10_f_mt,axis=1),\n",
    "               delta3=df.apply(lambda r: r.LWH25_f_wt-r.LWH25_f_mt,axis=1),\n",
    "               delta4=df.apply(lambda r: r.LWA_f_wt-r.LWA_f_mt,axis=1),\n",
    "               delta5=df.apply(lambda r: r.LWAH1_f_wt-r.LWAH1_f_mt,axis=1))"
   ]
  },
  {
   "cell_type": "code",
   "execution_count": null,
   "id": "0573f704",
   "metadata": {},
   "outputs": [],
   "source": [
    "preview = df[[\"ad_orf_id\", \"db_orf_id\",\"Substitution\",\"delta1\",\"delta2\",\"delta3\",\"delta4\",\"delta5\"]].dropna()"
   ]
  },
  {
   "cell_type": "code",
   "execution_count": null,
   "id": "9d9d6872",
   "metadata": {},
   "outputs": [],
   "source": [
    "df = df[~df[[\"ad_orf_id\", \"db_orf_id\",\"Substitution\",\n",
    "             \"delta1\",\"delta2\",\"delta3\",\"delta4\",\"delta5\"]].isna().any(1)]"
   ]
  },
  {
   "cell_type": "code",
   "execution_count": null,
   "id": "d4b9e3fe",
   "metadata": {},
   "outputs": [],
   "source": [
    "df"
   ]
  },
  {
   "cell_type": "code",
   "execution_count": null,
   "id": "b723ade0",
   "metadata": {},
   "outputs": [],
   "source": [
    "import numpy as np"
   ]
  },
  {
   "cell_type": "code",
   "execution_count": null,
   "id": "f37e6925",
   "metadata": {},
   "outputs": [],
   "source": [
    "preview.delta1 = preview.delta1.astype(np.int32)\n",
    "preview.delta2 = preview.delta2.astype(np.int32) \n",
    "preview.delta3 = preview.delta3.astype(np.int32) \n",
    "preview.delta4 = preview.delta4.astype(np.int32) \n",
    "preview.delta5 = preview.delta5.astype(np.int32) "
   ]
  },
  {
   "cell_type": "code",
   "execution_count": null,
   "id": "c4998a99",
   "metadata": {},
   "outputs": [],
   "source": [
    "preview"
   ]
  },
  {
   "cell_type": "markdown",
   "id": "892ebc7b",
   "metadata": {},
   "source": [
    "## Parse probabilities and p-values of the functional effects of each variant estimated by MutPred2"
   ]
  },
  {
   "cell_type": "code",
   "execution_count": null,
   "id": "c07255e0",
   "metadata": {},
   "outputs": [],
   "source": [
    "import re"
   ]
  },
  {
   "cell_type": "code",
   "execution_count": null,
   "id": "da622cfb",
   "metadata": {},
   "outputs": [],
   "source": [
    "def getFloats(s):\n",
    "    numeric_const_pattern = '[-+]? (?: (?: \\d* \\. \\d+ ) | (?: \\d+ \\.? ) )(?: [Ee] [+-]? \\d+ ) ?'\n",
    "    rx = re.compile(numeric_const_pattern,re.VERBOSE)\n",
    "    return [float(f) for f in rx.findall(s)]"
   ]
  },
  {
   "cell_type": "code",
   "execution_count": null,
   "id": "2d078bad",
   "metadata": {},
   "outputs": [],
   "source": [
    "ppiVals = []\n",
    "for s in df[\"Molecular mechanisms with Pr >= 0.01 and P < 0.99\"]:\n",
    "    ppiVals.append(dict([(si[:si.find(\"(\")].strip(),getFloats(si)) for si in s.split(\";\") if \"Altered PPI_residue\" in si or \\\n",
    "                        \"Altered PPI_hotspot\" in si or \"Altered MoRF\" in si]))"
   ]
  },
  {
   "cell_type": "code",
   "execution_count": null,
   "id": "0ad19dce",
   "metadata": {},
   "outputs": [],
   "source": [
    "df = df.assign(ppiVals=ppiVals)"
   ]
  },
  {
   "cell_type": "code",
   "execution_count": null,
   "id": "75c947a9",
   "metadata": {},
   "outputs": [],
   "source": [
    "df"
   ]
  },
  {
   "cell_type": "code",
   "execution_count": null,
   "id": "216d3aa3",
   "metadata": {},
   "outputs": [],
   "source": [
    "df.groupby([\"db_orf_id\",\"aa_change_mt\"]).count()"
   ]
  },
  {
   "cell_type": "code",
   "execution_count": null,
   "id": "5cf01555",
   "metadata": {},
   "outputs": [],
   "source": [
    "df.ad_ensembl_gene_id_mt"
   ]
  },
  {
   "cell_type": "code",
   "execution_count": null,
   "id": "0be2f111",
   "metadata": {},
   "outputs": [],
   "source": []
  },
  {
   "cell_type": "markdown",
   "id": "d0a28d79",
   "metadata": {},
   "source": [
    "## Prepare for Plotting"
   ]
  },
  {
   "cell_type": "code",
   "execution_count": null,
   "id": "30fc3223",
   "metadata": {},
   "outputs": [],
   "source": [
    "def getVal(d,key):\n",
    "    if key in d:\n",
    "        return d[key][0]\n",
    "    return np.nan"
   ]
  },
  {
   "cell_type": "code",
   "execution_count": null,
   "id": "c3581c2a",
   "metadata": {},
   "outputs": [],
   "source": [
    "grp = df.groupby([\"db_orf_id\",\"aa_change_mt\"])\n",
    "GAIN_OR_LOSS = False\n",
    "vals = np.zeros((len(grp),15))\n",
    "keys = []\n",
    "for i,(idx,g) in enumerate(grp):\n",
    "    keys.append(idx)\n",
    "    for j in range(1,6):\n",
    "        if GAIN_OR_LOSS:\n",
    "            vals[i,j-1] = (np.abs(g[f\"delta{j}\"]) >= 2).mean()\n",
    "            vals[i,5+j-1] = (np.abs(g[f\"delta{j}\"]) >= 2).sum()\n",
    "        else:\n",
    "            vals[i,j-1] = (g[f\"delta{j}\"] >= 2).mean()\n",
    "            vals[i,5+j-1] = (g[f\"delta{j}\"] >= 2).sum()\n",
    "    vals[i,-5] = np.nanmean(g[\"ppiVals\"].apply(lambda d: getVal(d,\"Altered PPI_residue\")))\n",
    "    vals[i,-4] = np.nanmean(g[\"ppiVals\"].apply(lambda d: getVal(d,\"Altered PPI_hotspot\")))\n",
    "    vals[i,-3] = np.nanmean(g[\"ppiVals\"].apply(lambda d: getVal(d,\"Altered MoRF\")))\n",
    "    vals[i,-2] = g[\"MutPred2 score\"].mean()\n",
    "    vals[i,-1] = len(g)"
   ]
  },
  {
   "cell_type": "code",
   "execution_count": null,
   "id": "06c6829a",
   "metadata": {},
   "outputs": [],
   "source": [
    "statDF = pd.DataFrame(vals,columns=[f\"fD{i}\" for i in range(5)]+[f\"numD{i}\" for i in range(5)] + [\"AlteredPPIResiduePr\",\n",
    "                                                                                                  \"AlteredPPIHotspotPr\",\n",
    "                                                                                                  \"AlteredMoRFPr\",\n",
    "                                                                                                  \"MutPred2 score\",\n",
    "                                                                                                  \"db_degree\"],\n",
    "                      index=pd.MultiIndex.from_tuples(keys))"
   ]
  },
  {
   "cell_type": "code",
   "execution_count": null,
   "id": "6c69dbbe",
   "metadata": {},
   "outputs": [],
   "source": [
    "statDF.to_csv(\"data/y2hEdgotyping/variantStatistics.csv\")"
   ]
  },
  {
   "cell_type": "code",
   "execution_count": null,
   "id": "101e5ff8",
   "metadata": {},
   "outputs": [],
   "source": [
    "statDF"
   ]
  },
  {
   "cell_type": "code",
   "execution_count": null,
   "id": "4df1c71b",
   "metadata": {},
   "outputs": [],
   "source": [
    "statDF.numD2.value_counts().sort_index()"
   ]
  },
  {
   "cell_type": "code",
   "execution_count": null,
   "id": "81137ded",
   "metadata": {},
   "outputs": [],
   "source": [
    "def mpDigitize(mpScore):\n",
    "    bins = np.ones_like(mpScore).astype(float) * np.nan\n",
    "    for i,s in enumerate(mpScore):\n",
    "        if s <= .01:\n",
    "            bins[i] = 0\n",
    "        elif s <= .197:\n",
    "            bins[i] = 1\n",
    "        elif s <= .391:\n",
    "            bins[i] = 2\n",
    "        elif s < .737:\n",
    "            bins[i] = 3\n",
    "        elif s < .829:\n",
    "            bins[i] = 4\n",
    "        elif s < .932:\n",
    "            bins[i] = 5\n",
    "        elif s >= .932:\n",
    "            bins[i] = 6\n",
    "        else:\n",
    "            raise ValueError(f\"Couldn't bin value {s}\")\n",
    "    return bins.astype(int)"
   ]
  },
  {
   "cell_type": "code",
   "execution_count": null,
   "id": "11e53006",
   "metadata": {},
   "outputs": [],
   "source": [
    "NBINS=5\n",
    "MINDEGREE = 1\n",
    "MAXDEGREE = np.inf\n",
    "suffDf = statDF[(statDF.db_degree >= MINDEGREE) & (statDF.db_degree < MAXDEGREE)].dropna()\n",
    "mpPercentiles = np.percentile(suffDf[\"MutPred2 score\"],\n",
    "                        np.arange(100/NBINS,100,100/NBINS))\n",
    "altResPercentiles = np.nanpercentile(suffDf[\"AlteredPPIResiduePr\"],\n",
    "                        np.arange(100/NBINS,100,100/NBINS))\n",
    "altHotPercentiles = np.nanpercentile(suffDf[\"AlteredPPIHotspotPr\"],\n",
    "                        np.arange(100/NBINS,100,100/NBINS))\n",
    "altMoRFPercentiles = np.nanpercentile(suffDf[\"AlteredMoRFPr\"],\n",
    "                        np.arange(100/NBINS,100,100/NBINS))\n",
    "\n",
    "suffDf = suffDf.assign(MutPred2ScoreBin=np.digitize(suffDf[\"MutPred2 score\"],\n",
    "                                                   mpPercentiles,right=True),\n",
    "                      MutPred2PaperBin=mpDigitize(suffDf[\"MutPred2 score\"]),\n",
    "                      alteredResidueBin=np.digitize(suffDf[\"AlteredPPIResiduePr\"],\n",
    "                                                   altResPercentiles, right=True),\n",
    "                      alteredHotspotBin=np.digitize(suffDf[\"AlteredPPIHotspotPr\"],\n",
    "                                                   altHotPercentiles, right=True),\n",
    "                      alteredMoRFBin=np.digitize(suffDf[\"AlteredMoRFPr\"],\n",
    "                                                   altMoRFPercentiles, right=True))"
   ]
  },
  {
   "cell_type": "code",
   "execution_count": null,
   "id": "7cdb9094",
   "metadata": {},
   "outputs": [],
   "source": [
    "from matplotlib.colors import ListedColormap"
   ]
  },
  {
   "cell_type": "code",
   "execution_count": null,
   "id": "ba3b6cd0",
   "metadata": {},
   "outputs": [],
   "source": [
    "cm = ListedColormap(sns.color_palette(\"GnBu\", 4))"
   ]
  },
  {
   "cell_type": "markdown",
   "id": "22cb3188",
   "metadata": {},
   "source": [
    "## Plot"
   ]
  },
  {
   "cell_type": "code",
   "execution_count": null,
   "id": "16874128",
   "metadata": {},
   "outputs": [],
   "source": [
    "def makePlot(gb,ax,xlab,ticks,lgndLoc=\"upper left\",width=.75,byCount=False,lgnd=False,yLab=False):\n",
    "    if byCount:\n",
    "        counts = np.zeros((len(gb),4))\n",
    "        numDCutoffs = [1,5,10]\n",
    "        indices = []\n",
    "        for i,(idx,g) in enumerate(gb):\n",
    "            indices.append(idx)\n",
    "            groupBins = np.digitize(g,numDCutoffs,right=True)\n",
    "            binNum,binCount = np.unique(groupBins,return_counts=True)\n",
    "            counts[i,binNum] += binCount\n",
    "        for binNum,binHeights in enumerate(counts.T):\n",
    "            if binNum == 0:\n",
    "                lbl = \"0\"\n",
    "            elif binNum == len(numDCutoffs):\n",
    "                lbl = \"10+\"\n",
    "            else:\n",
    "                lbl = f\"({numDCutoffs[binNum-1]},{numDCutoffs[binNum]}]\"\n",
    "            ax.bar(np.array(indices) + ((binNum/4.0) - .5) * width,\n",
    "                  height=binHeights,width=width/4,\n",
    "                  color=cm(binNum),label=lbl)\n",
    "    else:\n",
    "        lowCut,highCut = np.arange(0,1,.25),np.arange(.25,1.25,.25)\n",
    "        highCut[-1] = 1.01\n",
    "        counts = [gb.aggregate(lambda fracs: ((fracs >= c[0]) & (fracs < c[1])).sum()) for c in zip(lowCut,highCut)]\n",
    "        for i,height in enumerate(counts,start=0):\n",
    "            if i == len(counts)-1:\n",
    "                lbl = \"[0.75,1.0]\"\n",
    "            else:\n",
    "                lbl = f\"[{lowCut[i]},{highCut[i]})\"\n",
    "            ax.bar(height.index +((i/4.0) - .5) * width,\n",
    "                      height=height.values,width=width/4,\n",
    "                     color=cm(i),label=lbl)\n",
    "    ax.set_xlabel(xlab)\n",
    "    if yLab:\n",
    "        ax.set_ylabel(\"Number Mutations\")\n",
    "    \n",
    "    ax.set_xticks(np.arange(len(ticks)).astype(int))\n",
    "    ax.set_xticklabels(ticks)\n",
    "    ax.set_xlim(-1,len(ticks))\n",
    "    handles, labels = ax.get_legend_handles_labels()\n",
    "    if lgnd:\n",
    "        box = ax.get_position()\n",
    "        ax.set_position([box.x0, box.y0, box.width * 0.8, box.height])\n",
    "        ax.legend(handles[::-1], labels[::-1],loc='center left', bbox_to_anchor=(1, 0.5))\n",
    "\n",
    "    #     ax.legend(, loc=lgndLoc)"
   ]
  },
  {
   "cell_type": "code",
   "execution_count": null,
   "id": "caba71c6",
   "metadata": {},
   "outputs": [],
   "source": [
    "for d in range(5):\n",
    "    fig,ax = plt.subplots(1,5,figsize=(24,6),sharey=True)\n",
    "    \n",
    "#     makePlot(suffDf.groupby(\"MutPred2ScoreBin\")[f\"fD{d}\"],ax[0],\"MutPred2 Score Quantile\",\n",
    "#             np.arange(NBINS),\"upper right\")\n",
    "    \n",
    "#     makePlot(suffDf.groupby(\"MutPred2PaperBin\")[f\"fD{d}\"],ax[1],\"ClinGen SVI WG Recommendation\",\n",
    "#             [\"B3\",\"B2\",\"B1\",\"-\",\"P1\",\"P2\",\"P3\"])\n",
    "    \n",
    "#     makePlot(suffDf.groupby(\"alteredResidueBin\")[f\"fD{d}\"],ax[2],\"Altered PPI Residue Quantile\",\n",
    "#             np.arange(NBINS))\n",
    "    \n",
    "#     makePlot(suffDf.groupby(\"alteredHotspotBin\")[f\"fD{d}\"],ax[3],\"Altered PPI Hotspot Quantile\",\n",
    "#             np.arange(NBINS))\n",
    "    \n",
    "#     makePlot(suffDf.groupby(\"alteredMoRFBin\")[f\"fD{d}\"],ax[4],\"Altered MoRF Quantile\",\n",
    "#             np.arange(NBINS),lgnd=True)\n",
    "\n",
    "    makePlot(suffDf.groupby(\"MutPred2ScoreBin\")[f\"numD{d}\"],ax[0],\"MutPred2 Score Quantile\",\n",
    "            np.arange(NBINS),\"upper right\",byCount=True,yLab=True)\n",
    "    \n",
    "    makePlot(suffDf.groupby(\"MutPred2PaperBin\")[f\"numD{d}\"],ax[1],\"MutPred2 Score ClinGen SVI WG Recommendation\",\n",
    "            [\"B3\",\"B2\",\"B1\",\"-\",\"P1\",\"P2\",\"P3\"],byCount=True)\n",
    "    \n",
    "    makePlot(suffDf.groupby(\"alteredResidueBin\")[f\"numD{d}\"],ax[2],\"Altered PPI Residue Quantile\",\n",
    "            np.arange(NBINS),byCount=True)\n",
    "    \n",
    "    makePlot(suffDf.groupby(\"alteredHotspotBin\")[f\"numD{d}\"],ax[3],\"Altered PPI Hotspot Quantile\",\n",
    "            np.arange(NBINS),byCount=True)\n",
    "    \n",
    "    makePlot(suffDf.groupby(\"alteredMoRFBin\")[f\"numD{d}\"],ax[4],\"Altered MoRF Quantile\",\n",
    "            np.arange(NBINS),byCount=True,lgnd=True)\n",
    "    if GAIN_OR_LOSS:\n",
    "        fig.suptitle(f\"Level {d+1} - Number of PPIs Affected |WT-MT| >= 2\")\n",
    "    else:\n",
    "        fig.suptitle(f\"Level {d+1} - Number of PPIs Affected (WT-MT) >= 2\")\n",
    "#     plt.savefig(f\"figs/mutPredCorrelation_lvl_{d+1}.pdf\",format=\"pdf\")\n",
    "#     plt.savefig(f\"figs/mutPredCorrelation_lvl_{d+1}.jpg\",format=\"jpg\")\n",
    "    plt.show()\n",
    "    "
   ]
  },
  {
   "cell_type": "code",
   "execution_count": null,
   "id": "dfe4b5d6",
   "metadata": {},
   "outputs": [],
   "source": [
    "from sklearn.metrics import roc_auc_score"
   ]
  },
  {
   "cell_type": "code",
   "execution_count": null,
   "id": "693c2fb2",
   "metadata": {},
   "outputs": [],
   "source": [
    "roc_auc_score((suffDf.numD2 > 0).values,\n",
    "              suffDf[\"MutPred2 score\"].values)"
   ]
  },
  {
   "cell_type": "code",
   "execution_count": null,
   "id": "a9eadc66",
   "metadata": {},
   "outputs": [],
   "source": [
    "roc_auc_score((suffDf.numD2 > 0).values,\n",
    "              suffDf[\"AlteredPPIResiduePr\"].values)"
   ]
  },
  {
   "cell_type": "code",
   "execution_count": null,
   "id": "23e06c33",
   "metadata": {},
   "outputs": [],
   "source": [
    "roc_auc_score((suffDf.numD2 > 0).values,\n",
    "              suffDf[\"AlteredPPIHotspotPr\"].values)"
   ]
  },
  {
   "cell_type": "code",
   "execution_count": null,
   "id": "ccaf87a8",
   "metadata": {},
   "outputs": [],
   "source": [
    "roc_auc_score((suffDf.numD2 > 0).values,\n",
    "              suffDf[\"AlteredMoRFPr\"].values)"
   ]
  },
  {
   "cell_type": "code",
   "execution_count": null,
   "id": "7224424e",
   "metadata": {},
   "outputs": [],
   "source": [
    "suffDf"
   ]
  },
  {
   "cell_type": "code",
   "execution_count": null,
   "id": "6aeb6c59",
   "metadata": {},
   "outputs": [],
   "source": []
  }
 ],
 "metadata": {
  "language_info": {
   "name": "python",
   "pygments_lexer": "ipython3"
  }
 },
 "nbformat": 4,
 "nbformat_minor": 5
}
