{
 "cells": [
  {
   "cell_type": "code",
   "execution_count": null,
   "id": "6b0a1c22",
   "metadata": {},
   "outputs": [],
   "source": [
    "import networkx as nx"
   ]
  },
  {
   "cell_type": "code",
   "execution_count": null,
   "id": "bc336537",
   "metadata": {},
   "outputs": [],
   "source": [
    "import pandas as pd"
   ]
  },
  {
   "cell_type": "markdown",
   "id": "54701349",
   "metadata": {},
   "source": [
    "# Load HuRI"
   ]
  },
  {
   "cell_type": "code",
   "execution_count": null,
   "id": "f82f0474",
   "metadata": {},
   "outputs": [],
   "source": [
    "huri = pd.read_csv(\"data/HuRI/HI-union.tsv\",\n",
    "                   delimiter=\"\\t\",\n",
    "                   header=None)"
   ]
  },
  {
   "cell_type": "code",
   "execution_count": null,
   "id": "2b1637e9",
   "metadata": {},
   "outputs": [],
   "source": [
    "huri"
   ]
  },
  {
   "cell_type": "markdown",
   "id": "eb42bbfe",
   "metadata": {},
   "source": [
    "# Make networkx graph for HuRI"
   ]
  },
  {
   "cell_type": "code",
   "execution_count": null,
   "id": "02d48506",
   "metadata": {},
   "outputs": [],
   "source": [
    "G = nx.from_edgelist(list(zip(huri[0],huri[1])))"
   ]
  },
  {
   "cell_type": "markdown",
   "id": "e7e1e5b9",
   "metadata": {},
   "source": [
    "# Load Processed Edgotyping Data"
   ]
  },
  {
   "cell_type": "code",
   "execution_count": null,
   "id": "bf0de015",
   "metadata": {},
   "outputs": [],
   "source": [
    "df = pd.read_csv(\"data/y2hEdgotyping/y2hWithMutPred2Info.csv\",index_col=0)"
   ]
  },
  {
   "cell_type": "code",
   "execution_count": null,
   "id": "cf413799",
   "metadata": {},
   "outputs": [],
   "source": [
    "df"
   ]
  },
  {
   "cell_type": "markdown",
   "id": "1b493ee0",
   "metadata": {},
   "source": [
    "# Get Unique Nodes in Edgotyping Graph"
   ]
  },
  {
   "cell_type": "code",
   "execution_count": null,
   "id": "8b46861e",
   "metadata": {},
   "outputs": [],
   "source": [
    "nodes = pd.concat((df[[\"db_ensembl_gene_id_mt\",\"p_seq_db\"]].rename({\"db_ensembl_gene_id_mt\":\"ensembl_gene_id\",\n",
    "                                                                       \"p_seq_db\":\"p_seq\"},axis=1),\n",
    "             df[[\"ad_ensembl_gene_id_mt\",\"p_seq_ad\"]].rename({\"ad_ensembl_gene_id_mt\":\"ensembl_gene_id\",\n",
    "                                                                       \"p_seq_ad\":\"p_seq\"},axis=1))).drop_duplicates().reset_index()"
   ]
  },
  {
   "cell_type": "markdown",
   "id": "346de766",
   "metadata": {},
   "source": [
    "# Write sequences to csv files in batches of 100 for Uniprot Peptide Search"
   ]
  },
  {
   "cell_type": "code",
   "execution_count": null,
   "id": "9871122c",
   "metadata": {},
   "outputs": [],
   "source": [
    "for fNum,startIdx in enumerate(np.arange(0,len(nodes),100)):\n",
    "    with open(f\"data/y2hEdgotyping/sequences_{fNum}.csv\",\"w\") as f:\n",
    "        for idx,n in nodes.iloc[startIdx:startIdx+100].iterrows():\n",
    "            f.write(f\"{n.p_seq}\\n\")"
   ]
  },
  {
   "cell_type": "markdown",
   "id": "a61881c8",
   "metadata": {},
   "source": [
    "# Write Edgotyping Sequences to fasta for blastp search"
   ]
  },
  {
   "cell_type": "code",
   "execution_count": null,
   "id": "74100bcc",
   "metadata": {},
   "outputs": [],
   "source": [
    "with open(\"data/y2hEdgotyping/sequences.fasta\",\"w\") as f:\n",
    "    for idx,(_,ensg,seq) in nodes.iterrows():\n",
    "        f.write(f\">{ensg}\\n{seq}\\n\")"
   ]
  },
  {
   "cell_type": "markdown",
   "id": "ec70bfb4",
   "metadata": {},
   "source": [
    "# Make Edgotyping networkx graph"
   ]
  },
  {
   "cell_type": "code",
   "execution_count": null,
   "id": "bfbfea55",
   "metadata": {},
   "outputs": [],
   "source": [
    "y2hNetwork = nx.MultiGraph()\n",
    "\n",
    "for idx,row in df[[\"db_ensembl_gene_id_mt\",\"db_orf_id\",\"p_seq_db\",\"symbol_db\"]].drop_duplicates().iterrows():\n",
    "    y2hNetwork.add_node(row.db_ensembl_gene_id_mt,orf_id=row.db_orf_id,seq=row.p_seq_db, symbol=row.symbol_db)\n",
    "    \n",
    "for idx,row in df[[\"ad_ensembl_gene_id_mt\",\"ad_orf_id\",\"p_seq_ad\",\"symbol_ad\"]].drop_duplicates().iterrows():\n",
    "    y2hNetwork.add_node(row.ad_ensembl_gene_id_mt,orf_id=row.ad_orf_id,seq=row.p_seq_ad, symbol=row.symbol_ad)"
   ]
  },
  {
   "cell_type": "code",
   "execution_count": null,
   "id": "5dcba35a",
   "metadata": {},
   "outputs": [],
   "source": [
    "df"
   ]
  },
  {
   "cell_type": "code",
   "execution_count": null,
   "id": "1bee3dff",
   "metadata": {},
   "outputs": [],
   "source": [
    "for idx,r in df[[\"db_ensembl_gene_id_mt\", \"ad_ensembl_gene_id_mt\",\"db_mut_id_mt\",\"aa_change_mt\",\n",
    "    \"clinical_significance_mt\",\"nt_change_mt\",\"Substitution\",\"MutPred2 score\",\n",
    "    'Molecular mechanisms with Pr >= 0.01 and P < 0.99',\n",
    "    'Motif information', 'Remarks', 'featFileNum', 'fileRowNum',\n",
    "    \"LW_mt\", \"LWH1_f_mt\", \"LWH10_f_mt\", \"LWH25_f_mt\", \"LWA_f_mt\",\"LWAH1_f_mt\",\"score_mt\", \"score_norm_mt\",\n",
    "    'LW_wt','LWH1_f_wt', 'LWH10_f_wt', 'LWH25_f_wt', 'LWA_f_wt', 'LWAH1_f_wt',\"score_wt\", \"score_norm_wt\"]].iterrows():\n",
    "    y2hNetwork.add_edge(r[0],r[1],**r.to_dict())"
   ]
  },
  {
   "cell_type": "code",
   "execution_count": null,
   "id": "1c451ddc",
   "metadata": {},
   "outputs": [],
   "source": [
    "len(y2hNetwork.edges)"
   ]
  },
  {
   "cell_type": "code",
   "execution_count": null,
   "id": "e7711915",
   "metadata": {},
   "outputs": [],
   "source": [
    "for e in G.edges():\n",
    "    G.edges[e][\"weight\"] = 1 if y2hNetwork.has_edge(*e) else 0"
   ]
  },
  {
   "cell_type": "code",
   "execution_count": null,
   "id": "0459ed3b",
   "metadata": {},
   "outputs": [],
   "source": [
    "sum([e[2][\"weight\"] for e in G.edges.data()])"
   ]
  },
  {
   "cell_type": "markdown",
   "id": "aca96008",
   "metadata": {},
   "source": [
    "# pymetis example"
   ]
  },
  {
   "cell_type": "code",
   "execution_count": null,
   "id": "318a653b",
   "metadata": {},
   "outputs": [],
   "source": [
    "metisAdj = {1: [2,3,5],\n",
    "            2: [1,3,4],\n",
    "            3: [1,2,4,5],\n",
    "            4: [2,3,6,7],\n",
    "            5: [1,3,6],\n",
    "            6: [5,4,7],\n",
    "            7: [4,6]}\n",
    "metisAdj = {k-1:[vi-1 for vi in v] for k,v in metisAdj.items()}"
   ]
  },
  {
   "cell_type": "code",
   "execution_count": null,
   "id": "127f6d20",
   "metadata": {},
   "outputs": [],
   "source": [
    "mg = nx.from_dict_of_lists(metisAdj)"
   ]
  },
  {
   "cell_type": "code",
   "execution_count": null,
   "id": "cdb0ea0a",
   "metadata": {},
   "outputs": [],
   "source": [
    "nx.draw_networkx(mg)"
   ]
  },
  {
   "cell_type": "code",
   "execution_count": null,
   "id": "884d5c1f",
   "metadata": {},
   "outputs": [],
   "source": [
    "def toMetisFormat(MG):\n",
    "    xadj = [0]\n",
    "    adjncy = []\n",
    "    weight = []\n",
    "    nodemap = dict(zip(list(MG.nodes()),range(len(MG.nodes()))))\n",
    "    for n in MG.nodes():\n",
    "        neighbors = list(MG.neighbors(n))\n",
    "        adjncy += [nodemap[ni] for ni in neighbors]\n",
    "        xadj.append(len(neighbors) + xadj[-1])\n",
    "        edgeweights = []\n",
    "        for ni in neighbors:\n",
    "            if \"weight\" in MG.edges()[(n,ni)]:\n",
    "                edgeweights.append(MG.edges()[(n,ni)][\"weight\"])\n",
    "            else:\n",
    "                edgeweights.append(1)\n",
    "        weight += edgeweights\n",
    "    return xadj, adjncy,weight,{v:k for k,v in nodemap.items()}"
   ]
  },
  {
   "cell_type": "code",
   "execution_count": null,
   "id": "4bd373ac",
   "metadata": {},
   "outputs": [],
   "source": [
    "xadj,adjncy,weight,nodemap = toMetisFormat(mg)"
   ]
  },
  {
   "cell_type": "code",
   "execution_count": null,
   "id": "a8f43827",
   "metadata": {},
   "outputs": [],
   "source": [
    "import pymetis"
   ]
  },
  {
   "cell_type": "code",
   "execution_count": null,
   "id": "2f3433c4",
   "metadata": {},
   "outputs": [],
   "source": [
    "n_cuts,membership = pymetis.part_graph(2,xadj=xadj,adjncy=adjncy,eweights=weight)"
   ]
  },
  {
   "cell_type": "code",
   "execution_count": null,
   "id": "7dc99c30",
   "metadata": {},
   "outputs": [],
   "source": [
    "n_cuts"
   ]
  },
  {
   "cell_type": "code",
   "execution_count": null,
   "id": "effbcd8c",
   "metadata": {},
   "outputs": [],
   "source": [
    "membership"
   ]
  },
  {
   "cell_type": "code",
   "execution_count": null,
   "id": "456d154f",
   "metadata": {},
   "outputs": [],
   "source": [
    "np.array([n for n in mg.nodes()])[np.array(membership) == 1]"
   ]
  },
  {
   "cell_type": "markdown",
   "id": "749c7cf9",
   "metadata": {},
   "source": [
    "# Apply to HuRI"
   ]
  },
  {
   "cell_type": "code",
   "execution_count": null,
   "id": "cc160519",
   "metadata": {},
   "outputs": [],
   "source": [
    "hu_xadj,hu_adjncy,hu_weight,hu_nodemap = toMetisFormat(G)"
   ]
  },
  {
   "cell_type": "code",
   "execution_count": null,
   "id": "5c25acd0",
   "metadata": {},
   "outputs": [],
   "source": [
    "import pymetis"
   ]
  },
  {
   "cell_type": "code",
   "execution_count": null,
   "id": "7bb452cf",
   "metadata": {},
   "outputs": [],
   "source": [
    "hu_n_cuts,hu_membership = pymetis.part_graph(3,xadj=hu_xadj,\n",
    "                                             adjncy=hu_adjncy,\n",
    "                                             eweights=hu_weight)"
   ]
  },
  {
   "cell_type": "code",
   "execution_count": null,
   "id": "8a7a56a9",
   "metadata": {},
   "outputs": [],
   "source": [
    "hu_n_cuts"
   ]
  },
  {
   "cell_type": "code",
   "execution_count": null,
   "id": "ca75a47e",
   "metadata": {},
   "outputs": [],
   "source": [
    "np.unique(hu_membership,return_counts=True)"
   ]
  },
  {
   "cell_type": "code",
   "execution_count": null,
   "id": "6a71f2c5",
   "metadata": {},
   "outputs": [],
   "source": [
    "trainIDs = [hu_nodemap[i] for i in np.argwhere(np.array(hu_membership) == 0).ravel()]\n",
    "G_train = G.subgraph(trainIDs)\n",
    "y2hNetwork_train = y2hNetwork.subgraph(trainIDs)\n",
    "\n",
    "valIDs = [hu_nodemap[i] for i in np.argwhere(np.array(hu_membership) == 1).ravel()]\n",
    "G_val = G.subgraph(valIDs)\n",
    "y2hNetwork_val = y2hNetwork.subgraph(valIDs)\n",
    "\n",
    "testIDs = [hu_nodemap[i] for i in np.argwhere(np.array(hu_membership) == 2).ravel()]\n",
    "G_test = G.subgraph(testIDs)\n",
    "y2hNetwork_test = y2hNetwork.subgraph(testIDs)"
   ]
  },
  {
   "cell_type": "code",
   "execution_count": null,
   "id": "2fe7f414",
   "metadata": {},
   "outputs": [],
   "source": [
    "len(G_train.edges),len(G_val.edges), len(G_test.edges)"
   ]
  },
  {
   "cell_type": "code",
   "execution_count": null,
   "id": "135b1dd2",
   "metadata": {},
   "outputs": [],
   "source": [
    "len(y2hNetwork_train.edges), len(y2hNetwork_val.edges), len(y2hNetwork_test.edges)"
   ]
  },
  {
   "cell_type": "code",
   "execution_count": null,
   "id": "8062bf0e",
   "metadata": {},
   "outputs": [],
   "source": [
    "nx.write_gpickle(G_train,\"data/y2hEdgotyping/HuRI_train.gpickle\")\n",
    "nx.write_gpickle(G_val,\"data/y2hEdgotyping/HuRI_val.gpickle\")\n",
    "nx.write_gpickle(G_test,\"data/y2hEdgotyping/HuRI_test.gpickle\")\n",
    "nx.write_gpickle(y2hNetwork_train,\"data/y2hEdgotyping/edgotype_train.gpickle\")\n",
    "nx.write_gpickle(y2hNetwork_val,\"data/y2hEdgotyping/edgotype_val.gpickle\")\n",
    "nx.write_gpickle(y2hNetwork_test,\"data/y2hEdgotyping/edgotype_test.gpickle\")"
   ]
  },
  {
   "cell_type": "code",
   "execution_count": null,
   "id": "de70400e",
   "metadata": {},
   "outputs": [],
   "source": []
  }
 ],
 "metadata": {
  "language_info": {
   "name": "python",
   "pygments_lexer": "ipython3"
  }
 },
 "nbformat": 4,
 "nbformat_minor": 5
}
