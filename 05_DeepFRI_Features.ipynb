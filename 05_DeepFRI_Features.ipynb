{
 "cells": [
  {
   "cell_type": "code",
   "execution_count": null,
   "id": "226cec84",
   "metadata": {},
   "outputs": [],
   "source": [
    "import os\n",
    "os.environ[\"CUDA_DEVICE_ORDER\"] = \"PCI_BUS_ID\"\n",
    "os.environ[\"CUDA_VISIBLE_DEVICES\"] = \"1,2,3\""
   ]
  },
  {
   "cell_type": "code",
   "execution_count": null,
   "id": "f68e71e6",
   "metadata": {},
   "outputs": [],
   "source": [
    "import sys\n",
    "\n",
    "import tensorflow as tf"
   ]
  },
  {
   "cell_type": "code",
   "execution_count": null,
   "id": "47780de2",
   "metadata": {},
   "outputs": [],
   "source": [
    "tf.config.list_physical_devices('GPU')"
   ]
  },
  {
   "cell_type": "code",
   "execution_count": null,
   "id": "50049999",
   "metadata": {},
   "outputs": [],
   "source": [
    "tf.__version__"
   ]
  },
  {
   "cell_type": "code",
   "execution_count": null,
   "id": "cc5b54c1",
   "metadata": {},
   "outputs": [],
   "source": [
    "sys.path.append(\"/home/dzeiberg/DeepFRI/\")"
   ]
  },
  {
   "cell_type": "code",
   "execution_count": null,
   "id": "7511129d",
   "metadata": {},
   "outputs": [],
   "source": [
    "from deepfrier.Predictor import Predictor"
   ]
  },
  {
   "cell_type": "code",
   "execution_count": null,
   "id": "c48ec1c3",
   "metadata": {},
   "outputs": [],
   "source": [
    "DATA_DIR = \"/data/dzeiberg/DeepFRI/data/\""
   ]
  },
  {
   "cell_type": "code",
   "execution_count": null,
   "id": "9421ce05",
   "metadata": {},
   "outputs": [],
   "source": [
    "import os\n",
    "\n",
    "import json"
   ]
  },
  {
   "cell_type": "code",
   "execution_count": null,
   "id": "a5aa53ad",
   "metadata": {},
   "outputs": [],
   "source": [
    "with open(os.path.join(DATA_DIR,\"trained_models/model_config.json\")) as json_file:\n",
    "    params = json.load(json_file)"
   ]
  },
  {
   "cell_type": "code",
   "execution_count": null,
   "id": "73d41f6d",
   "metadata": {},
   "outputs": [],
   "source": [
    "predictor = Predictor(os.path.join(DATA_DIR,params[\"gcn\"][\"models\"][\"bp\"]),gcn=True)"
   ]
  },
  {
   "cell_type": "code",
   "execution_count": null,
   "id": "d22fd0a8",
   "metadata": {},
   "outputs": [],
   "source": [
    "featModel = tf.keras.Model(inputs=predictor.model.input,\n",
    "                           outputs=predictor.model.layers[-4].output)"
   ]
  },
  {
   "cell_type": "code",
   "execution_count": null,
   "id": "173ee7ba",
   "metadata": {},
   "outputs": [],
   "source": [
    "import networkx as nx"
   ]
  },
  {
   "cell_type": "code",
   "execution_count": null,
   "id": "749885fc",
   "metadata": {},
   "outputs": [],
   "source": [
    "edgotype_train = nx.read_gpickle(\"data/y2hEdgotyping/edgotype_train.gpickle\")\n",
    "edgotype_val = nx.read_gpickle(\"data/y2hEdgotyping/edgotype_val.gpickle\")\n",
    "edgotype_test = nx.read_gpickle(\"data/y2hEdgotyping/edgotype_test.gpickle\")"
   ]
  },
  {
   "cell_type": "code",
   "execution_count": null,
   "id": "a1827bc2",
   "metadata": {},
   "outputs": [],
   "source": [
    "nodeLabels = {n:[] for n in edgotype_train.nodes()}\n",
    "for u,v,edge in edgotype_train.edges(data=True):\n",
    "    id_ = sorted([u,v])[0]\n",
    "    y = (edge[\"LWAH1_f_wt\"] - edge[\"LWAH1_f_mt\"]) >= 2\n",
    "    nodeLabels[id_].append(y)\n",
    "    \n",
    "nodeLabelsVal = {n:[] for n in edgotype_val.nodes()}\n",
    "for u,v,edge in edgotype_val.edges(data=True):\n",
    "    id_ = sorted([u,v])[0]\n",
    "    y = (edge[\"LWAH1_f_wt\"] - edge[\"LWAH1_f_mt\"]) >= 2\n",
    "    nodeLabelsVal[id_].append(y)"
   ]
  },
  {
   "cell_type": "markdown",
   "id": "bbc10063",
   "metadata": {},
   "source": [
    "I should make this node pair specific instead of grouped across all partners and variants"
   ]
  },
  {
   "cell_type": "code",
   "execution_count": null,
   "id": "cfcfd66c",
   "metadata": {},
   "outputs": [],
   "source": [
    "plt.scatter(*zip(*[(np.log10(len(adjEdges)),np.mean(adjEdges)) for adjEdges in nodeLabels.values() if len(adjEdges)]))\n",
    "plt.scatter(*zip(*[(np.log10(len(adjEdges)),np.mean(adjEdges)) for adjEdges in nodeLabelsVal.values() if len(adjEdges)]),alpha=.5)\n",
    "plt.xlabel(r\"$log_{10}(deg(n))$\")\n",
    "plt.ylabel(\"Edge Prior\")"
   ]
  },
  {
   "cell_type": "code",
   "execution_count": null,
   "id": "29d0f627",
   "metadata": {},
   "outputs": [],
   "source": [
    "import scipy\n",
    "from tqdm.notebook import tqdm\n",
    "def makeFeats(G,FEATURE_SET=\"mutpredFeatures\"):\n",
    "    CMT = 10.0\n",
    "    X = []\n",
    "    y = []\n",
    "    for edgeNum,(ensg_i,ensg_j,edge) in tqdm(enumerate(G.edges(data=True)),\n",
    "                                   total=G.number_of_edges()):\n",
    "        node_i = G.nodes[ensg_i]\n",
    "        node_j = G.nodes[ensg_j]\n",
    "        yij = np.any([(edge[f\"{lvl}_wt\"] - edge[f\"{lvl}_mt\"]) >= 2 for lvl in [\"LWH1_f\",\n",
    "                                                                              \"LWH10_f\",\n",
    "                                                                              \"LWH25_f\",\n",
    "                                                                              \"LWA_f\",\n",
    "                                                                              \"LWAH1_f\"]])\n",
    "        y.append(yij)\n",
    "        if FEATURE_SET == \"deepFRI\" and len(node_i[\"alphafoldStructures\"]) and len(node_j[\"alphafoldStructures\"]):\n",
    "            Ai,Si,seq_i = predictor._load_cmap(node_i[\"alphafoldStructures\"][0],\n",
    "                                               cmap_thresh=CMT)\n",
    "            Aj,Sj,seq_j = predictor._load_cmap(node_j[\"alphafoldStructures\"][0],\n",
    "                                               cmap_thresh=CMT)\n",
    "            Xi = featModel([Ai,Si],training=False)\n",
    "            Xj = featModel([Aj,Sj],training=False)\n",
    "            X.append(np.concatenate((Xi,Xj),axis=-1))\n",
    "        elif FEATURE_SET == \"mutpredFeatures\":\n",
    "            fnum = str(int(edge[\"featFileNum\"]))\n",
    "            pth = f\"/data/dzeiberg/ppi/y2hEdgotyping/mutpred2Results/variants.faa.out.feats_{fnum}\"\n",
    "            MPFeats = scipy.io.loadmat(pth)[\"feats\"]\n",
    "            mutationFeat = np.array(MPFeats[int(edge[\"fileRowNum\"])]).reshape((1,-1))\n",
    "            X.append(mutationFeat)\n",
    "        elif FEATURE_SET == \"mutpredScore\":\n",
    "            X.append(np.array([edge[\"MutPred2 score\"]]).reshape((1,-1)))\n",
    "    X = np.concatenate(X)\n",
    "    return X,np.array(y).astype(float)"
   ]
  },
  {
   "cell_type": "code",
   "execution_count": null,
   "id": "8973d574",
   "metadata": {},
   "outputs": [],
   "source": [
    "XTrain,yTrain = makeFeats(edgotype_train,FEATURE_SET=\"mutpredScore\")"
   ]
  },
  {
   "cell_type": "code",
   "execution_count": null,
   "id": "26d07a9a",
   "metadata": {},
   "outputs": [],
   "source": [
    "XTrain.shape,yTrain.shape"
   ]
  },
  {
   "cell_type": "code",
   "execution_count": null,
   "id": "21532fe5",
   "metadata": {},
   "outputs": [],
   "source": [
    "XVal,yVal = makeFeats(edgotype_val,FEATURE_SET=\"mutpredScore\")"
   ]
  },
  {
   "cell_type": "code",
   "execution_count": null,
   "id": "4aa15daf",
   "metadata": {},
   "outputs": [],
   "source": [
    "XVal.shape,yVal.shape"
   ]
  },
  {
   "cell_type": "code",
   "execution_count": null,
   "id": "c66a1c18",
   "metadata": {},
   "outputs": [],
   "source": [
    "from sklearn.preprocessing import StandardScaler"
   ]
  },
  {
   "cell_type": "code",
   "execution_count": null,
   "id": "4623bf19",
   "metadata": {},
   "outputs": [],
   "source": [
    "scaler = StandardScaler()\n",
    "XTr = scaler.fit_transform(XTrain)\n",
    "XV = scaler.transform(XVal)"
   ]
  },
  {
   "cell_type": "code",
   "execution_count": null,
   "id": "cf3e3480",
   "metadata": {},
   "outputs": [],
   "source": [
    "import tensorflow as tf\n",
    "from sklearn.ensemble import RandomForestClassifier\n",
    "from sklearn.linear_model import LogisticRegression"
   ]
  },
  {
   "cell_type": "code",
   "execution_count": null,
   "id": "f105c64c",
   "metadata": {},
   "outputs": [],
   "source": [
    "import itertools"
   ]
  },
  {
   "cell_type": "code",
   "execution_count": null,
   "id": "c63ded19",
   "metadata": {},
   "outputs": [],
   "source": [
    "if XTr.shape[1] == 1:\n",
    "    print(roc_auc_score(yVal,XV),roc_auc_score(yTrain,XTr))"
   ]
  },
  {
   "cell_type": "code",
   "execution_count": null,
   "id": "59198cb1",
   "metadata": {},
   "outputs": [],
   "source": [
    "# MODEL = \"nn\"\n",
    "# MODEL = \"rf\"\n",
    "MODEL = \"lr\""
   ]
  },
  {
   "cell_type": "code",
   "execution_count": null,
   "id": "92fbe2a0",
   "metadata": {},
   "outputs": [],
   "source": [
    "if MODEL == \"rf\":\n",
    "    clf = RandomForestClassifier(n_jobs=16)\n",
    "    clf.fit(XTr,yTrain)\n",
    "elif MODEL == \"lr\":\n",
    "    clf = LogisticRegression(max_iter=1000)\n",
    "    clf.fit(XTr,yTrain)\n",
    "elif MODEL == \"nn\":\n",
    "    clf = tf.keras.Sequential(sum(itertools.repeat((tf.keras.layers.Dense(64),\n",
    "                                 tf.keras.layers.BatchNormalization(),\n",
    "                                 tf.keras.layers.ReLU()),3),())+ (tf.keras.layers.Dense(1,activation=None),))\n",
    "\n",
    "    clf.compile(loss=tf.keras.losses.BinaryCrossentropy(from_logits=True),\n",
    "               metrics=[tf.keras.metrics.AUC(from_logits=True)])\n",
    "\n",
    "    clf.fit(XTr,yTrain,\n",
    "            validation_data=(XVal,yVal),\n",
    "            batch_size=32,epochs=100)\n",
    "else:\n",
    "    raise ValueError(\"Invalid Model\")"
   ]
  },
  {
   "cell_type": "code",
   "execution_count": null,
   "id": "32c02dd6",
   "metadata": {},
   "outputs": [],
   "source": [
    "from sklearn.metrics import roc_auc_score"
   ]
  },
  {
   "cell_type": "code",
   "execution_count": null,
   "id": "d85b6d07",
   "metadata": {},
   "outputs": [],
   "source": [
    "valPreds = clf.predict_proba(XV)[:,1]"
   ]
  },
  {
   "cell_type": "code",
   "execution_count": null,
   "id": "4a758ac2",
   "metadata": {},
   "outputs": [],
   "source": [
    "roc_auc_score(yVal, valPreds)"
   ]
  },
  {
   "cell_type": "code",
   "execution_count": null,
   "id": "16d67cb4",
   "metadata": {},
   "outputs": [],
   "source": [
    "import matplotlib.pyplot as plt"
   ]
  },
  {
   "cell_type": "code",
   "execution_count": null,
   "id": "f37e1792",
   "metadata": {},
   "outputs": [],
   "source": [
    "plt.hist(valPreds[yVal.astype(bool)])\n",
    "plt.hist(valPreds[~yVal.astype(bool)],color=\"red\",alpha=.5)"
   ]
  },
  {
   "cell_type": "code",
   "execution_count": null,
   "id": "b8f39b55",
   "metadata": {},
   "outputs": [],
   "source": []
  }
 ],
 "metadata": {
  "language_info": {
   "name": "python",
   "pygments_lexer": "ipython3"
  }
 },
 "nbformat": 4,
 "nbformat_minor": 5
}
