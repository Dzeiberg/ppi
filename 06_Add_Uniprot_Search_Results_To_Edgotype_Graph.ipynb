{
 "cells": [
  {
   "cell_type": "code",
   "execution_count": null,
   "id": "080174f0",
   "metadata": {},
   "outputs": [],
   "source": [
    "import pandas as pd"
   ]
  },
  {
   "cell_type": "code",
   "execution_count": null,
   "id": "685cfb18",
   "metadata": {},
   "outputs": [],
   "source": []
  },
  {
   "cell_type": "code",
   "execution_count": null,
   "id": "528c4f84",
   "metadata": {},
   "outputs": [],
   "source": [
    "import networkx as nx\n",
    "\n",
    "edgotype = nx.read_gexf(\"data/y2hEdgotyping/edgotype.gefx\")"
   ]
  },
  {
   "cell_type": "code",
   "execution_count": null,
   "id": "e1813671",
   "metadata": {},
   "outputs": [],
   "source": [
    "import os\n",
    "import pandas as pd\n",
    "seqFiles = [pd.read_csv(f\"data/y2hEdgotyping/uniprotScan/sequence_{i}.tsv\",delimiter=\"\\t\") for i in range(6)]\n",
    "\n",
    "uniprotMatches = pd.concat(seqFiles)\n",
    "def mergeWithUniprot(graph):\n",
    "    for node in graph.nodes(data=True):\n",
    "        seq = node[1][\"seq\"]\n",
    "        up = uniprotMatches[(uniprotMatches.Sequence == seq) & \\\n",
    "                            (uniprotMatches.Reviewed == \"reviewed\") & \\\n",
    "                           (uniprotMatches.Organism == \"Homo sapiens (Human)\")]\n",
    "        graph.nodes[node[0]][\"uniprotMatches\"] = up\n",
    "        alphafoldStructures = []\n",
    "        for uniprot_id in graph.nodes[node[0]][\"uniprotMatches\"][\"Entry\"]:\n",
    "            fp = f\"/data/dzeiberg/alphafold/predictions/AF-{uniprot_id}-F1-model_v4.pdb.gz\"\n",
    "            if os.path.isfile(fp):\n",
    "                alphafoldStructures.append(fp)\n",
    "        graph.nodes[node[0]][\"alphafoldStructures\"] = alphafoldStructures\n",
    "    return graph"
   ]
  },
  {
   "cell_type": "code",
   "execution_count": null,
   "id": "2e2aa91c",
   "metadata": {},
   "outputs": [],
   "source": [
    "edgotype_m = mergeWithUniprot(edgotype)"
   ]
  },
  {
   "cell_type": "markdown",
   "id": "981a9819",
   "metadata": {},
   "source": [
    "# Analyze Hit Rate of Edgotype Nodes with Uniprot"
   ]
  },
  {
   "cell_type": "code",
   "execution_count": null,
   "id": "e54fb886",
   "metadata": {},
   "outputs": [],
   "source": [
    "import numpy as np"
   ]
  },
  {
   "cell_type": "markdown",
   "id": "6dfcad00",
   "metadata": {},
   "source": [
    "## Train Uniprot Matches"
   ]
  },
  {
   "cell_type": "code",
   "execution_count": null,
   "id": "eebf2e7e",
   "metadata": {},
   "outputs": [],
   "source": [
    "np.unique([n[1][\"uniprotMatches\"].shape[0] for n in edgotype_m.nodes(data=True)],\n",
    "          return_counts=True)"
   ]
  },
  {
   "cell_type": "markdown",
   "id": "fcdb9dd0",
   "metadata": {},
   "source": [
    "## Train Alphafold Matches"
   ]
  },
  {
   "cell_type": "code",
   "execution_count": null,
   "id": "4aebb9f4",
   "metadata": {},
   "outputs": [],
   "source": [
    "np.unique([len(n[1][\"alphafoldStructures\"]) for n in edgotype_m.nodes(data=True)],\n",
    "          return_counts=True)"
   ]
  },
  {
   "cell_type": "code",
   "execution_count": null,
   "id": "0ed98808",
   "metadata": {},
   "outputs": [],
   "source": [
    "next(iter(edgotype_m.edges(data=True)))"
   ]
  },
  {
   "cell_type": "code",
   "execution_count": null,
   "id": "f046d594",
   "metadata": {},
   "outputs": [],
   "source": [
    "next(iter(edgotype_m.nodes(data=True)))[1][\"uniprotMatches\"]"
   ]
  },
  {
   "cell_type": "code",
   "execution_count": null,
   "id": "13db2cd5",
   "metadata": {},
   "outputs": [],
   "source": [
    "nx.write_gexf(edgotype_m,\"data/y2hEdgotyping/edgotype_x_uniprot.gefx\")"
   ]
  },
  {
   "cell_type": "code",
   "execution_count": null,
   "id": "9f390717",
   "metadata": {},
   "outputs": [],
   "source": []
  }
 ],
 "metadata": {
  "language_info": {
   "name": "python",
   "pygments_lexer": "ipython3"
  }
 },
 "nbformat": 4,
 "nbformat_minor": 5
}
