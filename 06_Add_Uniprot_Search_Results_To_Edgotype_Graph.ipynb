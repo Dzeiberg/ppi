{
 "cells": [
  {
   "cell_type": "code",
   "execution_count": null,
   "id": "080174f0",
   "metadata": {},
   "outputs": [],
   "source": [
    "import pandas as pd"
   ]
  },
  {
   "cell_type": "code",
   "execution_count": null,
   "id": "685cfb18",
   "metadata": {},
   "outputs": [],
   "source": [
    "seqFiles = [pd.read_csv(f\"data/y2hEdgotyping/uniprotScan/sequence_{i}.tsv\",delimiter=\"\\t\") for i in range(6)]"
   ]
  },
  {
   "cell_type": "code",
   "execution_count": null,
   "id": "ceebf6c3",
   "metadata": {},
   "outputs": [],
   "source": [
    "uniprotMatches = pd.concat(seqFiles)"
   ]
  },
  {
   "cell_type": "code",
   "execution_count": null,
   "id": "851085df",
   "metadata": {},
   "outputs": [],
   "source": [
    "uniprotMatches.Sequence.unique().shape"
   ]
  },
  {
   "cell_type": "code",
   "execution_count": null,
   "id": "528c4f84",
   "metadata": {},
   "outputs": [],
   "source": [
    "import networkx as nx"
   ]
  },
  {
   "cell_type": "code",
   "execution_count": null,
   "id": "a9c0ab50",
   "metadata": {},
   "outputs": [],
   "source": [
    "edgotype_train = nx.read_gpickle(\"data/y2hEdgotyping/edgotype_train.gpickle\")\n",
    "edgotype_val = nx.read_gpickle(\"data/y2hEdgotyping/edgotype_val.gpickle\")\n",
    "edgotype_test = nx.read_gpickle(\"data/y2hEdgotyping/edgotype_test.gpickle\")"
   ]
  },
  {
   "cell_type": "code",
   "execution_count": null,
   "id": "18b9e1e2",
   "metadata": {},
   "outputs": [],
   "source": [
    "import os\n",
    "\n",
    "def mergeWithUniprot(graph):\n",
    "    for node in graph.nodes(data=True):\n",
    "        seq = node[1][\"seq\"]\n",
    "        up = uniprotMatches[(uniprotMatches.Sequence == seq) & \\\n",
    "                            (uniprotMatches.Reviewed == \"reviewed\") & \\\n",
    "                           (uniprotMatches.Organism == \"Homo sapiens (Human)\")]\n",
    "        graph.nodes[node[0]][\"uniprotMatches\"] = up\n",
    "        alphafoldStructures = []\n",
    "        for uniprot_id in graph.nodes[node[0]][\"uniprotMatches\"][\"Entry\"]:\n",
    "            fp = f\"/data/dzeiberg/alphafold/predictions/AF-{uniprot_id}-F1-model_v4.pdb.gz\"\n",
    "            if os.path.isfile(fp):\n",
    "                alphafoldStructures.append(fp)\n",
    "        graph.nodes[node[0]][\"alphafoldStructures\"] = alphafoldStructures\n",
    "    return graph"
   ]
  },
  {
   "cell_type": "code",
   "execution_count": null,
   "id": "2e2aa91c",
   "metadata": {},
   "outputs": [],
   "source": [
    "edgotype_train = mergeWithUniprot(edgotype_train)\n",
    "edgotype_val = mergeWithUniprot(edgotype_val)\n",
    "edgotype_test = mergeWithUniprot(edgotype_test)"
   ]
  },
  {
   "cell_type": "markdown",
   "id": "981a9819",
   "metadata": {},
   "source": [
    "# Analyze Hit Rate of Edgotype Nodes with Uniprot"
   ]
  },
  {
   "cell_type": "code",
   "execution_count": null,
   "id": "e54fb886",
   "metadata": {},
   "outputs": [],
   "source": [
    "import numpy as np"
   ]
  },
  {
   "cell_type": "markdown",
   "id": "6dfcad00",
   "metadata": {},
   "source": [
    "## Train Uniprot Matches"
   ]
  },
  {
   "cell_type": "code",
   "execution_count": null,
   "id": "eebf2e7e",
   "metadata": {},
   "outputs": [],
   "source": [
    "np.unique([n[1][\"uniprotMatches\"].shape[0] for n in edgotype_train.nodes(data=True)],\n",
    "          return_counts=True)"
   ]
  },
  {
   "cell_type": "markdown",
   "id": "fcdb9dd0",
   "metadata": {},
   "source": [
    "## Train Alphafold Matches"
   ]
  },
  {
   "cell_type": "code",
   "execution_count": null,
   "id": "4aebb9f4",
   "metadata": {},
   "outputs": [],
   "source": [
    "np.unique([len(n[1][\"alphafoldStructures\"]) for n in edgotype_train.nodes(data=True)],\n",
    "          return_counts=True)"
   ]
  },
  {
   "cell_type": "markdown",
   "id": "3039473a",
   "metadata": {},
   "source": [
    "## Val Uniprot Matches"
   ]
  },
  {
   "cell_type": "code",
   "execution_count": null,
   "id": "961a1a7d",
   "metadata": {},
   "outputs": [],
   "source": [
    "np.unique([n[1][\"uniprotMatches\"].shape[0] for n in edgotype_val.nodes(data=True)],\n",
    "          return_counts=True)"
   ]
  },
  {
   "cell_type": "markdown",
   "id": "ca35ffc4",
   "metadata": {},
   "source": [
    "## Val Alphafold Matches"
   ]
  },
  {
   "cell_type": "code",
   "execution_count": null,
   "id": "1bf089d3",
   "metadata": {},
   "outputs": [],
   "source": [
    "np.unique([len(n[1][\"alphafoldStructures\"]) for n in edgotype_val.nodes(data=True)],\n",
    "          return_counts=True)"
   ]
  },
  {
   "cell_type": "code",
   "execution_count": null,
   "id": "2bc586b8",
   "metadata": {},
   "outputs": [],
   "source": [
    "for id_,n in edgotype_val.nodes(data=True):\n",
    "    if not len(n[\"alphafoldStructures\"]) and (len(n[\"uniprotMatches\"]) and not np.all(n[\"uniprotMatches\"].PDB.isna())):\n",
    "        print(\"found\")\n",
    "        break"
   ]
  },
  {
   "cell_type": "code",
   "execution_count": null,
   "id": "ee1b2a7c",
   "metadata": {},
   "outputs": [],
   "source": [
    "for n_id,n in edgotype_train.nodes(data=True):\n",
    "    if n[\"uniprotMatches\"].shape[0] == 0:\n",
    "        print(n_id)"
   ]
  },
  {
   "cell_type": "code",
   "execution_count": null,
   "id": "7b511749",
   "metadata": {},
   "outputs": [],
   "source": [
    "for n_id,n in edgotype_val.nodes(data=True):\n",
    "    if n[\"uniprotMatches\"].shape[0] == 0:\n",
    "        print(n_id)"
   ]
  },
  {
   "cell_type": "code",
   "execution_count": null,
   "id": "8ec9b56c",
   "metadata": {},
   "outputs": [],
   "source": [
    "nx.write_gpickle(edgotype_train,\"data/y2hEdgotyping/edgotype_train.gpickle\")\n",
    "nx.write_gpickle(edgotype_val,\"data/y2hEdgotyping/edgotype_val.gpickle\")\n",
    "nx.write_gpickle(edgotype_test,\"data/y2hEdgotyping/edgotype_test.gpickle\")"
   ]
  },
  {
   "cell_type": "code",
   "execution_count": null,
   "id": "0ed98808",
   "metadata": {},
   "outputs": [],
   "source": [
    "next(iter(edgotype_test.edges(data=True)))"
   ]
  },
  {
   "cell_type": "code",
   "execution_count": null,
   "id": "f046d594",
   "metadata": {},
   "outputs": [],
   "source": [
    "next(iter(edgotype_test.nodes(data=True)))"
   ]
  },
  {
   "cell_type": "code",
   "execution_count": null,
   "id": "9f390717",
   "metadata": {},
   "outputs": [],
   "source": []
  }
 ],
 "metadata": {
  "language_info": {
   "name": "python",
   "pygments_lexer": "ipython3"
  }
 },
 "nbformat": 4,
 "nbformat_minor": 5
}
