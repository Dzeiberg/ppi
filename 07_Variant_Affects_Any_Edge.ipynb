{
 "cells": [
  {
   "cell_type": "markdown",
   "id": "3b2b0054",
   "metadata": {},
   "source": [
    "# Load Data"
   ]
  },
  {
   "cell_type": "code",
   "execution_count": null,
   "id": "c59e320b",
   "metadata": {},
   "outputs": [],
   "source": [
    "import networkx as nx\n",
    "import pandas as pd"
   ]
  },
  {
   "cell_type": "code",
   "execution_count": null,
   "id": "5e25d6e1",
   "metadata": {},
   "outputs": [],
   "source": [
    "df = pd.read_csv(\"data/y2hEdgotyping/y2hWithMutPred2Info.csv\",index_col=0)"
   ]
  },
  {
   "cell_type": "code",
   "execution_count": null,
   "id": "c00f1cf2",
   "metadata": {},
   "outputs": [],
   "source": [
    "df.head()"
   ]
  },
  {
   "cell_type": "code",
   "execution_count": null,
   "id": "27610215",
   "metadata": {},
   "outputs": [],
   "source": [
    "df = df.assign(delta1 = df.LWH1_f_wt - df.LWH1_f_mt,\n",
    "               delta2 = df.LWH10_f_wt - df.LWH10_f_mt,\n",
    "               delta3 = df.LWH25_f_wt - df.LWH25_f_mt,\n",
    "              delta4 = df.LWA_f_wt - df.LWA_f_mt,\n",
    "              delta5 = df.LWAH1_f_wt - df.LWAH1_f_mt)\n",
    "df = df.assign(y = df.apply(lambda r: np.any([v >= 2 for v in [r.delta1, r.delta2, r.delta3,\n",
    "                                                               r.delta4, r.delta5]]),\n",
    "                            axis=1))"
   ]
  },
  {
   "cell_type": "code",
   "execution_count": null,
   "id": "4ffadc5f",
   "metadata": {},
   "outputs": [],
   "source": [
    "edgotype_train = nx.read_gpickle(\"data/y2hEdgotyping/edgotype_train.gpickle\")\n",
    "edgotype_val = nx.read_gpickle(\"data/y2hEdgotyping/edgotype_val.gpickle\")\n",
    "edgotype_test = nx.read_gpickle(\"data/y2hEdgotyping/edgotype_test.gpickle\")"
   ]
  },
  {
   "cell_type": "code",
   "execution_count": null,
   "id": "1d99ad9c",
   "metadata": {},
   "outputs": [],
   "source": [
    "next(iter(edgotype_train.nodes(data=True)))"
   ]
  },
  {
   "cell_type": "code",
   "execution_count": null,
   "id": "83f50c18",
   "metadata": {},
   "outputs": [],
   "source": [
    "edgotype_train.edges(\"ENSG00000185900\",data=True)"
   ]
  },
  {
   "cell_type": "markdown",
   "id": "d7a8b472",
   "metadata": {},
   "source": [
    "# Can I train a classifier to predict whether a variant will lead to any loss of PPI?"
   ]
  },
  {
   "cell_type": "code",
   "execution_count": null,
   "id": "bedc5090",
   "metadata": {},
   "outputs": [],
   "source": [
    "import itertools"
   ]
  },
  {
   "cell_type": "code",
   "execution_count": null,
   "id": "78760fcc",
   "metadata": {},
   "outputs": [],
   "source": [
    "import scipy\n",
    "from tqdm.notebook import tqdm\n",
    "def makeFeats(G,FEATURE_SET=\"mutpredFeatures\",groupFilter=None):\n",
    "    groupedEdges = [list(g) for k,g in itertools.groupby(sorted(G.edges(data=True),\n",
    "                                                 key=lambda t: t[2][\"db_mut_id_mt\"]),\n",
    "                                           key=lambda t: t[2][\"db_mut_id_mt\"])]\n",
    "    X = []\n",
    "    y = []\n",
    "    for edgeGroup in groupedEdges:\n",
    "        if groupFilter is not None and not groupFilter(edgeGroup):\n",
    "            continue\n",
    "        yi = np.any([np.any([(edge[f\"{lvl}_wt\"] - edge[f\"{lvl}_mt\"]) >= 2 for lvl in [\"LWH1_f\",\n",
    "                                                                                  \"LWH10_f\",\n",
    "                                                                                  \"LWH25_f\",\n",
    "                                                                                  \"LWA_f\",\n",
    "                                                                                  \"LWAH1_f\"]]) for edge in [e for (i,j,e) in edgeGroup]])\n",
    "        y.append(yi)\n",
    "        \n",
    "        ensg_i,ensg_j,edge = edgeGroup[0]\n",
    "        node_i = G.nodes[ensg_i]\n",
    "        node_j = G.nodes[ensg_j]\n",
    "        if FEATURE_SET == \"deepFRI\" and len(node_i[\"alphafoldStructures\"]) and len(node_j[\"alphafoldStructures\"]):\n",
    "            Ai,Si,seq_i = predictor._load_cmap(node_i[\"alphafoldStructures\"][0],\n",
    "                                               cmap_thresh=CMT)\n",
    "            Aj,Sj,seq_j = predictor._load_cmap(node_j[\"alphafoldStructures\"][0],\n",
    "                                               cmap_thresh=CMT)\n",
    "            Xi = featModel([Ai,Si],training=False)\n",
    "            Xj = featModel([Aj,Sj],training=False)\n",
    "            X.append(np.concatenate((Xi,Xj),axis=-1))\n",
    "        elif FEATURE_SET == \"mutpredFeatures\":\n",
    "            fnum = str(int(edge[\"featFileNum\"]))\n",
    "            pth = f\"/data/dzeiberg/ppi/y2hEdgotyping/mutpred2Results/variants.faa.out.feats_{fnum}\"\n",
    "            MPFeats = scipy.io.loadmat(pth)[\"feats\"]\n",
    "            mutationFeat = np.array(MPFeats[int(edge[\"fileRowNum\"])]).reshape((1,-1))\n",
    "            X.append(mutationFeat)\n",
    "        elif FEATURE_SET == \"mutpredScore\":\n",
    "            X.append(np.array([edge[\"MutPred2 score\"]]).reshape((1,-1)))\n",
    "    X = np.concatenate(X)\n",
    "    return X,np.array(y).astype(float)"
   ]
  },
  {
   "cell_type": "code",
   "execution_count": null,
   "id": "68b32726",
   "metadata": {},
   "outputs": [],
   "source": [
    "XTrain,yTrain = makeFeats(edgotype_train,\"mutpredFeatures\")#,\n",
    "#                          groupFilter=lambda l: len(l) == 1)\n",
    "\n",
    "XVal,yVal = makeFeats(edgotype_val,\"mutpredFeatures\")#,\n",
    "#                      groupFilter=lambda l: len(l) == 1)\n",
    "\n",
    "from sklearn.preprocessing import StandardScaler\n",
    "scaler = StandardScaler()\n",
    "XTr = scaler.fit_transform(XTrain)\n",
    "XV = scaler.transform(XVal)\n",
    "\n",
    "from sklearn.decomposition import PCA\n",
    "\n",
    "pca = PCA(n_components=16)\n",
    "XTr = pca.fit_transform(XTr)\n",
    "XV = pca.transform(XV)"
   ]
  },
  {
   "cell_type": "code",
   "execution_count": null,
   "id": "741bb7d7",
   "metadata": {},
   "outputs": [],
   "source": [
    "import matplotlib.pyplot as plt"
   ]
  },
  {
   "cell_type": "code",
   "execution_count": null,
   "id": "d0dd404f",
   "metadata": {},
   "outputs": [],
   "source": [
    "import tensorflow as tf\n",
    "from sklearn.ensemble import RandomForestClassifier\n",
    "from sklearn.linear_model import LogisticRegression"
   ]
  },
  {
   "cell_type": "code",
   "execution_count": null,
   "id": "7c898449",
   "metadata": {},
   "outputs": [],
   "source": [
    "# MODEL = \"nn\"\n",
    "MODEL = \"rf\"\n",
    "# MODEL = \"lr\""
   ]
  },
  {
   "cell_type": "code",
   "execution_count": null,
   "id": "0a57f9a9",
   "metadata": {},
   "outputs": [],
   "source": [
    "if MODEL == \"rf\":\n",
    "    clf = RandomForestClassifier(n_jobs=16)\n",
    "    clf.fit(XTr,yTrain)\n",
    "elif MODEL == \"lr\":\n",
    "    clf = LogisticRegression(max_iter=1000)\n",
    "    clf.fit(XTr,yTrain)\n",
    "elif MODEL == \"nn\":\n",
    "    clf = tf.keras.Sequential(sum(itertools.repeat((tf.keras.layers.Dense(64),\n",
    "                                 tf.keras.layers.BatchNormalization(),\n",
    "                                 tf.keras.layers.ReLU()),3),())+ (tf.keras.layers.Dense(1,activation=None),))\n",
    "\n",
    "    clf.compile(loss=tf.keras.losses.BinaryCrossentropy(from_logits=True),\n",
    "               metrics=[tf.keras.metrics.AUC(from_logits=True)])\n",
    "\n",
    "    clf.fit(XTr,yTrain,\n",
    "            validation_data=(XVal,yVal),\n",
    "            batch_size=32,epochs=100)\n",
    "else:\n",
    "    raise ValueError(\"Invalid Model\")"
   ]
  },
  {
   "cell_type": "code",
   "execution_count": null,
   "id": "331380e5",
   "metadata": {},
   "outputs": [],
   "source": [
    "from sklearn.metrics import roc_auc_score"
   ]
  },
  {
   "cell_type": "code",
   "execution_count": null,
   "id": "d3874761",
   "metadata": {},
   "outputs": [],
   "source": [
    "valPreds = clf.predict_proba(XV)[:,1]"
   ]
  },
  {
   "cell_type": "code",
   "execution_count": null,
   "id": "8e389e5f",
   "metadata": {},
   "outputs": [],
   "source": [
    "roc_auc_score(yVal, valPreds)"
   ]
  },
  {
   "cell_type": "markdown",
   "id": "1f77161f",
   "metadata": {},
   "source": []
  },
  {
   "cell_type": "code",
   "execution_count": null,
   "id": "51191db0",
   "metadata": {},
   "outputs": [],
   "source": [
    "trainEnsemblIDs = set(list(edgotype_train.nodes()))\n",
    "valEnsemblIDs = set(list(edgotype_val.nodes()))\n",
    "testEnsemblIDs = set(list(edgotype_test.nodes()))"
   ]
  },
  {
   "cell_type": "code",
   "execution_count": null,
   "id": "214ac280",
   "metadata": {},
   "outputs": [],
   "source": [
    "dfTrain = df[(df.db_ensembl_gene_id_mt.isin(trainEnsemblIDs)) & \\\n",
    "             (df.ad_ensembl_gene_id_mt.isin(trainEnsemblIDs))]\n",
    "\n",
    "dfVal = df[(df.db_ensembl_gene_id_mt.isin(valEnsemblIDs)) & \\\n",
    "             (df.ad_ensembl_gene_id_mt.isin(valEnsemblIDs))]\n",
    "\n",
    "dfTest = df[(df.db_ensembl_gene_id_mt.isin(testEnsemblIDs)) & \\\n",
    "             (df.ad_ensembl_gene_id_mt.isin(testEnsemblIDs))]"
   ]
  },
  {
   "cell_type": "code",
   "execution_count": null,
   "id": "2853a8d5",
   "metadata": {},
   "outputs": [],
   "source": [
    "def makeVariantTable(df):\n",
    "    vt = pd.merge(pd.merge(pd.merge(df.groupby([\"db_ensembl_gene_id_mt\",\"db_mut_id_mt\"]).y.aggregate(np.any),\n",
    "        df.groupby([\"db_ensembl_gene_id_mt\",\"db_mut_id_mt\"])[\"MutPred2 score\"].max(),\n",
    "        left_index=True,right_index=True),\n",
    "                          df.groupby([\"db_ensembl_gene_id_mt\",\n",
    "                                         \"db_mut_id_mt\"]).ad_orf_id.count(),\n",
    "                          left_index=True,right_index=True),\n",
    "                             df.groupby([\"db_ensembl_gene_id_mt\",\n",
    "                                              \"db_mut_id_mt\"]).clinical_significance_mt.unique().apply(lambda l: l[0]),\n",
    "                             left_index=True,right_index=True)\n",
    "    return vt.rename({\"ad_orf_id\":\"n_edges\"},axis=1)"
   ]
  },
  {
   "cell_type": "code",
   "execution_count": null,
   "id": "079d3ea9",
   "metadata": {},
   "outputs": [],
   "source": [
    "variantTableTrain = makeVariantTable(dfTrain)"
   ]
  },
  {
   "cell_type": "code",
   "execution_count": null,
   "id": "bdc5b3f1",
   "metadata": {},
   "outputs": [],
   "source": [
    "variantTableTrain"
   ]
  },
  {
   "cell_type": "code",
   "execution_count": null,
   "id": "d70ded23",
   "metadata": {},
   "outputs": [],
   "source": [
    "variantTableTrain[variantTableTrain[\"clinical_significance_mt\"] == \"Pathogenic\"].y.value_counts()"
   ]
  },
  {
   "cell_type": "code",
   "execution_count": null,
   "id": "1bc91afb",
   "metadata": {},
   "outputs": [],
   "source": [
    "variantTableTrain[variantTableTrain.y].clinical_significance_mt.value_counts()"
   ]
  },
  {
   "cell_type": "code",
   "execution_count": null,
   "id": "1a3444ff",
   "metadata": {},
   "outputs": [],
   "source": [
    "variantTableVal = makeVariantTable(dfVal)"
   ]
  },
  {
   "cell_type": "code",
   "execution_count": null,
   "id": "27f87487",
   "metadata": {},
   "outputs": [],
   "source": [
    "variantTableVal"
   ]
  },
  {
   "cell_type": "code",
   "execution_count": null,
   "id": "a043456c",
   "metadata": {},
   "outputs": [],
   "source": [
    "variantTableTest = makeVariantTable(dfTest)"
   ]
  },
  {
   "cell_type": "code",
   "execution_count": null,
   "id": "7001a69e",
   "metadata": {},
   "outputs": [],
   "source": [
    "variantTableTest"
   ]
  },
  {
   "cell_type": "code",
   "execution_count": null,
   "id": "68042ac0",
   "metadata": {},
   "outputs": [],
   "source": [
    "from sklearn.metrics import roc_auc_score"
   ]
  },
  {
   "cell_type": "code",
   "execution_count": null,
   "id": "809d209d",
   "metadata": {},
   "outputs": [],
   "source": [
    "table = pd.concat((variantTableTrain,variantTableVal,variantTableTest))"
   ]
  },
  {
   "cell_type": "code",
   "execution_count": null,
   "id": "65bba710",
   "metadata": {},
   "outputs": [],
   "source": [
    "table"
   ]
  },
  {
   "cell_type": "markdown",
   "id": "49509b7a",
   "metadata": {},
   "source": [
    "# Disease-Causing Mutations Association with PPI Loss"
   ]
  },
  {
   "cell_type": "code",
   "execution_count": null,
   "id": "742d55b0",
   "metadata": {},
   "outputs": [],
   "source": [
    "table[table[\"clinical_significance_mt\"] == \"Pathogenic\"].y.value_counts(normalize=True)"
   ]
  },
  {
   "cell_type": "code",
   "execution_count": null,
   "id": "7aacffd6",
   "metadata": {},
   "outputs": [],
   "source": [
    "table[(table[\"clinical_significance_mt\"] == \"Pathogenic\") & (table.n_edges > 1)].y.value_counts(normalize=True)"
   ]
  },
  {
   "cell_type": "code",
   "execution_count": null,
   "id": "5f36814d",
   "metadata": {},
   "outputs": [],
   "source": [
    "table[(table[\"clinical_significance_mt\"] == \"Pathogenic\") & (table.n_edges == 1)].y.value_counts(normalize=True)"
   ]
  },
  {
   "cell_type": "markdown",
   "id": "083ea166",
   "metadata": {},
   "source": [
    "# Clinical Annotations of Interaction Perturbing Variants"
   ]
  },
  {
   "cell_type": "code",
   "execution_count": null,
   "id": "c130bef4",
   "metadata": {},
   "outputs": [],
   "source": [
    "table[table.y].clinical_significance_mt.value_counts(normalize=True)"
   ]
  },
  {
   "cell_type": "markdown",
   "id": "dc9529cc",
   "metadata": {},
   "source": [
    "# Overall Performance"
   ]
  },
  {
   "cell_type": "code",
   "execution_count": null,
   "id": "83bdc27d",
   "metadata": {},
   "outputs": [],
   "source": [
    "table.sort_values(by=\"MutPred2 score\",ascending=False)"
   ]
  },
  {
   "cell_type": "markdown",
   "id": "96764ab3",
   "metadata": {},
   "source": [
    "# All variants"
   ]
  },
  {
   "cell_type": "code",
   "execution_count": null,
   "id": "76512518",
   "metadata": {},
   "outputs": [],
   "source": [
    "roc_auc_score(table.y, table[\"MutPred2 score\"])"
   ]
  },
  {
   "cell_type": "code",
   "execution_count": null,
   "id": "bc298c1f",
   "metadata": {},
   "outputs": [],
   "source": [
    "plt.hist(table[table.y][\"MutPred2 score\"].values,label=\"Edgetic/Quasi-null\",density=True)\n",
    "plt.hist(table[~table.y][\"MutPred2 score\"].values,color=\"red\",alpha=.5,label=\"Quasi-WT\",density=True)\n",
    "plt.legend()\n",
    "plt.xlabel(\"MutPred2 Score\")\n",
    "plt.ylabel(\"Density\")"
   ]
  },
  {
   "cell_type": "markdown",
   "id": "87439ff3",
   "metadata": {},
   "source": [
    "# Variants on WT proteins with single partner "
   ]
  },
  {
   "cell_type": "code",
   "execution_count": null,
   "id": "36a35aad",
   "metadata": {},
   "outputs": [],
   "source": [
    "roc_auc_score(table[table.n_edges == 1].y, \n",
    "              table[table.n_edges == 1][\"MutPred2 score\"])"
   ]
  },
  {
   "cell_type": "code",
   "execution_count": null,
   "id": "276ccc7d",
   "metadata": {},
   "outputs": [],
   "source": [
    "plt.hist(table[(table.y) & (table.n_edges == 1)][\"MutPred2 score\"].values,label=\"Edgetic/Quasi-null\",density=True)\n",
    "plt.hist(table[(~table.y)& (table.n_edges == 1)][\"MutPred2 score\"].values,color=\"red\",alpha=.5,label=\"Quasi-WT\",density=True)\n",
    "plt.legend()\n",
    "plt.xlabel(\"MutPred2 Score\")\n",
    "plt.ylabel(\"Density\")"
   ]
  },
  {
   "cell_type": "markdown",
   "id": "88d11bde",
   "metadata": {},
   "source": [
    "## Variants on WT proteins with multiple partners"
   ]
  },
  {
   "cell_type": "code",
   "execution_count": null,
   "id": "fcd7dacc",
   "metadata": {},
   "outputs": [],
   "source": [
    "roc_auc_score(table[table.n_edges > 1].y, \n",
    "              table[table.n_edges > 1][\"MutPred2 score\"])"
   ]
  },
  {
   "cell_type": "code",
   "execution_count": null,
   "id": "3765c410",
   "metadata": {},
   "outputs": [],
   "source": [
    "plt.hist(table[(table.y) & \\\n",
    "               (table.n_edges > 1)][\"MutPred2 score\"].values,\n",
    "         label=\"Edgetic/Quasi-null\",density=True)\n",
    "plt.hist(table[(~table.y) & \\\n",
    "               (table.n_edges > 1)][\"MutPred2 score\"].values,\n",
    "         color=\"red\",alpha=.5,label=\"Quasi-WT\",density=True)\n",
    "plt.legend()\n",
    "plt.xlabel(\"MutPred2 Score\")\n",
    "plt.ylabel(\"Density\")"
   ]
  },
  {
   "cell_type": "markdown",
   "id": "f3b0f17d",
   "metadata": {},
   "source": [
    "# Performance per Split"
   ]
  },
  {
   "cell_type": "markdown",
   "id": "a4c15a2a",
   "metadata": {},
   "source": [
    "## All variants"
   ]
  },
  {
   "cell_type": "markdown",
   "id": "6e6eb868",
   "metadata": {},
   "source": [
    "### Train"
   ]
  },
  {
   "cell_type": "code",
   "execution_count": null,
   "id": "251c30ba",
   "metadata": {},
   "outputs": [],
   "source": [
    "roc_auc_score(variantTableTrain.y, \n",
    "              variantTableTrain[\"MutPred2 score\"])"
   ]
  },
  {
   "cell_type": "markdown",
   "id": "d8574e63",
   "metadata": {},
   "source": [
    "### Val"
   ]
  },
  {
   "cell_type": "code",
   "execution_count": null,
   "id": "69cf2039",
   "metadata": {},
   "outputs": [],
   "source": [
    "roc_auc_score(variantTableVal.y, \n",
    "              variantTableVal[\"MutPred2 score\"])"
   ]
  },
  {
   "cell_type": "markdown",
   "id": "f2edc37e",
   "metadata": {},
   "source": [
    "### Test"
   ]
  },
  {
   "cell_type": "code",
   "execution_count": null,
   "id": "bdf84cea",
   "metadata": {},
   "outputs": [],
   "source": [
    "roc_auc_score(variantTableTest.y, \n",
    "              variantTableTest[\"MutPred2 score\"])"
   ]
  },
  {
   "cell_type": "markdown",
   "id": "ef86215f",
   "metadata": {},
   "source": [
    "## Only variants on WT nodes with single partner"
   ]
  },
  {
   "cell_type": "markdown",
   "id": "8479b56d",
   "metadata": {},
   "source": [
    "### Train"
   ]
  },
  {
   "cell_type": "code",
   "execution_count": null,
   "id": "78f7f5b7",
   "metadata": {},
   "outputs": [],
   "source": [
    "roc_auc_score(variantTableTrain[variantTableTrain.n_edges == 1].y, \n",
    "              variantTableTrain[variantTableTrain.n_edges == 1][\"MutPred2 score\"])"
   ]
  },
  {
   "cell_type": "markdown",
   "id": "8e5ad2a9",
   "metadata": {},
   "source": [
    "### Val"
   ]
  },
  {
   "cell_type": "code",
   "execution_count": null,
   "id": "4503930d",
   "metadata": {},
   "outputs": [],
   "source": [
    "roc_auc_score(variantTableVal[variantTableVal.n_edges == 1].y, \n",
    "              variantTableVal[variantTableVal.n_edges == 1][\"MutPred2 score\"])"
   ]
  },
  {
   "cell_type": "markdown",
   "id": "394316b6",
   "metadata": {},
   "source": [
    "### Test"
   ]
  },
  {
   "cell_type": "code",
   "execution_count": null,
   "id": "8847005f",
   "metadata": {},
   "outputs": [],
   "source": [
    "roc_auc_score(variantTableTest[variantTableTest.n_edges == 1].y, \n",
    "              variantTableTest[variantTableTest.n_edges == 1][\"MutPred2 score\"])"
   ]
  },
  {
   "cell_type": "markdown",
   "id": "dd98d482",
   "metadata": {},
   "source": [
    "## Only variants on WT nodes with multiple partners"
   ]
  },
  {
   "cell_type": "markdown",
   "id": "97daafc3",
   "metadata": {},
   "source": [
    "### Train"
   ]
  },
  {
   "cell_type": "code",
   "execution_count": null,
   "id": "536b0479",
   "metadata": {},
   "outputs": [],
   "source": [
    "roc_auc_score(variantTableTrain[variantTableTrain.n_edges > 1].y, \n",
    "              variantTableTrain[variantTableTrain.n_edges > 1][\"MutPred2 score\"])"
   ]
  },
  {
   "cell_type": "markdown",
   "id": "bd3a2c4e",
   "metadata": {},
   "source": [
    "### Val"
   ]
  },
  {
   "cell_type": "code",
   "execution_count": null,
   "id": "096ec7f5",
   "metadata": {},
   "outputs": [],
   "source": [
    "roc_auc_score(variantTableVal[variantTableVal.n_edges > 1].y, \n",
    "              variantTableVal[variantTableVal.n_edges > 1][\"MutPred2 score\"])"
   ]
  },
  {
   "cell_type": "markdown",
   "id": "61c907e1",
   "metadata": {},
   "source": [
    "### Test"
   ]
  },
  {
   "cell_type": "code",
   "execution_count": null,
   "id": "7487c5f3",
   "metadata": {},
   "outputs": [],
   "source": [
    "roc_auc_score(variantTableTest[variantTableTest.n_edges > 1].y, \n",
    "              variantTableTest[variantTableTest.n_edges > 1][\"MutPred2 score\"])"
   ]
  },
  {
   "cell_type": "code",
   "execution_count": null,
   "id": "db755d70",
   "metadata": {},
   "outputs": [],
   "source": [
    "next(iter(edgotype_train.edges(data=True)))"
   ]
  },
  {
   "cell_type": "code",
   "execution_count": null,
   "id": "33e8d4a2",
   "metadata": {},
   "outputs": [],
   "source": []
  }
 ],
 "metadata": {
  "language_info": {
   "name": "python",
   "pygments_lexer": "ipython3"
  }
 },
 "nbformat": 4,
 "nbformat_minor": 5
}
