{
 "cells": [
  {
   "cell_type": "code",
   "execution_count": null,
   "id": "60a08074",
   "metadata": {},
   "outputs": [],
   "source": [
    "import pandas as pd"
   ]
  },
  {
   "cell_type": "code",
   "execution_count": null,
   "id": "76f8af07",
   "metadata": {},
   "outputs": [],
   "source": [
    "colnames = [f[:f.find(\"(e.g.\")].replace(\"(\",\"\").strip() for f in \"\"\"Protein accession (e.g. P51587)\n",
    "Sequence MD5 digest (e.g. 14086411a2cdf1c4cba63020e1622579)\n",
    "Sequence length (e.g. 3418)\n",
    "Analysis (e.g. Pfam / PRINTS / Gene3D)\n",
    "Signature accession (e.g. PF09103 / G3DSA:2.40.50.140)\n",
    "Signature description (e.g. BRCA2 repeat profile)\n",
    "Start location (e.g. 0)\n",
    "Stop location (e.g. 1)\n",
    "Score (e.g. 3.1E-52)\n",
    "Status(e.g. T: true)\n",
    "Date (e.g.)\n",
    "InterPro annotations Accession (e.g. IPR002093)\n",
    "InterPro annotations Description (e.g. BRCA2 repeat)\n",
    "GO annotations (e.g. GO:0005515) - optional column; only displayed if –goterms option is switched on)\n",
    "Pathways annotations (e.g. REACT_71) - optional column; only displayed if –pathways option is switched on)\"\"\".split(\"\\n\")]"
   ]
  },
  {
   "cell_type": "code",
   "execution_count": null,
   "id": "e2107cdf",
   "metadata": {},
   "outputs": [],
   "source": [
    "interpro = pd.read_csv(\"data/y2hEdgotyping/interproScan/sequences.fasta.tsv\",delimiter=\"\\t\",\n",
    "            header=None,names= colnames)"
   ]
  },
  {
   "cell_type": "code",
   "execution_count": null,
   "id": "dddf0c51",
   "metadata": {},
   "outputs": [],
   "source": [
    "interpro.head()"
   ]
  },
  {
   "cell_type": "code",
   "execution_count": null,
   "id": "1fdf7741",
   "metadata": {},
   "outputs": [],
   "source": [
    "interpro[~interpro[\"InterPro annotations Accession\"].isna()].Analysis.value_counts()"
   ]
  },
  {
   "cell_type": "code",
   "execution_count": null,
   "id": "6ac6842a",
   "metadata": {},
   "outputs": [],
   "source": [
    "interpro[\"InterPro annotations Accession\"].value_counts()"
   ]
  },
  {
   "cell_type": "code",
   "execution_count": null,
   "id": "d612920e",
   "metadata": {},
   "outputs": [],
   "source": [
    "interpro.dropna(subset=[\"InterPro annotations Accession\"])"
   ]
  },
  {
   "cell_type": "code",
   "execution_count": null,
   "id": "8dfe7f4e",
   "metadata": {},
   "outputs": [],
   "source": [
    "interpro[\"InterPro annotations Description\"].value_counts()"
   ]
  },
  {
   "cell_type": "code",
   "execution_count": null,
   "id": "e1e4eb10",
   "metadata": {},
   "outputs": [],
   "source": [
    "interpro[\"InterPro annotations Description\"].dropna().unique()"
   ]
  },
  {
   "cell_type": "code",
   "execution_count": null,
   "id": "ecd563b3",
   "metadata": {},
   "outputs": [],
   "source": [
    "[d for d in interpro[\"InterPro annotations Description\"].dropna().unique() if \"binding\" in d]"
   ]
  },
  {
   "cell_type": "code",
   "execution_count": null,
   "id": "24aefab0",
   "metadata": {},
   "outputs": [],
   "source": []
  }
 ],
 "metadata": {
  "language_info": {
   "name": "python",
   "pygments_lexer": "ipython3"
  }
 },
 "nbformat": 4,
 "nbformat_minor": 5
}
