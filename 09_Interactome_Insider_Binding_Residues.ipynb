{
 "cells": [
  {
   "cell_type": "code",
   "execution_count": null,
   "id": "234d3313",
   "metadata": {},
   "outputs": [],
   "source": [
    "import networkx as nx"
   ]
  },
  {
   "cell_type": "code",
   "execution_count": null,
   "id": "d1a2aa28",
   "metadata": {},
   "outputs": [],
   "source": [
    "edgotype_train = nx.read_gpickle(\"data/y2hEdgotyping/edgotype_train.gpickle\")"
   ]
  },
  {
   "cell_type": "code",
   "execution_count": null,
   "id": "3727e233",
   "metadata": {},
   "outputs": [],
   "source": [
    "import pandas as pd"
   ]
  },
  {
   "cell_type": "code",
   "execution_count": null,
   "id": "71774f04",
   "metadata": {},
   "outputs": [],
   "source": [
    "intinsider = pd.read_csv(\"/data/dzeiberg/interactomeInsider/H_sapiens_interfacesHQ.txt\",\n",
    "                         delimiter=\"\\t\")"
   ]
  },
  {
   "cell_type": "code",
   "execution_count": null,
   "id": "0dbeb26e",
   "metadata": {},
   "outputs": [],
   "source": [
    "intinsider"
   ]
  },
  {
   "cell_type": "code",
   "execution_count": null,
   "id": "f54e8571",
   "metadata": {},
   "outputs": [],
   "source": [
    "uniprotEdges = []\n",
    "for id_x, id_y,edge in edgotype_train.edges(data=True):\n",
    "    x = edgotype_train.nodes[id_x]\n",
    "    y = edgotype_train.nodes[id_y]\n",
    "    acc_x = x[\"uniprotMatches\"].Entry.values\n",
    "    acc_y = y[\"uniprotMatches\"].Entry.values\n",
    "    uniprotEdges.append((acc_x,acc_y,id_x,id_y,edge))\n",
    "\n",
    "uniprotEdges = pd.DataFrame([pd.Series(data=[e[0][0] if len(e[0]) else np.nan for e in uniprotEdges],name=\"P1\"),\n",
    "                             pd.Series(data=[e[1][0] if len(e[1]) else np.nan for e in uniprotEdges],name=\"P2\"),\n",
    "                             pd.Series(data=[e[2] for e in uniprotEdges],name=\"ensg_P1\"),\n",
    "                             pd.Series(data=[e[3] for e in uniprotEdges],name=\"ensg_P2\"),\n",
    "                             pd.Series(data=[e[4] for e in uniprotEdges],name=\"edge_attrs\")]).T"
   ]
  },
  {
   "cell_type": "code",
   "execution_count": null,
   "id": "cfcca926",
   "metadata": {},
   "outputs": [],
   "source": [
    "uniprotEdges"
   ]
  },
  {
   "cell_type": "code",
   "execution_count": null,
   "id": "afdbd499",
   "metadata": {},
   "outputs": [],
   "source": [
    "edgePredictedBindingSites = pd.concat((pd.merge(intinsider,uniprotEdges,how=\"inner\",\n",
    "                                                left_on=[\"P1\",\"P2\"],\n",
    "                                                right_on=[\"P1\",\"P2\"]),\n",
    "                                       pd.merge(intinsider,uniprotEdges,how=\"inner\",\n",
    "                                                left_on=[\"P1\",\"P2\"],\n",
    "                                                right_on=[\"P2\",\"P1\"]).drop([\"P1_y\",\n",
    "                                                                            \"P2_y\"],\n",
    "                                                                           axis=1).rename({\"P1_x\":\"P1\",\n",
    "                                                                                                           \"P2_x\":\"P2\"},axis=1))).reset_index()"
   ]
  },
  {
   "cell_type": "code",
   "execution_count": null,
   "id": "87e5293b",
   "metadata": {},
   "outputs": [],
   "source": [
    "def parseRanges(s):\n",
    "    if \",\" not in s:\n",
    "        return []\n",
    "    vals = s[1:-1].split(\",\")\n",
    "    values = []\n",
    "    if not len(vals):\n",
    "        return values\n",
    "    for v in vals:\n",
    "        if \"-\" in v:\n",
    "            v0, v1 = [int(i) for i in v.split(\"-\")]\n",
    "            values += range(v0,v1+1)\n",
    "        else:\n",
    "            try:\n",
    "                values.append(int(v))\n",
    "            except ValueError:\n",
    "                print(s)\n",
    "                raise ValueError\n",
    "    return values"
   ]
  },
  {
   "cell_type": "code",
   "execution_count": null,
   "id": "92cb42c1",
   "metadata": {},
   "outputs": [],
   "source": [
    "edgePredictedBindingSites = edgePredictedBindingSites.assign(P1_IRES=edgePredictedBindingSites.P1_IRES.apply(parseRanges),\n",
    "                                                             P2_IRES=edgePredictedBindingSites.P2_IRES.apply(parseRanges))"
   ]
  },
  {
   "cell_type": "code",
   "execution_count": null,
   "id": "a62d093a",
   "metadata": {},
   "outputs": [],
   "source": [
    "def make_y2h_target(d):\n",
    "    names = [\"LWH1_f_\",\"LWH10_f_\",\"LWH25_f_\",\n",
    "             \"LWA_f_\",\"LWAH1_f_\"]\n",
    "    deltas = np.zeros(len(names))\n",
    "    for i,name in enumerate(names):\n",
    "        deltas[i] = d[name+\"wt\"] - d[name+\"mt\"]\n",
    "    return np.any(deltas >= 2)"
   ]
  },
  {
   "cell_type": "code",
   "execution_count": null,
   "id": "c7233d21",
   "metadata": {},
   "outputs": [],
   "source": [
    "def proximityToSite(r):\n",
    "    loc = int(r[\"edge_attrs\"][\"aa_change_mt\"][3:-3])\n",
    "    if r[\"edge_attrs\"][\"db_ensembl_gene_id_mt\"] == r.ensg_P1:\n",
    "        site = r.P1_IRES\n",
    "    else:\n",
    "        site = r.P2_IRES\n",
    "    if not len(site):\n",
    "        return -1e10\n",
    "    return -1 * min([abs(loc - s) for s in site])"
   ]
  },
  {
   "cell_type": "code",
   "execution_count": null,
   "id": "d69c7592",
   "metadata": {},
   "outputs": [],
   "source": [
    "edgePredictedBindingSites = edgePredictedBindingSites.assign(proximity_to_site=edgePredictedBindingSites.apply(proximityToSite,axis=1))"
   ]
  },
  {
   "cell_type": "code",
   "execution_count": null,
   "id": "8c0e5fc4",
   "metadata": {},
   "outputs": [],
   "source": [
    "edgePredictedBindingSites = edgePredictedBindingSites.assign(y2h_target=edgePredictedBindingSites.edge_attrs.apply(make_y2h_target),\n",
    "                                                             variantAtBindingSite=edgePredictedBindingSites.apply(lambda row:row[\"edge_attrs\"],axis=0))"
   ]
  },
  {
   "cell_type": "code",
   "execution_count": null,
   "id": "a3ffd262",
   "metadata": {},
   "outputs": [],
   "source": [
    "from sklearn.metrics import roc_auc_score"
   ]
  },
  {
   "cell_type": "code",
   "execution_count": null,
   "id": "03e60bf4",
   "metadata": {},
   "outputs": [],
   "source": [
    "edgePredictedBindingSites"
   ]
  },
  {
   "cell_type": "code",
   "execution_count": null,
   "id": "dc36ef08",
   "metadata": {},
   "outputs": [],
   "source": [
    "roc_auc_score(edgePredictedBindingSites[\"y2h_target\"],edgePredictedBindingSites[\"variant_at_site\"])"
   ]
  },
  {
   "cell_type": "code",
   "execution_count": null,
   "id": "ce59258d",
   "metadata": {},
   "outputs": [],
   "source": []
  }
 ],
 "metadata": {
  "language_info": {
   "name": "python",
   "pygments_lexer": "ipython3"
  }
 },
 "nbformat": 4,
 "nbformat_minor": 5
}
