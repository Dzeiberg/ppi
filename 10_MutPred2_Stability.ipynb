{
 "cells": [
  {
   "cell_type": "code",
   "execution_count": null,
   "id": "8abf9441",
   "metadata": {},
   "outputs": [],
   "source": [
    "import pandas as pd\n",
    "import numpy as np\n",
    "import glob\n",
    "import os"
   ]
  },
  {
   "cell_type": "code",
   "execution_count": null,
   "id": "16413f53",
   "metadata": {},
   "outputs": [],
   "source": [
    "mp2 = pd.read_csv(\"/data/dzeiberg/ppi/y2hEdgotyping/mutpred2Results_v2/variants.faa.out\")"
   ]
  },
  {
   "cell_type": "code",
   "execution_count": null,
   "id": "6855d797",
   "metadata": {},
   "outputs": [],
   "source": [
    "mp2 = mp2.assign(mm=mp2[\"Molecular mechanisms with Pr >= 0.01 and P < 1.00\"])"
   ]
  },
  {
   "cell_type": "code",
   "execution_count": null,
   "id": "747f6efa",
   "metadata": {},
   "outputs": [],
   "source": [
    "import re\n",
    "def getFloats(s):\n",
    "    numeric_const_pattern = '[-+]? (?: (?: \\d* \\. \\d+ ) | (?: \\d+ \\.? ) )(?: [Ee] [+-]? \\d+ ) ?'\n",
    "    rx = re.compile(numeric_const_pattern,re.VERBOSE)\n",
    "    return [float(f) for f in rx.findall(s)]"
   ]
  },
  {
   "cell_type": "code",
   "execution_count": null,
   "id": "08e67dfd",
   "metadata": {},
   "outputs": [],
   "source": [
    "def getStability(res,prob=True):\n",
    "    property_pr_p = [(si[:si.find(\"(\")],getFloats(si))for si in sorted([s.strip() for s in res.split(\";\")])]\n",
    "    for (prop,vals) in property_pr_p:\n",
    "        pr,p = vals[-2:]\n",
    "        if prop == \"Altered Stability \":\n",
    "            if prob:\n",
    "                return pr\n",
    "            return p"
   ]
  },
  {
   "cell_type": "code",
   "execution_count": null,
   "id": "1828a925",
   "metadata": {},
   "outputs": [],
   "source": [
    "import networkx as nx\n",
    "edgotype_train = nx.read_gpickle(\"data/y2hEdgotyping/edgotype_train.gpickle\")"
   ]
  },
  {
   "cell_type": "code",
   "execution_count": null,
   "id": "e6b14b43",
   "metadata": {},
   "outputs": [],
   "source": [
    "e = next(iter(edgotype_train.edges(data=True)))"
   ]
  },
  {
   "cell_type": "code",
   "execution_count": null,
   "id": "3f511cde",
   "metadata": {},
   "outputs": [],
   "source": [
    "def make_y2h_target(d):\n",
    "    names = [\"LWH1_f_\",\"LWH10_f_\",\"LWH25_f_\",\n",
    "             \"LWA_f_\",\"LWAH1_f_\"]\n",
    "    deltas = np.zeros(len(names))\n",
    "    for i,name in enumerate(names):\n",
    "        deltas[i] = d[name+\"wt\"] - d[name+\"mt\"]\n",
    "    return np.any(deltas >= 2)"
   ]
  },
  {
   "cell_type": "code",
   "execution_count": null,
   "id": "e779bfb6",
   "metadata": {},
   "outputs": [],
   "source": [
    "probs,labels = list(zip(*[(getStability(e[2][\"Molecular mechanisms with Pr >= 0.01 and P < 0.99\"]),\n",
    "                                    make_y2h_target(e[2])) for e in edgotype_train.edges(data=True)]))\n",
    "\n"
   ]
  },
  {
   "cell_type": "code",
   "execution_count": null,
   "id": "1dcf56a8",
   "metadata": {},
   "outputs": [],
   "source": [
    "sum([p is None for p in probs])"
   ]
  },
  {
   "cell_type": "code",
   "execution_count": null,
   "id": "7c5cac54",
   "metadata": {},
   "outputs": [],
   "source": [
    "len(probs)"
   ]
  },
  {
   "cell_type": "code",
   "execution_count": null,
   "id": "d220344a",
   "metadata": {},
   "outputs": [],
   "source": [
    "labels = np.array([labels[i] for i in range(len(labels)) if probs[i] is not None])\n",
    "probs = np.array([p for p in probs if p is not None])"
   ]
  },
  {
   "cell_type": "code",
   "execution_count": null,
   "id": "00000419",
   "metadata": {},
   "outputs": [],
   "source": [
    "import matplotlib.pyplot as plt"
   ]
  },
  {
   "cell_type": "code",
   "execution_count": null,
   "id": "b0e8cba3",
   "metadata": {},
   "outputs": [],
   "source": [
    "plt.hist(probs[labels],density=True)\n",
    "plt.hist(probs[~labels],alpha=.5,density=True)"
   ]
  },
  {
   "cell_type": "code",
   "execution_count": null,
   "id": "66b8200f",
   "metadata": {},
   "outputs": [],
   "source": [
    "from scipy.io import loadmat"
   ]
  },
  {
   "cell_type": "code",
   "execution_count": null,
   "id": "c35493b3",
   "metadata": {},
   "outputs": [],
   "source": [
    "m = loadmat(\"/data/utilities/bio/mutpred2_source/all_models/model_Stability_081416.mat\")"
   ]
  },
  {
   "cell_type": "code",
   "execution_count": null,
   "id": "fc055cdd",
   "metadata": {},
   "outputs": [],
   "source": [
    "m.keys()"
   ]
  },
  {
   "cell_type": "code",
   "execution_count": null,
   "id": "e9c6f726",
   "metadata": {},
   "outputs": [],
   "source": [
    "m[\"nn_model\"].shape"
   ]
  },
  {
   "cell_type": "code",
   "execution_count": null,
   "id": "20141b79",
   "metadata": {},
   "outputs": [],
   "source": [
    "m[\"features\"].shape"
   ]
  },
  {
   "cell_type": "code",
   "execution_count": null,
   "id": "74a288ea",
   "metadata": {},
   "outputs": [],
   "source": []
  }
 ],
 "metadata": {
  "language_info": {
   "name": "python",
   "pygments_lexer": "ipython3"
  }
 },
 "nbformat": 4,
 "nbformat_minor": 5
}
