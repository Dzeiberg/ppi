{
 "cells": [
  {
   "cell_type": "code",
   "execution_count": null,
   "id": "2fac9a7c",
   "metadata": {},
   "outputs": [],
   "source": [
    "import networkx as nx"
   ]
  },
  {
   "cell_type": "code",
   "execution_count": null,
   "id": "e4bab726",
   "metadata": {},
   "outputs": [],
   "source": [
    "edgotype_train = nx.read_gpickle(\"data/y2hEdgotyping/edgotype_train.gpickle\")"
   ]
  },
  {
   "cell_type": "code",
   "execution_count": null,
   "id": "b3e2ea5c",
   "metadata": {},
   "outputs": [],
   "source": [
    "next(iter(edgotype_train.edges(data=True)))"
   ]
  },
  {
   "cell_type": "code",
   "execution_count": null,
   "id": "58bb26a4",
   "metadata": {},
   "outputs": [],
   "source": [
    "edgotype_train.nodes[\"ENSG00000155755\"]"
   ]
  },
  {
   "cell_type": "code",
   "execution_count": null,
   "id": "ed6213f4",
   "metadata": {},
   "outputs": [],
   "source": [
    "edgotype_train.nodes[\"ENSG00000134049\"][\"seq\"][:77] + \"P\" + edgotype_train.nodes[\"ENSG00000134049\"][\"seq\"][78:]"
   ]
  },
  {
   "cell_type": "code",
   "execution_count": null,
   "id": "22fcf09f",
   "metadata": {},
   "outputs": [],
   "source": [
    "edgotype_train.nodes[\"ENSG00000134049\"][\"seq\"]"
   ]
  },
  {
   "cell_type": "code",
   "execution_count": null,
   "id": "79ac76a2",
   "metadata": {},
   "outputs": [],
   "source": [
    "n2e = {ensg: {\"structure\":edgotype_train.nodes[ensg][\"alphafoldStructures\"],\n",
    "              \"mutations\":[]} for ensg in edgotype_train.nodes()}"
   ]
  },
  {
   "cell_type": "code",
   "execution_count": null,
   "id": "7228e415",
   "metadata": {},
   "outputs": [],
   "source": [
    "for u,v,e in edgotype_train.edges(data=True):\n",
    "    k = e[\"db_ensembl_gene_id_mt\"]\n",
    "    n2e[k][\"mutations\"].append(e[\"Substitution\"])"
   ]
  },
  {
   "cell_type": "code",
   "execution_count": null,
   "id": "429e0a3d",
   "metadata": {},
   "outputs": [],
   "source": [
    "n2e = {k:{\"mutations\":v[\"mutations\"],\n",
    "         \"structure\":v[\"structure\"][0]} for k,v in n2e.items() if len(v[\"mutations\"]) and len(v[\"structure\"])}"
   ]
  },
  {
   "cell_type": "code",
   "execution_count": null,
   "id": "f4dd8a22",
   "metadata": {},
   "outputs": [],
   "source": [
    "from Bio.PDB import PDBParser"
   ]
  },
  {
   "cell_type": "code",
   "execution_count": null,
   "id": "0ee61799",
   "metadata": {},
   "outputs": [],
   "source": [
    "parser = PDBParser()"
   ]
  },
  {
   "cell_type": "code",
   "execution_count": null,
   "id": "d9a0d007",
   "metadata": {},
   "outputs": [],
   "source": [
    "import gzip"
   ]
  },
  {
   "cell_type": "code",
   "execution_count": null,
   "id": "43696719",
   "metadata": {},
   "outputs": [],
   "source": [
    "for k,v in n2e.items():\n",
    "    with gzip.open(v[\"structure\"],\"rt\") as f:\n",
    "        struc =parser.get_structure(\"AF-O75800\", f)\n",
    "        n2e[k][\"chains\"] = [c.id for c in struc.get_chains()][0]"
   ]
  },
  {
   "cell_type": "code",
   "execution_count": null,
   "id": "f8f5feb5",
   "metadata": {},
   "outputs": [],
   "source": [
    "mutfile = lambda loc,chain,aa_mut:f\"\"\"NATRO\n",
    "start\n",
    "{loc} {chain} PIKAA {aa_mut}\n",
    "\"\"\""
   ]
  },
  {
   "cell_type": "code",
   "execution_count": null,
   "id": "875ee44f",
   "metadata": {},
   "outputs": [],
   "source": [
    "import os"
   ]
  },
  {
   "cell_type": "code",
   "execution_count": null,
   "id": "ee48b684",
   "metadata": {},
   "outputs": [],
   "source": [
    "from shutil import move,copy"
   ]
  },
  {
   "cell_type": "code",
   "execution_count": null,
   "id": "f8dcb6c6",
   "metadata": {},
   "outputs": [],
   "source": [
    "import sys"
   ]
  },
  {
   "cell_type": "code",
   "execution_count": null,
   "id": "b1ff04e1",
   "metadata": {},
   "outputs": [],
   "source": [
    "import subprocess"
   ]
  },
  {
   "cell_type": "code",
   "execution_count": null,
   "id": "bff33439",
   "metadata": {},
   "outputs": [],
   "source": [
    "from tqdm import tqdm"
   ]
  },
  {
   "cell_type": "code",
   "execution_count": null,
   "id": "c5b37f59",
   "metadata": {},
   "outputs": [],
   "source": [
    "for k,v in tqdm(n2e.items(),total=len(n2e)):\n",
    "    for mutation in set(v[\"mutations\"]):\n",
    "        pth = f\"/home/dzeiberg/flex_ddG_tutorial/ppi_inputs/{k}_{mutation[:-1]}_{mutation[-1]}\"\n",
    "        if not os.path.isdir(pth):\n",
    "            os.mkdir(pth)\n",
    "        with open(os.path.join(pth,\"chains_to_move.txt\"),\"w\") as f:\n",
    "            f.write(v[\"chains\"])\n",
    "#         copy(v[\"structure\"],pth)\n",
    "        sf = v[\"structure\"]\n",
    "        of = os.path.join(pth,f\"{k}.pdb\")\n",
    "        os.system(f\"gunzip -c {sf} > {of}\")\n",
    "        os.chdir(pth)\n",
    "        os.system(f\"/data/utilities/bio/rosetta/rosetta.source.release-333/main/tools/protein_tools/scripts/clean_pdb.py {of} A\")\n",
    "        os.system(f\"rm {of}\")\n",
    "        with open(os.path.join(pth,\"nataa_mutations.resfile\"),\"w\") as f:\n",
    "            f.write(mutfile(mutation[1:-1],v[\"chains\"],mutation[-1]))"
   ]
  },
  {
   "cell_type": "code",
   "execution_count": null,
   "id": "263d41eb",
   "metadata": {},
   "outputs": [],
   "source": []
  }
 ],
 "metadata": {
  "language_info": {
   "name": "python",
   "pygments_lexer": "ipython3"
  }
 },
 "nbformat": 4,
 "nbformat_minor": 5
}
