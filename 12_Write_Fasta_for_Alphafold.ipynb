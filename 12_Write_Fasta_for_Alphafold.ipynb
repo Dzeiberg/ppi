{
 "cells": [
  {
   "cell_type": "code",
   "execution_count": null,
   "id": "14699049",
   "metadata": {},
   "outputs": [],
   "source": [
    "import networkx as nx"
   ]
  },
  {
   "cell_type": "code",
   "execution_count": null,
   "id": "28aeaa7c",
   "metadata": {},
   "outputs": [],
   "source": [
    "edgotype_train = nx.read_gpickle(\"data/y2hEdgotyping/edgotype_train.gpickle\")\n",
    "edgotype_val = nx.read_gpickle(\"data/y2hEdgotyping/edgotype_val.gpickle\")\n",
    "edgotype_test = nx.read_gpickle(\"data/y2hEdgotyping/edgotype_test.gpickle\")"
   ]
  },
  {
   "cell_type": "code",
   "execution_count": null,
   "id": "e8784f2a",
   "metadata": {},
   "outputs": [],
   "source": [
    "len(edgotype_train.edges()) + len(edgotype_val.edges())# + len(edgotype_test.edges())"
   ]
  },
  {
   "cell_type": "code",
   "execution_count": null,
   "id": "7bbe18b8",
   "metadata": {},
   "outputs": [],
   "source": [
    "2784 * 3.5 / 24"
   ]
  },
  {
   "cell_type": "code",
   "execution_count": null,
   "id": "27dacbb7",
   "metadata": {},
   "outputs": [],
   "source": [
    "syms = [\"PTK2\",\"SRC\",\n",
    "        \"LMNB1\",\"LMNA\",\n",
    "       'NFE2L1',\"MAFG\",\n",
    "       \"CDK2\",\"CKS1B\",\n",
    "       \"JUNB\",\"BATF\",\n",
    "       \"CASP9\", \"XIAP\",\n",
    "       \"MAD2L1\",\"MAD1L1\",\n",
    "       \"CRADD\",\"CASP2\",\n",
    "       \"LSM3\",\"LSM2\"]"
   ]
  },
  {
   "cell_type": "code",
   "execution_count": null,
   "id": "97c4d4b2",
   "metadata": {},
   "outputs": [],
   "source": [
    "[n for n in edgotype_train.nodes(data=True) \\\n",
    " if n[1][\"symbol\"] in syms]"
   ]
  },
  {
   "cell_type": "code",
   "execution_count": null,
   "id": "eefbb11a",
   "metadata": {},
   "outputs": [],
   "source": [
    "[n[1][\"symbol\"] for n in edgotype_val.nodes(data=True) \\\n",
    " if n[1][\"symbol\"] in syms]"
   ]
  },
  {
   "cell_type": "code",
   "execution_count": null,
   "id": "ca4df065",
   "metadata": {},
   "outputs": [],
   "source": [
    "[(n[1][\"symbol\"],n[0]) for n in edgotype_test.nodes(data=True) \\\n",
    " if n[1][\"symbol\"] in syms]"
   ]
  },
  {
   "cell_type": "code",
   "execution_count": null,
   "id": "a79d286a",
   "metadata": {},
   "outputs": [],
   "source": [
    "muts = list(edgotype_test.edges([\"ENSG00000169372\", \"ENSG00000106144\"],\n",
    "                    data=True))"
   ]
  },
  {
   "cell_type": "code",
   "execution_count": null,
   "id": "8cf9c77b",
   "metadata": {},
   "outputs": [],
   "source": [
    "e = muts[0][2]"
   ]
  },
  {
   "cell_type": "code",
   "execution_count": null,
   "id": "200735cc",
   "metadata": {},
   "outputs": [],
   "source": []
  },
  {
   "cell_type": "code",
   "execution_count": null,
   "id": "5f1205e3",
   "metadata": {},
   "outputs": [],
   "source": [
    "d = edgotype_test.nodes[e[\"db_ensembl_gene_id_mt\"]]\n",
    "db = d[\"seq\"]"
   ]
  },
  {
   "cell_type": "code",
   "execution_count": null,
   "id": "d7277ef3",
   "metadata": {},
   "outputs": [],
   "source": [
    "d[\"symbol\"]"
   ]
  },
  {
   "cell_type": "code",
   "execution_count": null,
   "id": "dfc3d987",
   "metadata": {},
   "outputs": [],
   "source": [
    "a = edgotype_test.nodes[e[\"ad_ensembl_gene_id_mt\"]]\n",
    "ad = a[\"seq\"]"
   ]
  },
  {
   "cell_type": "code",
   "execution_count": null,
   "id": "53d2bd67",
   "metadata": {},
   "outputs": [],
   "source": [
    "a[\"symbol\"]"
   ]
  },
  {
   "cell_type": "code",
   "execution_count": null,
   "id": "144cd893",
   "metadata": {},
   "outputs": [],
   "source": [
    "varstr = e[\"aa_change_mt\"]"
   ]
  },
  {
   "cell_type": "code",
   "execution_count": null,
   "id": "1c43f756",
   "metadata": {},
   "outputs": [],
   "source": [
    "og,loc,var = varstr[:3],int(varstr[3:-3]) - 1, varstr[-3:]"
   ]
  },
  {
   "cell_type": "code",
   "execution_count": null,
   "id": "02d30ad7",
   "metadata": {},
   "outputs": [],
   "source": [
    "aaPairs = {\"A\":\"Ala\", \"R\":\"Arg\", \"N\":\"Asn\", \"D\":\"Asp\",\n",
    "           \"C\":\"Cys\", \"E\":\"Glu\", \"Q\":\"Gln\", \"G\":\"Gly\",\n",
    "           \"H\":\"His\", \"I\":\"Ile\", \"L\":\"Leu\", \"K\":\"Lys\",\n",
    "           \"M\":\"Met\", \"F\":\"Phe\", \"P\":\"Pro\", \"S\":\"Ser\",\n",
    "           \"T\":\"Thr\", \"W\":\"Trp\", \"Y\":\"Tyr\", \"V\":\"Val\"}\n",
    "\n",
    "aaTable = dict(list(zip(*list(zip(*aaPairs.items()))[::-1])))"
   ]
  },
  {
   "cell_type": "code",
   "execution_count": null,
   "id": "19dfa685",
   "metadata": {},
   "outputs": [],
   "source": [
    "with open(\"/data/dzeiberg/tmp/testAlphafold/wt/input.fasta\",\"w\") as f:\n",
    "    f.write(f\">db\\n{db}\\n>ad\\n{ad}\")"
   ]
  },
  {
   "cell_type": "code",
   "execution_count": null,
   "id": "d78973e7",
   "metadata": {},
   "outputs": [],
   "source": [
    "var"
   ]
  },
  {
   "cell_type": "code",
   "execution_count": null,
   "id": "56b619d6",
   "metadata": {},
   "outputs": [],
   "source": [
    "db_mut = db[:loc] + aaTable[var] + db[loc + 1:]"
   ]
  },
  {
   "cell_type": "code",
   "execution_count": null,
   "id": "08a8114d",
   "metadata": {},
   "outputs": [],
   "source": [
    "db_mut"
   ]
  },
  {
   "cell_type": "code",
   "execution_count": null,
   "id": "35585255",
   "metadata": {},
   "outputs": [],
   "source": [
    "with open(\"/data/dzeiberg/tmp/testAlphafold/mt/input.fasta\",\"w\") as f:\n",
    "    f.write(f\">db\\n{db_mut}\\n>ad\\n{ad}\")"
   ]
  },
  {
   "cell_type": "code",
   "execution_count": null,
   "id": "b6f62f69",
   "metadata": {},
   "outputs": [],
   "source": [
    "cat /data/dzeiberg/tmp/testAlphafold/wt/input.fasta"
   ]
  },
  {
   "cell_type": "code",
   "execution_count": null,
   "id": "b76aa0a7",
   "metadata": {},
   "outputs": [],
   "source": []
  }
 ],
 "metadata": {
  "language_info": {
   "name": "python",
   "pygments_lexer": "ipython3"
  }
 },
 "nbformat": 4,
 "nbformat_minor": 5
}
