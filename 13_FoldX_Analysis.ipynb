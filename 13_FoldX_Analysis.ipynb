{
 "cells": [
  {
   "cell_type": "code",
   "execution_count": null,
   "id": "498be2da",
   "metadata": {},
   "outputs": [],
   "source": [
    "import networkx as nx\n",
    "edgotype = nx.read_gexf(\"data/y2hEdgotyping/edgotype.gefx\")\n",
    "# edgotype_train = nx.read_gpickle(\"data/y2hEdgotyping/edgotype_train.gpickle\")\n",
    "# edgotype_val = nx.read_gpickle(\"data/y2hEdgotyping/edgotype_val.gpickle\")\n",
    "# edgotype_test = nx.read_gpickle(\"data/y2hEdgotyping/edgotype_test.gpickle\")"
   ]
  },
  {
   "cell_type": "code",
   "execution_count": null,
   "id": "70c728f2",
   "metadata": {},
   "outputs": [],
   "source": [
    "import os\n",
    "import pandas as pd\n",
    "seqFiles = [pd.read_csv(f\"data/y2hEdgotyping/uniprotScan/sequence_{i}.tsv\",delimiter=\"\\t\") for i in range(6)]\n",
    "\n",
    "uniprotMatches = pd.concat(seqFiles)\n",
    "def mergeWithUniprot(graph):\n",
    "    for node in graph.nodes(data=True):\n",
    "        seq = node[1][\"seq\"]\n",
    "        up = uniprotMatches[(uniprotMatches.Sequence == seq) & \\\n",
    "                            (uniprotMatches.Reviewed == \"reviewed\") & \\\n",
    "                           (uniprotMatches.Organism == \"Homo sapiens (Human)\")]\n",
    "        graph.nodes[node[0]][\"uniprotMatches\"] = up\n",
    "        alphafoldStructures = []\n",
    "        for uniprot_id in graph.nodes[node[0]][\"uniprotMatches\"][\"Entry\"]:\n",
    "            fp = f\"/data/dzeiberg/alphafold/predictions/AF-{uniprot_id}-F1-model_v4.pdb.gz\"\n",
    "            if os.path.isfile(fp):\n",
    "                alphafoldStructures.append(fp)\n",
    "        graph.nodes[node[0]][\"alphafoldStructures\"] = alphafoldStructures\n",
    "    return graph"
   ]
  },
  {
   "cell_type": "code",
   "execution_count": null,
   "id": "f026062b",
   "metadata": {},
   "outputs": [],
   "source": [
    "edgotype_x = mergeWithUniprot(edgotype)"
   ]
  },
  {
   "cell_type": "code",
   "execution_count": null,
   "id": "9b2de025",
   "metadata": {},
   "outputs": [],
   "source": [
    "paths = []\n",
    "for ensg,n in edgotype_x.nodes(data=True):\n",
    "    seq = n[\"seq\"]\n",
    "    p = f\"/data/dzeiberg/ppi/alphafold/{ensg}.faa\"\n",
    "    paths.append(p)\n",
    "    with open(p,\"w\") as faa:\n",
    "        faa.write(f\">{ensg}\\n{seq}\\n\")"
   ]
  },
  {
   "cell_type": "code",
   "execution_count": null,
   "id": "45c0e2f1",
   "metadata": {},
   "outputs": [],
   "source": [
    "\",\".join(paths)"
   ]
  },
  {
   "cell_type": "code",
   "execution_count": null,
   "id": "a81ceca9",
   "metadata": {},
   "outputs": [],
   "source": [
    "node2Vars = {}\n",
    "for i,j,e in edgotype_x.edges(data=True):\n",
    "    db = e[\"db_ensembl_gene_id_mt\"]\n",
    "    if db not in node2Vars:\n",
    "        node2Vars[db] = set()\n",
    "    node2Vars[db].add(e[\"Substitution\"])"
   ]
  },
  {
   "cell_type": "code",
   "execution_count": null,
   "id": "5d9ec978",
   "metadata": {},
   "outputs": [],
   "source": [
    "pdbs = set()\n",
    "for _,e in edgotype_x.nodes(data=True):\n",
    "    pdb = e[\"uniprotMatches\"].PDB.values\n",
    "    if len(pdb) and type(pdb[0]) is str:\n",
    "        pdb = pdb[0].split(\";\")\n",
    "        pdbs.update(pdb[:-1])"
   ]
  },
  {
   "cell_type": "code",
   "execution_count": null,
   "id": "b6d7101e",
   "metadata": {},
   "outputs": [],
   "source": [
    "edgotype_x.nodes[\"ENSG00000223609\"]"
   ]
  },
  {
   "cell_type": "code",
   "execution_count": null,
   "id": "132b8e50",
   "metadata": {},
   "outputs": [],
   "source": [
    "muts = list(node2Vars[\"ENSG00000223609\"])\n",
    "with open(\"/home/dzeiberg/test_rosetta/1si4.mutfile\",\"w\") as f:\n",
    "    f.write(str(len(muts)))\n",
    "    f.write(\"\\n\")\n",
    "    for v in muts:\n",
    "        f.write(\"1\\n\")\n",
    "        loc = v[1:-1]\n",
    "        mut = v[-1]\n",
    "        f.write(f\"{loc} A PIKAA {mut}\\n\")"
   ]
  },
  {
   "cell_type": "code",
   "execution_count": null,
   "id": "a9031617",
   "metadata": {},
   "outputs": [],
   "source": [
    "with open(\"/data/dzeiberg/ppi/y2hEdgotyping/foldX/pdb_id_list.txt\",\"w\") as f:\n",
    "    f.write(\",\".join(pdbs))"
   ]
  },
  {
   "cell_type": "code",
   "execution_count": null,
   "id": "5bf7675d",
   "metadata": {},
   "outputs": [],
   "source": [
    "import os\n",
    "import shutil"
   ]
  },
  {
   "cell_type": "code",
   "execution_count": null,
   "id": "038023e0",
   "metadata": {},
   "outputs": [],
   "source": [
    "import subprocess"
   ]
  },
  {
   "cell_type": "code",
   "execution_count": null,
   "id": "ddcc8984",
   "metadata": {},
   "outputs": [],
   "source": []
  },
  {
   "cell_type": "code",
   "execution_count": null,
   "id": "02824c90",
   "metadata": {},
   "outputs": [],
   "source": [
    "for db,varstrs in node2Vars.items():\n",
    "    pdb = edgotype_x.nodes[db][\"uniprotMatches\"].PDB\n",
    "    if len(pdb.values) and type(pdb.values[0]) is str:\n",
    "        pdb_ids = pdb.values[0].strip(\";\").split(\";\")\n",
    "        for i,p_id in enumerate(pdb_ids):\n",
    "            if os.path.isfile(os.path.join(\"/data/dzeiberg/ppi/y2hEdgotyping/foldX/pdb_files/\",p_id+\".pdb\")):\n",
    "                p_dir = os.path.join(\"/data/dzeiberg/ppi/y2hEdgotyping/foldX/data\",db+f\"_struct_{i}\")\n",
    "                if not os.path.isdir(p_dir):\n",
    "                    os.mkdir(p_dir)\n",
    "                shutil.copy(os.path.join(\"/data/dzeiberg/ppi/y2hEdgotyping/foldX/pdb_files/\",p_id+\".pdb\"), p_dir)\n",
    "                subprocess.run([\"/data/utilities/bio/foldX/foldx_20231231\", \"--command=SequenceOnly\", f\"--pdb={p_id}.pdb\"],\n",
    "                                cwd=p_dir,check=True)\n",
    "                with open(os.path.join(p_dir,f\"SO_{p_id}.fxout\")) as so:\n",
    "                    pdb_seq = so.readlines()[1]\n",
    "                with open(os.path.join(p_dir,\"config_1.cfg\"),\"w\") as f:\n",
    "                    f.write(f\"\"\"command=RepairPDB\n",
    "    pdb={p_id}.pdb\"\"\")\n",
    "                validvars = [v for v in varstrs if pdb_seq[int(v[1])] == v[0]]\n",
    "                if len(validvars):\n",
    "                    positions = \",\".join([v[0]+\"A\"+v[1:] for v in validvars])\n",
    "                    with open(os.path.join(p_dir,\"config_2.cfg\"),\"w\") as f:\n",
    "                        f.write(f\"\"\"command=PositionScan\n",
    "        pdb={p_id}.pdb\n",
    "        positions={positions}\"\"\")"
   ]
  },
  {
   "cell_type": "code",
   "execution_count": null,
   "id": "e43e2785",
   "metadata": {},
   "outputs": [],
   "source": [
    "os.path.isfile(os.path.join(p_dir,f\"SO_{p_id}.fxout\"))"
   ]
  },
  {
   "cell_type": "code",
   "execution_count": null,
   "id": "04368c7b",
   "metadata": {},
   "outputs": [],
   "source": [
    "import pandas as pd"
   ]
  },
  {
   "cell_type": "code",
   "execution_count": null,
   "id": "6c7ba769",
   "metadata": {},
   "outputs": [],
   "source": [
    "li = []\n",
    "for n in edgotype_train.nodes(data=True):\n",
    "    m = n[1][\"uniprotMatches\"]\n",
    "#     print(m.PDB.values)\n",
    "    if len(m.PDB.values) and type(m.PDB.values[0]) is str:\n",
    "        li.append(m.PDB.values[0].strip(\";\").split(\";\"))"
   ]
  },
  {
   "cell_type": "code",
   "execution_count": null,
   "id": "7afa036e",
   "metadata": {},
   "outputs": [],
   "source": [
    "pdbids = sum(li,[])"
   ]
  },
  {
   "cell_type": "code",
   "execution_count": null,
   "id": "4a6a63ef",
   "metadata": {},
   "outputs": [],
   "source": [
    "with open(\"/data/dzeiberg/ppi/y2hEdgotyping/foldX/pdb_ids.txt\",\"w\") as f:\n",
    "    f.write(\",\".join(pdbids))"
   ]
  },
  {
   "cell_type": "code",
   "execution_count": null,
   "id": "bbc00b2a",
   "metadata": {},
   "outputs": [],
   "source": []
  }
 ],
 "metadata": {
  "language_info": {
   "name": "python",
   "pygments_lexer": "ipython3"
  }
 },
 "nbformat": 4,
 "nbformat_minor": 5
}
