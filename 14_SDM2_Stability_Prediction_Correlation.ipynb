{
 "cells": [
  {
   "cell_type": "code",
   "execution_count": null,
   "id": "c6bef314",
   "metadata": {},
   "outputs": [],
   "source": [
    "import networkx as nx\n",
    "\n",
    "edgotype_train = nx.read_gpickle(\"data/y2hEdgotyping/edgotype_train.gpickle\")\n",
    "edgotype_val = nx.read_gpickle(\"data/y2hEdgotyping/edgotype_val.gpickle\")\n",
    "edgotype_test = nx.read_gpickle(\"data/y2hEdgotyping/edgotype_test.gpickle\")"
   ]
  },
  {
   "cell_type": "code",
   "execution_count": null,
   "id": "de41d64e",
   "metadata": {},
   "outputs": [],
   "source": [
    "ensg_id = \"ENSG00000123700\""
   ]
  },
  {
   "cell_type": "markdown",
   "id": "3d9e5104",
   "metadata": {},
   "source": [
    "### Get edges corresponding to mutations to this gene"
   ]
  },
  {
   "cell_type": "code",
   "execution_count": null,
   "id": "b8d652ab",
   "metadata": {},
   "outputs": [],
   "source": [
    "edgeList = [e for e in edgotype_train.edges(\"ENSG00000123700\",data=True) if e[2][\"db_ensembl_gene_id_mt\"] == ensg_id]"
   ]
  },
  {
   "cell_type": "markdown",
   "id": "1fdb4153",
   "metadata": {},
   "source": [
    "### List of Partners"
   ]
  },
  {
   "cell_type": "code",
   "execution_count": null,
   "id": "c86fadb2",
   "metadata": {},
   "outputs": [],
   "source": [
    "set([e[2][\"ad_ensembl_gene_id_mt\"] for e in edgeList])"
   ]
  },
  {
   "cell_type": "code",
   "execution_count": null,
   "id": "8deede13",
   "metadata": {},
   "outputs": [],
   "source": [
    "def getPPILabel(e):\n",
    "    y = np.zeros(5)\n",
    "    for i,med in enumerate([\"LWH1_f_\", \"LWH10_f_\",\n",
    "               \"LWH25_f_\", \"LWA_f_\",\"LWAH1_f_\"]):\n",
    "        s_wt = e[med+\"wt\"]\n",
    "        s_mt = e[med+\"mt\"]\n",
    "        if not (np.isnan(s_wt) or np.isnan(s_mt)):\n",
    "            y[i] = s_wt - s_mt\n",
    "    print(y)\n",
    "    return np.all(y[2:] > 1) "
   ]
  },
  {
   "cell_type": "code",
   "execution_count": null,
   "id": "6b279c0f",
   "metadata": {},
   "outputs": [],
   "source": [
    "mut2Edge = {}\n",
    "for e in edgeList:\n",
    "    s = e[2][\"Substitution\"]\n",
    "    if s not in mut2Edge:\n",
    "        mut2Edge[s] = []\n",
    "    mut2Edge[s].append((*e,getPPILabel(e[2])))"
   ]
  },
  {
   "cell_type": "code",
   "execution_count": null,
   "id": "32cf520c",
   "metadata": {},
   "outputs": [],
   "source": [
    "for m,edges in mut2Edge.items():\n",
    "    print(m,[e[-1] for e in edges])"
   ]
  },
  {
   "cell_type": "code",
   "execution_count": null,
   "id": "f9519d0e",
   "metadata": {},
   "outputs": [],
   "source": []
  }
 ],
 "metadata": {
  "language_info": {
   "name": "python",
   "pygments_lexer": "ipython3"
  }
 },
 "nbformat": 4,
 "nbformat_minor": 5
}
