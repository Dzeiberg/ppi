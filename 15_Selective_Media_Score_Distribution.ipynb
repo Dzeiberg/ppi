{
 "cells": [
  {
   "cell_type": "code",
   "execution_count": null,
   "id": "d423be1e",
   "metadata": {},
   "outputs": [],
   "source": [
    "import networkx as nx\n",
    "\n",
    "edgotype_train = nx.read_gpickle(\"data/y2hEdgotyping/edgotype_train.gpickle\")\n",
    "edgotype_val = nx.read_gpickle(\"data/y2hEdgotyping/edgotype_val.gpickle\")\n",
    "edgotype_test = nx.read_gpickle(\"data/y2hEdgotyping/edgotype_test.gpickle\")"
   ]
  },
  {
   "cell_type": "code",
   "execution_count": null,
   "id": "585302a0",
   "metadata": {},
   "outputs": [],
   "source": [
    "def getPPILabel(e):\n",
    "    y = np.zeros(6)\n",
    "    for i,med in enumerate([\"LW_\",\"LWH1_f_\", \"LWH10_f_\",\n",
    "               \"LWH25_f_\", \"LWA_f_\",\"LWAH1_f_\"]):\n",
    "        s_wt = e[med+\"wt\"]\n",
    "        s_mt = e[med+\"mt\"]\n",
    "        if not (np.isnan(s_wt) or np.isnan(s_mt)):\n",
    "            y[i] = s_wt - s_mt\n",
    "    return y"
   ]
  },
  {
   "cell_type": "code",
   "execution_count": null,
   "id": "87505863",
   "metadata": {},
   "outputs": [],
   "source": [
    "mut2Edge = {}\n",
    "for e in list(edgotype_train.edges(data=True)) + list(edgotype_val.edges(data=True)) + list(edgotype_test.edges(data=True)):\n",
    "    s = e[2][\"Substitution\"]\n",
    "    if s not in mut2Edge:\n",
    "        mut2Edge[s] = []\n",
    "    mut2Edge[s].append((*e,getPPILabel(e[2])))"
   ]
  },
  {
   "cell_type": "code",
   "execution_count": null,
   "id": "cdf26a15",
   "metadata": {},
   "outputs": [],
   "source": [
    "vals = []\n",
    "for mut,edges in mut2Edge.items():\n",
    "    cln_sig = set([e[2][\"clinical_significance_mt\"] for e in edges])\n",
    "    scores = [e[-1] for e in edges]\n",
    "    vals.append({\"mutation\":mut, \"cln_sig\":cln_sig,\"scores\":scores})"
   ]
  },
  {
   "cell_type": "code",
   "execution_count": null,
   "id": "8bc63ca4",
   "metadata": {},
   "outputs": [],
   "source": [
    "b = []\n",
    "p = []\n",
    "vus = []\n",
    "for v in vals:\n",
    "    avgScore = np.stack(v[\"scores\"]).mean(0)\n",
    "    if \"Pathogenic\" in v[\"cln_sig\"]:\n",
    "        p.append(avgScore)\n",
    "    elif \"Benign\" in v[\"cln_sig\"]:\n",
    "        b.append(avgScore)\n",
    "    else:\n",
    "        vus.append(avgScore)"
   ]
  },
  {
   "cell_type": "code",
   "execution_count": null,
   "id": "e22c6927",
   "metadata": {},
   "outputs": [],
   "source": [
    "bV = np.stack(b)"
   ]
  },
  {
   "cell_type": "code",
   "execution_count": null,
   "id": "35b42311",
   "metadata": {},
   "outputs": [],
   "source": [
    "pV = np.stack(p)"
   ]
  },
  {
   "cell_type": "code",
   "execution_count": null,
   "id": "08a7f888",
   "metadata": {},
   "outputs": [],
   "source": [
    "vusV = np.stack(vus)"
   ]
  },
  {
   "cell_type": "code",
   "execution_count": null,
   "id": "d27418cb",
   "metadata": {},
   "outputs": [],
   "source": [
    "import matplotlib.pyplot as plt"
   ]
  },
  {
   "cell_type": "code",
   "execution_count": null,
   "id": "7881a104",
   "metadata": {},
   "outputs": [],
   "source": [
    "bins"
   ]
  },
  {
   "cell_type": "code",
   "execution_count": null,
   "id": "cf6eddef",
   "metadata": {},
   "outputs": [],
   "source": [
    "fig,ax = plt.subplots(4,6,figsize=(16,6),sharex=True)\n",
    "for i in range(bV.shape[1]):\n",
    "    bVals,bins,_ = ax[0,i].hist(bV[:,i],bins=np.arange(-1,4),density=True)\n",
    "    vusVals,_,_ = ax[1,i].hist(vusV[:,i],bins=bins,density=True)\n",
    "    pVals,_,_ = ax[2,i].hist(pV[:,i],bins=bins,density=True)\n",
    "    ax[3,i].plot(bins[:-1],pVals/bVals)"
   ]
  },
  {
   "cell_type": "code",
   "execution_count": null,
   "id": "4f7bcff4",
   "metadata": {},
   "outputs": [],
   "source": []
  }
 ],
 "metadata": {
  "language_info": {
   "name": "python",
   "pygments_lexer": "ipython3"
  }
 },
 "nbformat": 4,
 "nbformat_minor": 5
}
