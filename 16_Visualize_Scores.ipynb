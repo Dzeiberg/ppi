{
 "cells": [
  {
   "cell_type": "code",
   "execution_count": null,
   "id": "0ad978b2",
   "metadata": {},
   "outputs": [],
   "source": [
    "import networkx as nx\n",
    "\n",
    "edgotype = nx.read_gexf(\"data/y2hEdgotyping/edgotype.gefx\")"
   ]
  },
  {
   "cell_type": "code",
   "execution_count": null,
   "id": "22f0ebc8",
   "metadata": {},
   "outputs": [],
   "source": [
    "import pandas as pd\n",
    "import numpy as np\n",
    "import itertools"
   ]
  },
  {
   "cell_type": "code",
   "execution_count": null,
   "id": "c5360b5c",
   "metadata": {},
   "outputs": [],
   "source": [
    "# CENTERS = [\"ENSG00000004838\",\"ENSG00000134371\"]\n",
    "subgraph = edgotype\n",
    "# subgraph = edgotype.subgraph(CENTERS+list(itertools.chain.from_iterable([edgotype.neighbors(c) for c in CENTERS])))"
   ]
  },
  {
   "cell_type": "code",
   "execution_count": null,
   "id": "318944d2",
   "metadata": {},
   "outputs": [],
   "source": [
    "from collections import Counter"
   ]
  },
  {
   "cell_type": "code",
   "execution_count": null,
   "id": "3d0cb18c",
   "metadata": {},
   "outputs": [],
   "source": [
    "weightedEdges = [tuple([*k,v]) for k,v in dict(Counter(subgraph.edges())).items()]"
   ]
  },
  {
   "cell_type": "code",
   "execution_count": null,
   "id": "8d716872",
   "metadata": {},
   "outputs": [],
   "source": [
    "und_g = nx.Graph()\n",
    "\n",
    "und_g.add_weighted_edges_from(weightedEdges)"
   ]
  },
  {
   "cell_type": "code",
   "execution_count": null,
   "id": "4d476fa7",
   "metadata": {},
   "outputs": [],
   "source": [
    "pos = nx.drawing.nx_agraph.graphviz_layout(und_g,prog='twopi')"
   ]
  },
  {
   "cell_type": "code",
   "execution_count": null,
   "id": "44efceee",
   "metadata": {},
   "outputs": [],
   "source": [
    "# Step 2: Convert graph data from NetworkX's format to the pandas DataFrames expected by Altair\n",
    "\n",
    "pos_df = pd.DataFrame.from_records(dict(node_id=k,\n",
    "                                        x=x,\n",
    "                                        y=y) for k,(x,y) in pos.items())"
   ]
  },
  {
   "cell_type": "code",
   "execution_count": null,
   "id": "27befa51",
   "metadata": {},
   "outputs": [],
   "source": [
    "pos_df"
   ]
  },
  {
   "cell_type": "code",
   "execution_count": null,
   "id": "b7698cbf",
   "metadata": {},
   "outputs": [],
   "source": [
    "node_df = pd.DataFrame.from_records(dict(data,\n",
    "                                         **{'node_id': n,\n",
    "                                           'db': n}) for n,data in subgraph.nodes.data())"
   ]
  },
  {
   "cell_type": "code",
   "execution_count": null,
   "id": "2e966d9e",
   "metadata": {},
   "outputs": [],
   "source": [
    "node_df"
   ]
  },
  {
   "cell_type": "code",
   "execution_count": null,
   "id": "83993a51",
   "metadata": {},
   "outputs": [],
   "source": [
    "import itertools"
   ]
  },
  {
   "cell_type": "code",
   "execution_count": null,
   "id": "216a1616",
   "metadata": {},
   "outputs": [],
   "source": [
    "edge_data = ((dict(d, **{\"edge_id\": i,\n",
    "                         'end':\"source\",\n",
    "                         \"node_id\":s}),\n",
    "             dict(d, **{\"edge_id\": i,\n",
    "                        \"end\": 'target',\n",
    "                        'node_id': t})) for i,\n",
    "             (s,t,d) in enumerate(und_g.edges(data=True)))\n",
    "edge_df = pd.DataFrame.from_records(itertools.chain.from_iterable(edge_data))"
   ]
  },
  {
   "cell_type": "code",
   "execution_count": null,
   "id": "de737b4b",
   "metadata": {},
   "outputs": [],
   "source": [
    "edge_df"
   ]
  },
  {
   "cell_type": "code",
   "execution_count": null,
   "id": "eeb24e1c",
   "metadata": {},
   "outputs": [],
   "source": [
    "data = pd.DataFrame.from_records([{\"db\":e[\"db_ensembl_gene_id_mt\"],\n",
    "                               \"ad\": e[\"ad_ensembl_gene_id_mt\"],\n",
    "                               \"mt\": e[\"aa_change_mt\"],\n",
    "                               \"control_wt\": e[\"LW_wt\"],\n",
    "                               \"control_mt\": e[\"LW_mt\"],\n",
    "                               \"level_1_wt\": e[\"LWH1_f_wt\"],\n",
    "                               \"level_1_mt\": e[\"LWH1_f_mt\"],\n",
    "                               \"level_2_wt\": e[\"LWH10_f_wt\"],\n",
    "                               \"level_2_mt\": e[\"LWH10_f_mt\"],\n",
    "                               \"level_3_wt\": e[\"LWH25_f_wt\"],\n",
    "                               \"level_3_mt\": e[\"LWH25_f_mt\"],\n",
    "                               \"level_4_wt\": e[\"LWA_f_wt\"],\n",
    "                               \"level_4_mt\": e[\"LWA_f_mt\"],\n",
    "                               \"level_5_wt\": e[\"LWAH1_f_wt\"],\n",
    "                               \"level_5_mt\": e[\"LWAH1_f_mt\"],\n",
    "                                  \"db_sym\": subgraph.nodes[e[\"db_ensembl_gene_id_mt\"]][\"symbol\"],\n",
    "                                  \"ad_sym\": subgraph.nodes[e[\"ad_ensembl_gene_id_mt\"]][\"symbol\"],} for _,_,e in subgraph.edges(data=True)])\n",
    "data[\"name\"] = data[['db_sym', 'mt', 'ad_sym']].agg('-'.join, axis=1)"
   ]
  },
  {
   "cell_type": "code",
   "execution_count": null,
   "id": "5ef90f3a",
   "metadata": {},
   "outputs": [],
   "source": [
    "import matplotlib.pyplot as plt"
   ]
  },
  {
   "cell_type": "code",
   "execution_count": null,
   "id": "7b07fd73",
   "metadata": {},
   "outputs": [],
   "source": [
    "data.dropna()[[\"db\",\"ad\"]].drop_duplicates()"
   ]
  },
  {
   "cell_type": "code",
   "execution_count": null,
   "id": "f51756c8",
   "metadata": {},
   "outputs": [],
   "source": [
    "data.shape"
   ]
  },
  {
   "cell_type": "code",
   "execution_count": null,
   "id": "fbf1f6af",
   "metadata": {},
   "outputs": [],
   "source": [
    "wtSub = data[[\"db\",\"ad\",\"mt\"]+[f\"level_{i}_wt\" for i in range(1,6)]].drop_duplicates(subset=[\"db\",\"ad\",\"mt\"])"
   ]
  },
  {
   "cell_type": "code",
   "execution_count": null,
   "id": "b3c22a77",
   "metadata": {},
   "outputs": [],
   "source": [
    "wtSub[wtSub.isna().any(1)]"
   ]
  },
  {
   "cell_type": "code",
   "execution_count": null,
   "id": "1d2a4e48",
   "metadata": {},
   "outputs": [],
   "source": [
    "data[data[[c for c in data.columns if \"_mt\" in c]].isna().any(1)]"
   ]
  },
  {
   "cell_type": "code",
   "execution_count": null,
   "id": "ac114b14",
   "metadata": {},
   "outputs": [],
   "source": [
    "data.dropna(subset=[c for c in data.columns if \"_mt\" not in c])"
   ]
  },
  {
   "cell_type": "code",
   "execution_count": null,
   "id": "7db36aa2",
   "metadata": {},
   "outputs": [],
   "source": [
    "counts = pd.DataFrame(data[[\"db\",\"ad\"]+[f\"level_{i}_wt\" for i in range(1,6)]].drop_duplicates(subset=[\"db\",\"ad\"])[[f\"level_{i}_wt\" for i in range(1,6)]].dropna().value_counts())"
   ]
  },
  {
   "cell_type": "code",
   "execution_count": null,
   "id": "2c93bcaf",
   "metadata": {},
   "outputs": [],
   "source": [
    "counts"
   ]
  },
  {
   "cell_type": "code",
   "execution_count": null,
   "id": "b4f651f0",
   "metadata": {},
   "outputs": [],
   "source": [
    "counts.sort_values(by=\"level_1_wt\",ascending=False)"
   ]
  },
  {
   "cell_type": "code",
   "execution_count": null,
   "id": "69c30ca5",
   "metadata": {},
   "outputs": [],
   "source": [
    "import altair as alt\n",
    "from altair import expr, datum\n",
    "alt.data_transformers.disable_max_rows()"
   ]
  },
  {
   "cell_type": "code",
   "execution_count": null,
   "id": "4cd2b0f6",
   "metadata": {},
   "outputs": [],
   "source": [
    "brush = alt.selection_single(fields=['db'])\n",
    "# point_sel = alt.selection_multi(on=\"[mousedown[event.ctrlKey], mouseup] > mousemove\")"
   ]
  },
  {
   "cell_type": "code",
   "execution_count": null,
   "id": "7278a71d",
   "metadata": {},
   "outputs": [],
   "source": [
    "x,y = alt.X('x:Q', axis=None), alt.Y('y:Q', axis=None)\n",
    "# use a lookup to tie position data to the other graph data\n",
    "node_position_lookup = {\n",
    "    'lookup': 'node_id', \n",
    "    'from_': alt.LookupData(data=pos_df, key='node_id', fields=['x', 'y'])\n",
    "}\n",
    "nodes = (\n",
    "    alt.Chart(node_df)\n",
    "    .mark_circle(size=10, opacity=1)\n",
    "    .encode(x=x, y=y, tooltip='symbol:N',color=alt.condition(brush,alt.value('blue'),alt.value('lightgray')))\n",
    "    .transform_lookup(**node_position_lookup).add_selection(brush)\n",
    ")\n",
    "edges = (\n",
    "    alt.Chart(edge_df)\n",
    "    .mark_line(color='gray')\n",
    "    .encode(x=x, y=y, detail='edge_id:N',size=\"weight:Q\")  # `detail` gives one line per edge\n",
    "    .transform_lookup(**node_position_lookup)\n",
    ")\n",
    "graphChart = (\n",
    "    (edges+nodes)).interactive()\n",
    "#     \n",
    "# )"
   ]
  },
  {
   "cell_type": "code",
   "execution_count": null,
   "id": "135b78ad",
   "metadata": {},
   "outputs": [],
   "source": [
    "chart = alt.Chart(data).mark_point(filled=True).encode(color=\"mt\",\n",
    "                                            opacity=alt.condition(brush,alt.value(1.0),alt.value(0.0025)),\n",
    "                                            tooltip=alt.condition(brush,\"name:N\",alt.value('')),\n",
    "                                            shape='ad_sym').add_selection(brush)\n",
    "c1 = chart.encode(x=alt.X('level_1_wt:Q',\n",
    "                          scale=alt.Scale(domain=[-1,5])),\n",
    "                  y=alt.Y('level_1_mt:Q',\n",
    "                          scale=alt.Scale(domain=[-1,5])),).transform_calculate(level_1_wt='datum.level_1_wt + sampleNormal(0,.05)',\n",
    "                                                             level_1_mt='datum.level_1_mt + sampleNormal(0,.05)').interactive()\n",
    "c2 = chart.encode(x=alt.X('level_2_wt:Q',scale=alt.Scale(domain=[-1,5])),\n",
    "                  y=alt.Y('level_2_mt:Q',scale=alt.Scale(domain=[-1,5]))).transform_calculate(level_2_wt='datum.level_2_wt + sampleNormal(0,.05)',\n",
    "                                                                                            level_2_mt='datum.level_2_mt + sampleNormal(0,.05)').interactive()\n",
    "\n",
    "c3 = chart.encode(x=alt.X('level_3_wt:Q',scale=alt.Scale(domain=[-1,5])),\n",
    "                  y=alt.Y('level_3_mt:Q',scale=alt.Scale(domain=[-1,5]))).transform_calculate(level_3_wt='datum.level_3_wt + sampleNormal(0,.05)',\n",
    "                                                                                            level_3_mt='datum.level_3_mt + sampleNormal(0,.05)').interactive()\n",
    "\n",
    "c4 = chart.encode(x=alt.X('level_4_wt:Q',scale=alt.Scale(domain=[-1,5])),\n",
    "            y=alt.Y('level_4_mt:Q',scale=alt.Scale(domain=[-1,5]))).transform_calculate(level_4_wt='datum.level_4_wt + sampleNormal(0,.05)',\n",
    "                                                             level_4_mt='datum.level_4_mt + sampleNormal(0,.05)').interactive()\n",
    "\n",
    "c5 = chart.encode(x=alt.X('level_5_wt:Q',scale=alt.Scale(domain=[-1,5])),\n",
    "            y=alt.Y('level_5_mt:Q',scale=alt.Scale(domain=[-1,5]))).transform_calculate(level_5_wt='datum.level_5_wt + sampleNormal(0,.05)',\n",
    "                                                             level_5_mt='datum.level_5_mt + sampleNormal(0,.05)').interactive()"
   ]
  },
  {
   "cell_type": "code",
   "execution_count": null,
   "id": "26b9aac9",
   "metadata": {},
   "outputs": [],
   "source": [
    "data.head()"
   ]
  },
  {
   "cell_type": "code",
   "execution_count": null,
   "id": "2f85426e",
   "metadata": {},
   "outputs": [],
   "source": [
    "data.shape"
   ]
  },
  {
   "cell_type": "code",
   "execution_count": null,
   "id": "5684a5eb",
   "metadata": {},
   "outputs": [],
   "source": [
    "c = alt.vconcat(alt.hconcat(c1,c2),\n",
    "                alt.hconcat(c3,c4),\n",
    "                alt.hconcat(c5,graphChart)).configure_view(strokeWidth=0)"
   ]
  },
  {
   "cell_type": "markdown",
   "id": "34234e4a",
   "metadata": {},
   "source": [
    "**level_1 : LWH1_f**\n",
    "- LWH1_f : Selective media score to test for interaction, for yeast spotted on SC -LW -histidine +1 mM 3AT\n",
    "\n",
    "**level_2 : LWH10_f**\n",
    "- LWH10_f : Selective media score to test for interaction, for yeast spotted on SC -LW -histidine +10 mM 3AT\n",
    "\n",
    "**level_3 : LWH25_f**\n",
    "- LWH25_f : Selective media score to test for interaction, for yeast spotted on SC -LW -histidine +25 mM 3AT\n",
    "\n",
    "**level_4 : LWA_f**\n",
    "- LWA_f :Selective media score to test for interaction, for yeast spotted on SC -LW -adenine\n",
    "\n",
    "**level_5 : LWAH1_f**\n",
    "- LWAH1_f :Selective media score to test for interaction, for yeast spotted on SC -LW -adenine -histidine +1 mM 3AT\n",
    "\n",
    "\n",
    "<!-- LW : Selective media score to control for the presence of both plasmids (AD and DB) -->"
   ]
  },
  {
   "cell_type": "code",
   "execution_count": null,
   "id": "2382b7c5",
   "metadata": {},
   "outputs": [],
   "source": [
    "c"
   ]
  },
  {
   "cell_type": "code",
   "execution_count": null,
   "id": "cd625560",
   "metadata": {},
   "outputs": [],
   "source": [
    "data2 = data.assign(delta_1=data.level_1_wt - data.level_1_mt,\n",
    "            delta_2=data.level_2_wt - data.level_2_mt,\n",
    "            delta_3=data.level_3_wt - data.level_3_mt,\n",
    "            delta_4=data.level_4_wt - data.level_4_mt,\n",
    "            delta_5=data.level_5_wt - data.level_5_mt)"
   ]
  },
  {
   "cell_type": "code",
   "execution_count": null,
   "id": "330cd64c",
   "metadata": {},
   "outputs": [],
   "source": [
    "dX = data2[[c for c in data2.columns if \"delta\" in c]].dropna().values\n",
    "\n",
    "# dX = dX[dX]"
   ]
  },
  {
   "cell_type": "code",
   "execution_count": null,
   "id": "2902d4a2",
   "metadata": {},
   "outputs": [],
   "source": [
    "dX"
   ]
  },
  {
   "cell_type": "code",
   "execution_count": null,
   "id": "bb37d1a3",
   "metadata": {},
   "outputs": [],
   "source": [
    "plt.plot(range(1,6),dX.mean(0))\n",
    "plt.fill_between(range(1,6),\n",
    "                  dX.mean(0)-1.96*dX.std(0),\n",
    "                 dX.mean(0)+1.96*dX.std(0),alpha=.25)"
   ]
  },
  {
   "cell_type": "code",
   "execution_count": null,
   "id": "6e6f79c5",
   "metadata": {},
   "outputs": [],
   "source": [
    "dX.shape"
   ]
  },
  {
   "cell_type": "code",
   "execution_count": null,
   "id": "6c6d70f3",
   "metadata": {},
   "outputs": [],
   "source": [
    "dX = dX[~((dX < 0).any(1))]"
   ]
  },
  {
   "cell_type": "code",
   "execution_count": null,
   "id": "56bd3740",
   "metadata": {},
   "outputs": [],
   "source": [
    "dX.shape"
   ]
  },
  {
   "cell_type": "code",
   "execution_count": null,
   "id": "76ba68e7",
   "metadata": {},
   "outputs": [],
   "source": [
    "from sklearn.decomposition import PCA"
   ]
  },
  {
   "cell_type": "code",
   "execution_count": null,
   "id": "8340ed40",
   "metadata": {},
   "outputs": [],
   "source": [
    "pca = PCA(n_components=1)"
   ]
  },
  {
   "cell_type": "code",
   "execution_count": null,
   "id": "5b6b0dd3",
   "metadata": {},
   "outputs": [],
   "source": [
    "pca.fit(dX)"
   ]
  },
  {
   "cell_type": "code",
   "execution_count": null,
   "id": "20c27fe8",
   "metadata": {},
   "outputs": [],
   "source": [
    "plt.hist(pca.transform(dX),bins=25)"
   ]
  },
  {
   "cell_type": "code",
   "execution_count": null,
   "id": "8f4c1352",
   "metadata": {},
   "outputs": [],
   "source": [
    "pca.components_"
   ]
  },
  {
   "cell_type": "code",
   "execution_count": null,
   "id": "c2577625",
   "metadata": {},
   "outputs": [],
   "source": [
    "dX"
   ]
  },
  {
   "cell_type": "code",
   "execution_count": null,
   "id": "3ac35427",
   "metadata": {},
   "outputs": [],
   "source": []
  }
 ],
 "metadata": {
  "language_info": {
   "name": "python",
   "pygments_lexer": "ipython3"
  }
 },
 "nbformat": 4,
 "nbformat_minor": 5
}
