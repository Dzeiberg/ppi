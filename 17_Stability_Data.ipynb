{
 "cells": [
  {
   "cell_type": "code",
   "execution_count": null,
   "id": "0a568b7c",
   "metadata": {},
   "outputs": [],
   "source": [
    "import pandas as pd"
   ]
  },
  {
   "cell_type": "code",
   "execution_count": null,
   "id": "13093f22",
   "metadata": {},
   "outputs": [],
   "source": [
    "df = pd.read_csv(\"/data/dzeiberg/stability/skempi_v2.csv\",delimiter=\";\")"
   ]
  },
  {
   "cell_type": "code",
   "execution_count": null,
   "id": "e7ea9460",
   "metadata": {},
   "outputs": [],
   "source": [
    "df"
   ]
  },
  {
   "cell_type": "code",
   "execution_count": null,
   "id": "53bcbec4",
   "metadata": {},
   "outputs": [],
   "source": [
    "skempi_pdb = set([v[:v.find(\"_\")] if \"_\" in v else v for v in df[\"#Pdb\"].values])"
   ]
  },
  {
   "cell_type": "code",
   "execution_count": null,
   "id": "6ba0644d",
   "metadata": {},
   "outputs": [],
   "source": [
    "len(set(\",\".join(df[\"Mutation(s)_cleaned\"].values).split(\",\")))"
   ]
  },
  {
   "cell_type": "code",
   "execution_count": null,
   "id": "272e7ef0",
   "metadata": {},
   "outputs": [],
   "source": [
    "import networkx as nx\n",
    "\n",
    "edgotype = nx.read_gexf(\"data/y2hEdgotyping/edgotype.gefx\")"
   ]
  },
  {
   "cell_type": "code",
   "execution_count": null,
   "id": "32726fdf",
   "metadata": {},
   "outputs": [],
   "source": [
    "import os\n",
    "import pandas as pd\n",
    "seqFiles = [pd.read_csv(f\"data/y2hEdgotyping/uniprotScan/sequence_{i}.tsv\",delimiter=\"\\t\") for i in range(6)]\n",
    "\n",
    "uniprotMatches = pd.concat(seqFiles)\n",
    "def mergeWithUniprot(graph):\n",
    "    for node in graph.nodes(data=True):\n",
    "        seq = node[1][\"seq\"]\n",
    "        up = uniprotMatches[(uniprotMatches.Sequence == seq) & \\\n",
    "                            (uniprotMatches.Reviewed == \"reviewed\") & \\\n",
    "                           (uniprotMatches.Organism == \"Homo sapiens (Human)\")]\n",
    "        graph.nodes[node[0]][\"uniprotMatches\"] = up\n",
    "        alphafoldStructures = []\n",
    "        for uniprot_id in graph.nodes[node[0]][\"uniprotMatches\"][\"Entry\"]:\n",
    "            fp = f\"/data/dzeiberg/alphafold/predictions/AF-{uniprot_id}-F1-model_v4.pdb.gz\"\n",
    "            if os.path.isfile(fp):\n",
    "                alphafoldStructures.append(fp)\n",
    "        graph.nodes[node[0]][\"alphafoldStructures\"] = alphafoldStructures\n",
    "    return graph"
   ]
  },
  {
   "cell_type": "code",
   "execution_count": null,
   "id": "fc4043d9",
   "metadata": {},
   "outputs": [],
   "source": [
    "edgotype_x = mergeWithUniprot(edgotype)"
   ]
  },
  {
   "cell_type": "code",
   "execution_count": null,
   "id": "44a015fb",
   "metadata": {},
   "outputs": [],
   "source": [
    "import itertools"
   ]
  },
  {
   "cell_type": "code",
   "execution_count": null,
   "id": "ce8c7e50",
   "metadata": {},
   "outputs": [],
   "source": [
    "edgotype_pdb = set(\";\".join(pd.concat([n[1][\"uniprotMatches\"].PDB for n in edgotype_x.nodes(data=True)]).dropna()).split(\";\"))"
   ]
  },
  {
   "cell_type": "code",
   "execution_count": null,
   "id": "b70defd9",
   "metadata": {},
   "outputs": [],
   "source": [
    "nodeInt = {}\n",
    "for node_id, n in edgotype_x.nodes(data=True):\n",
    "    if len(n[\"uniprotMatches\"]):\n",
    "        pdbn = n[\"uniprotMatches\"][\"PDB\"].values[0]\n",
    "        if type(pdbn) is str:\n",
    "            pdb_n = set(pdbn.split(\";\"))\n",
    "            if len(skempi_pdb.intersection(pdb_n)):\n",
    "                subs = [e[\"Substitution\"] for _,_,e in edgotype_x.edges(node_id,\n",
    "                                                                     data=True)]\n",
    "                nodeInt[node_id] = {\"pdb\":pdb_n,\"subs\":subs}"
   ]
  },
  {
   "cell_type": "code",
   "execution_count": null,
   "id": "005a003f",
   "metadata": {},
   "outputs": [],
   "source": [
    "skempiSub = edgotype_x.subgraph(list(nodeInt.keys()) + list(itertools.chain.from_iterable([edgotype_x.neighbors(i) for i in nodeInt.keys()])))"
   ]
  },
  {
   "cell_type": "code",
   "execution_count": null,
   "id": "43cb1f3d",
   "metadata": {},
   "outputs": [],
   "source": [
    "for k,v in nodeInt.items():\n",
    "    print(k,len(v[\"pdb\"]),len(v[\"subs\"]))"
   ]
  },
  {
   "cell_type": "code",
   "execution_count": null,
   "id": "1ec3720d",
   "metadata": {},
   "outputs": [],
   "source": [
    "nodeInt[\"ENSG00000150337\"]"
   ]
  },
  {
   "cell_type": "markdown",
   "id": "c0221be5",
   "metadata": {},
   "source": [
    "# Interactome Insider Overlap"
   ]
  },
  {
   "cell_type": "code",
   "execution_count": null,
   "id": "0e31a887",
   "metadata": {},
   "outputs": [],
   "source": [
    "ii = pd.read_csv(\"/data/dzeiberg/interactomeInsider/H_sapiens_interfacesHQ.txt\",delimiter=\"\\t\")"
   ]
  },
  {
   "cell_type": "code",
   "execution_count": null,
   "id": "b0751c1a",
   "metadata": {},
   "outputs": [],
   "source": [
    "ii.Source.unique()"
   ]
  },
  {
   "cell_type": "code",
   "execution_count": null,
   "id": "03595025",
   "metadata": {},
   "outputs": [],
   "source": [
    "ii = ii[ii.Source.isin([\"PDB\",\"I3D\"])]"
   ]
  },
  {
   "cell_type": "code",
   "execution_count": null,
   "id": "f2318856",
   "metadata": {},
   "outputs": [],
   "source": [
    "ens2uni = {}\n",
    "for ensg, n in edgotype_x.nodes(data=True):\n",
    "    ens2uni[ensg] = n[\"uniprotMatches\"].Entry.values"
   ]
  },
  {
   "cell_type": "code",
   "execution_count": null,
   "id": "1fcf9f6e",
   "metadata": {},
   "outputs": [],
   "source": [
    "uniEdges = []\n",
    "for i,j in edgotype_x.edges():\n",
    "    ui = ens2uni[i]\n",
    "    uj = ens2uni[j]\n",
    "    if len(ui) and len(uj):\n",
    "        uniEdges.append([ui[0],uj[0],i,j])"
   ]
  },
  {
   "cell_type": "code",
   "execution_count": null,
   "id": "9eb09cea",
   "metadata": {},
   "outputs": [],
   "source": [
    "su = set([tuple(r[:2]) for r in np.array(uniEdges)])\n",
    "\n",
    "sii = set([tuple(r) for r in ii[[\"P1\",\"P2\"]].values])"
   ]
  },
  {
   "cell_type": "code",
   "execution_count": null,
   "id": "e1250888",
   "metadata": {},
   "outputs": [],
   "source": [
    "su.intersection(sii)"
   ]
  },
  {
   "cell_type": "code",
   "execution_count": null,
   "id": "bddce720",
   "metadata": {},
   "outputs": [],
   "source": [
    "subgraphNodes = set.union(*[set(tuple(u[2:])) for u in uniEdges if tuple(u[:2]) in sii])"
   ]
  },
  {
   "cell_type": "code",
   "execution_count": null,
   "id": "89a82bad",
   "metadata": {},
   "outputs": [],
   "source": [
    "ii_subgraph = edgotype_x.subgraph(subgraphNodes)"
   ]
  },
  {
   "cell_type": "code",
   "execution_count": null,
   "id": "56af1e30",
   "metadata": {},
   "outputs": [],
   "source": [
    "len(ii_subgraph.edges())"
   ]
  },
  {
   "cell_type": "code",
   "execution_count": null,
   "id": "e23347eb",
   "metadata": {},
   "outputs": [],
   "source": [
    "edgedf = []\n",
    "for i,j,e in ii_subgraph.edges(data=True):\n",
    "    edgedf.append({\"Pi\":ens2uni[e[\"db_ensembl_gene_id_mt\"]][0],\n",
    "                   \"Pj\": ens2uni[e[\"ad_ensembl_gene_id_mt\"]][0],\n",
    "                   \"edge\": e})"
   ]
  },
  {
   "cell_type": "code",
   "execution_count": null,
   "id": "65e87718",
   "metadata": {},
   "outputs": [],
   "source": [
    "for i in range(len(edgedf)):\n",
    "    pi = edgedf[i][\"Pi\"]\n",
    "    pj = edgedf[i][\"Pj\"]\n",
    "    iisub = ii[((ii.P1 == pi) & (ii.P2 == pj)) | ((ii.P1 == pj) & (ii.P2 == pi))]\n",
    "    if len(iisub):\n",
    "        edgedf[i][\"ii_matches\"] = iisub\n",
    "    else:\n",
    "        edgedf[i][\"ii_matches\"] = pd.DataFrame()"
   ]
  },
  {
   "cell_type": "code",
   "execution_count": null,
   "id": "872cbc80",
   "metadata": {},
   "outputs": [],
   "source": [
    "inside = []\n",
    "outside = []\n",
    "for e in edgedf:\n",
    "    loc = e[\"edge\"][\"aa_change_mt\"][3:-3]\n",
    "    if len(e[\"ii_matches\"]):\n",
    "        p1r = e[\"ii_matches\"].iloc[0][\"P1_IRES\"][1:-1].replace(\"-\",\",\").split(\",\")\n",
    "        p2r = e[\"ii_matches\"].iloc[0][\"P2_IRES\"][1:-1].replace(\"-\",\",\").split(\",\")\n",
    "#         print(loc,p1r,p2r)\n",
    "        if ((e[\"Pi\"] == e[\"ii_matches\"].iloc[0][\"P1\"] and loc in p1r) or \\\n",
    "                                 (e[\"Pi\"] == e[\"ii_matches\"].iloc[0][\"P2\"] and loc in p2r)):\n",
    "            inside.append(e)\n",
    "        else:\n",
    "            outside.append(e)"
   ]
  },
  {
   "cell_type": "code",
   "execution_count": null,
   "id": "0f1bf2fa",
   "metadata": {},
   "outputs": [],
   "source": [
    "len(inside)"
   ]
  },
  {
   "cell_type": "code",
   "execution_count": null,
   "id": "a7bfa7a0",
   "metadata": {},
   "outputs": [],
   "source": [
    "len(outside)"
   ]
  },
  {
   "cell_type": "markdown",
   "id": "28988396",
   "metadata": {},
   "source": [
    "\n",
    "# Findings\n",
    "\n",
    "242 instances in the edgotype data have matches in Interactome Insider High Quality dataset\n",
    "\n",
    "21 of the 242 are comprised of a mutation inside db protein's predicted interacting residue range"
   ]
  },
  {
   "cell_type": "code",
   "execution_count": null,
   "id": "f9499242",
   "metadata": {},
   "outputs": [],
   "source": [
    "def calc_score(e):\n",
    "    score = 0\n",
    "    for med in [\"LWH1_f_\",\"LWH10_f_\", \"LWH25_f_\",\n",
    "                \"LWA_f_\",\"LWAH1_f_\"]:\n",
    "#         score += int(e[med+\"mt\"] + 2 <= e[med+\"wt\"])\n",
    "        score += e[med + \"wt\"] - e[med + \"mt\"]\n",
    "    return score"
   ]
  },
  {
   "cell_type": "code",
   "execution_count": null,
   "id": "a7724074",
   "metadata": {},
   "outputs": [],
   "source": [
    "insideScores = [calc_score(e[\"edge\"]) for e in inside]\n",
    "outsideScores = [calc_score(e[\"edge\"]) for e in outside]"
   ]
  },
  {
   "cell_type": "code",
   "execution_count": null,
   "id": "e31a7baf",
   "metadata": {},
   "outputs": [],
   "source": [
    "import matplotlib.pyplot as plt"
   ]
  },
  {
   "cell_type": "code",
   "execution_count": null,
   "id": "cc6687af",
   "metadata": {},
   "outputs": [],
   "source": [
    "fig,ax = plt.subplots(1,2,sharey=True)\n",
    "ax[0].hist(insideScores,density=True)\n",
    "ax[0].set_title(\"At Predicted Binding Residue\")\n",
    "ax[1].hist(outsideScores,density=True)\n",
    "_ = ax[1].set_title(\"Not at Predicted Binding Residue\")\n",
    "# ax[0].set_xticks(np.arange(0,6))\n",
    "# _ = ax[1].set_xticks(np.arange(0,6))\n",
    "ax[0].set_xlim(-20,20)\n",
    "ax[1].set_xlim(-20,20)"
   ]
  },
  {
   "cell_type": "code",
   "execution_count": null,
   "id": "2fd6c143",
   "metadata": {},
   "outputs": [],
   "source": []
  }
 ],
 "metadata": {
  "language_info": {
   "name": "python",
   "pygments_lexer": "ipython3"
  }
 },
 "nbformat": 4,
 "nbformat_minor": 5
}
