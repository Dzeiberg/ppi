{
 "cells": [
  {
   "cell_type": "code",
   "execution_count": null,
   "id": "b75db119",
   "metadata": {},
   "outputs": [],
   "source": [
    "import networkx as nx\n",
    "\n",
    "edgotype = nx.read_gexf(\"data/y2hEdgotyping/edgotype.gefx\")"
   ]
  },
  {
   "cell_type": "code",
   "execution_count": null,
   "id": "98215842",
   "metadata": {},
   "outputs": [],
   "source": [
    "import pandas as pd\n",
    "import numpy as np\n",
    "import itertools"
   ]
  },
  {
   "cell_type": "code",
   "execution_count": null,
   "id": "2c2384ba",
   "metadata": {},
   "outputs": [],
   "source": [
    "next(iter(edgotype.nodes(data=True)))"
   ]
  },
  {
   "cell_type": "code",
   "execution_count": null,
   "id": "633b1f86",
   "metadata": {},
   "outputs": [],
   "source": [
    "with open(\"/data/dzeiberg/ppi/y2hEdgotyping/vespa/edgotype_seqs.fasta\",\"w\") as f:\n",
    "    for ensg_id,n in edgotype.nodes(data=True):\n",
    "        seq = n[\"seq\"]\n",
    "        f.write(f\">{ensg_id}\\n{seq}\\n\")"
   ]
  },
  {
   "cell_type": "code",
   "execution_count": null,
   "id": "b109ebb3",
   "metadata": {},
   "outputs": [],
   "source": [
    "muts = set()\n",
    "for _,_,e in edgotype.edges(\"ENSG00000002822\",data=True):\n",
    "    if e[\"db_ensembl_gene_id_mt\"] == \"ENSG00000002822\":\n",
    "        muts.add(e[\"Substitution\"])\n",
    "    else:\n",
    "        print(e[\"db_ensembl_gene_id_mt\"])"
   ]
  },
  {
   "cell_type": "code",
   "execution_count": null,
   "id": "d2c5bc58",
   "metadata": {},
   "outputs": [],
   "source": [
    "len(edgotype.nodes())"
   ]
  },
  {
   "cell_type": "code",
   "execution_count": null,
   "id": "75719fc9",
   "metadata": {},
   "outputs": [],
   "source": [
    "muts"
   ]
  },
  {
   "cell_type": "code",
   "execution_count": null,
   "id": "83911e73",
   "metadata": {},
   "outputs": [],
   "source": []
  }
 ],
 "metadata": {
  "language_info": {
   "name": "python",
   "pygments_lexer": "ipython3"
  }
 },
 "nbformat": 4,
 "nbformat_minor": 5
}
