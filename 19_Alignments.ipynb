{
 "cells": [
  {
   "cell_type": "code",
   "execution_count": null,
   "id": "6b7fc303",
   "metadata": {},
   "outputs": [],
   "source": [
    "import gzip\n",
    "\n",
    "from Bio.PDB.PDBParser import PDBParser\n",
    "from Bio.PDB.Polypeptide import PPBuilder\n",
    "ppb=PPBuilder()\n",
    "def getSeq(pdb):\n",
    "    for pp in ppb.build_peptides(pdb):\n",
    "        yield str(pp.get_sequence())\n",
    "\n",
    "import networkx as nx\n",
    "\n",
    "edgotype = nx.read_gexf(\"data/y2hEdgotyping/edgotype.gefx\")\n",
    "\n",
    "import os\n",
    "import pandas as pd\n",
    "seqFiles = [pd.read_csv(f\"data/y2hEdgotyping/uniprotScan/sequence_{i}.tsv\",delimiter=\"\\t\") for i in range(6)]\n",
    "\n",
    "uniprotMatches = pd.concat(seqFiles)\n",
    "\n",
    "import Bio\n",
    "import Bio.PDB\n",
    "import Bio.SeqRecord\n",
    "\n",
    "pdbparser = Bio.PDB.PDBParser(QUIET=False,)   # suppress PDBConstructionWarning\n",
    "from tqdm import tqdm\n",
    "def mergeWithUniprot(graph):\n",
    "    for node in tqdm(graph.nodes(data=True),total=len(graph.nodes())):\n",
    "        seq = node[1][\"seq\"]\n",
    "        up = uniprotMatches[(uniprotMatches.Sequence == seq) & \\\n",
    "                            (uniprotMatches.Reviewed == \"reviewed\") & \\\n",
    "                           (uniprotMatches.Organism == \"Homo sapiens (Human)\")]\n",
    "        graph.nodes[node[0]][\"uniprotMatches\"] = up\n",
    "        alphafoldStructures = []\n",
    "        for uniprot_id in graph.nodes[node[0]][\"uniprotMatches\"][\"Entry\"]:\n",
    "            fp = f\"/data/dzeiberg/alphafold/predictions/AF-{uniprot_id}-F1-model_v4.pdb.gz\"\n",
    "            if os.path.isfile(fp):\n",
    "                with gzip.open(fp,\"rt\",encoding='utf-8') as gz:\n",
    "                    struc = pdbparser.get_structure(fp,gz)\n",
    "                alphafoldStructures.append(struc)\n",
    "        graph.nodes[node[0]][\"alphafoldStructures\"] = alphafoldStructures\n",
    "        \n",
    "    return graph\n",
    "\n",
    "edgotype = mergeWithUniprot(edgotype)"
   ]
  },
  {
   "cell_type": "code",
   "execution_count": null,
   "id": "79c083e2",
   "metadata": {},
   "outputs": [],
   "source": [
    "nodes = list(edgotype.nodes(data=True))"
   ]
  },
  {
   "cell_type": "code",
   "execution_count": null,
   "id": "6513d325",
   "metadata": {},
   "outputs": [],
   "source": [
    "from itertools import chain"
   ]
  },
  {
   "cell_type": "code",
   "execution_count": null,
   "id": "98cda81a",
   "metadata": {},
   "outputs": [],
   "source": [
    "badNodes = []\n",
    "goodNodes = []\n",
    "for ensg,node in nodes:\n",
    "    if not len(node[\"alphafoldStructures\"]):\n",
    "        badNodes.append(ensg)\n",
    "        print(f\"no prediction for {ensg}\")\n",
    "        continue\n",
    "    if node[\"seq\"] not in list(chain(*[list(getSeq(s)) for s in node[\"alphafoldStructures\"]])):\n",
    "        badNodes.append(ensg)\n",
    "        print(ensg)\n",
    "    else:\n",
    "        goodNodes.append(ensg)"
   ]
  },
  {
   "cell_type": "code",
   "execution_count": null,
   "id": "e39e72c2",
   "metadata": {},
   "outputs": [],
   "source": [
    "len(goodNodes)"
   ]
  },
  {
   "cell_type": "code",
   "execution_count": null,
   "id": "bc983e78",
   "metadata": {},
   "outputs": [],
   "source": [
    "len(nodes)"
   ]
  },
  {
   "cell_type": "code",
   "execution_count": null,
   "id": "0e66f510",
   "metadata": {},
   "outputs": [],
   "source": [
    "len(badNodes)"
   ]
  },
  {
   "cell_type": "markdown",
   "id": "18067ad8",
   "metadata": {},
   "source": [
    "# many nodes didn't have an AlphafoldKB match, but only 1 had a misalligned sequence"
   ]
  },
  {
   "cell_type": "code",
   "execution_count": null,
   "id": "eac208ee",
   "metadata": {},
   "outputs": [],
   "source": [
    "len(badNodes)"
   ]
  },
  {
   "cell_type": "code",
   "execution_count": null,
   "id": "85944093",
   "metadata": {},
   "outputs": [],
   "source": [
    "nomatchseqs = []\n",
    "matchnodes = []\n",
    "for ensg in badNodes:\n",
    "    n = edgotype.nodes(data=True)[ensg]\n",
    "    if not len(n[\"uniprotMatches\"]):\n",
    "        nomatchseqs.append((ensg,n[\"seq\"]))\n",
    "    else:\n",
    "        matchnodes.append(ensg)"
   ]
  },
  {
   "cell_type": "code",
   "execution_count": null,
   "id": "ea9dc7ab",
   "metadata": {},
   "outputs": [],
   "source": [
    "len(nomatchseqs)"
   ]
  },
  {
   "cell_type": "code",
   "execution_count": null,
   "id": "2ef477fc",
   "metadata": {},
   "outputs": [],
   "source": [
    "nomatchseqs[0]"
   ]
  },
  {
   "cell_type": "code",
   "execution_count": null,
   "id": "87dba1fa",
   "metadata": {},
   "outputs": [],
   "source": [
    "# for tup in nomatchseqs[:100]:\n",
    "#     print(tup[1])"
   ]
  },
  {
   "cell_type": "code",
   "execution_count": null,
   "id": "43492f64",
   "metadata": {},
   "outputs": [],
   "source": [
    "# for tup in nomatchseqs[100:]:\n",
    "#     print(tup[1])"
   ]
  },
  {
   "cell_type": "code",
   "execution_count": null,
   "id": "a4afabb6",
   "metadata": {},
   "outputs": [],
   "source": [
    "len(badNodes),len(nomatchseqs),len(matchnodes)"
   ]
  },
  {
   "cell_type": "code",
   "execution_count": null,
   "id": "a27a0412",
   "metadata": {},
   "outputs": [],
   "source": [
    "for m in matchnodes:\n",
    "    node = edgotype.nodes(data=True)[m]\n",
    "    print(m, node[\"uniprotMatches\"].Entry.values[0],node[\"uniprotMatches\"].AlphaFoldDB.values)"
   ]
  },
  {
   "cell_type": "code",
   "execution_count": null,
   "id": "4aa3bdaa",
   "metadata": {},
   "outputs": [],
   "source": [
    "edgotype.nodes(data=True)[\"ENSG00000185303\"][\"alphafoldStructures\"]"
   ]
  },
  {
   "cell_type": "code",
   "execution_count": null,
   "id": "287c60da",
   "metadata": {},
   "outputs": [],
   "source": [
    "list(getSeq(edgotype.nodes(data=True)[\"ENSG00000185303\"][\"alphafoldStructures\"][0]))"
   ]
  },
  {
   "cell_type": "code",
   "execution_count": null,
   "id": "137c59d9",
   "metadata": {},
   "outputs": [],
   "source": [
    "edgotype.nodes(data=True)[\"ENSG00000185303\"][\"seq\"]"
   ]
  },
  {
   "cell_type": "code",
   "execution_count": null,
   "id": "9f954959",
   "metadata": {},
   "outputs": [],
   "source": [
    "def addSubs(graph):\n",
    "    for n in graph.nodes():\n",
    "        edges = graph.edges(n,data=True)\n",
    "        db_edges = [e for e in edges if e[2][\"db_ensembl_gene_id_mt\"] == n]\n",
    "        subs = list(set([e[2][\"Substitution\"] for e in db_edges]))\n",
    "        nx.set_node_attributes(graph,{n: {\"subs\":subs}})\n",
    "    return graph"
   ]
  },
  {
   "cell_type": "code",
   "execution_count": null,
   "id": "18a10e3f",
   "metadata": {},
   "outputs": [],
   "source": [
    "edgotype = addSubs(edgotype)"
   ]
  },
  {
   "cell_type": "code",
   "execution_count": null,
   "id": "def11d9c",
   "metadata": {},
   "outputs": [],
   "source": [
    "nodes = list(edgotype.nodes(data=True))"
   ]
  },
  {
   "cell_type": "code",
   "execution_count": null,
   "id": "eef8547b",
   "metadata": {},
   "outputs": [],
   "source": [
    "len(nodes[0][1][\"subs\"])"
   ]
  },
  {
   "cell_type": "code",
   "execution_count": null,
   "id": "122cd24f",
   "metadata": {},
   "outputs": [],
   "source": [
    "for n in nodes:\n",
    "    match = np.ones(len(n[1][\"subs\"])).astype(bool)\n",
    "    for i,s in enumerate(n[1][\"subs\"]):\n",
    "        og,loc,var = s[0],int(s[1:-1])-1, s[-1]\n",
    "        if n[1][\"seq\"][loc] != og:\n",
    "            match[i] = False\n",
    "    nx.set_node_attributes(edgotype,{n[0]: {\"match\":match}})"
   ]
  },
  {
   "cell_type": "code",
   "execution_count": null,
   "id": "db6c0d59",
   "metadata": {},
   "outputs": [],
   "source": [
    "for ensg,n in edgotype.nodes(data=True):\n",
    "    if len(n[\"match\"]):\n",
    "        print(n[\"match\"].sum(), len(n[\"match\"]))"
   ]
  },
  {
   "cell_type": "code",
   "execution_count": null,
   "id": "edc70554",
   "metadata": {},
   "outputs": [],
   "source": [
    "seq = next(iter(edgotype.nodes(data=True)))[1][\"seq\"]"
   ]
  },
  {
   "cell_type": "code",
   "execution_count": null,
   "id": "e3650ff2",
   "metadata": {},
   "outputs": [],
   "source": [
    "seq"
   ]
  },
  {
   "cell_type": "code",
   "execution_count": null,
   "id": "d7f3fd1c",
   "metadata": {},
   "outputs": [],
   "source": []
  }
 ],
 "metadata": {
  "language_info": {
   "name": "python",
   "pygments_lexer": "ipython3"
  }
 },
 "nbformat": 4,
 "nbformat_minor": 5
}
