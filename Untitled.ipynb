{
 "cells": [
  {
   "cell_type": "code",
   "execution_count": null,
   "id": "3551896e",
   "metadata": {},
   "outputs": [],
   "source": [
    "import pygraphviz\n",
    "from itertools import chain\n",
    "import pandas as pd\n",
    "import networkx as nx\n",
    "import altair as alt"
   ]
  },
  {
   "cell_type": "code",
   "execution_count": null,
   "id": "d9862c23",
   "metadata": {},
   "outputs": [],
   "source": [
    "# Step 1: Prepare an example graph (this all happens outside of Altair)\n",
    "\n",
    "# example graph \n",
    "r,h = 3,3\n",
    "G = nx.generators.classic.balanced_tree(r,h)"
   ]
  },
  {
   "cell_type": "code",
   "execution_count": null,
   "id": "e9acf821",
   "metadata": {},
   "outputs": [],
   "source": [
    "nx.draw(G)"
   ]
  },
  {
   "cell_type": "code",
   "execution_count": null,
   "id": "f1f420e3",
   "metadata": {},
   "outputs": [],
   "source": [
    "# calculate rank of a given node and assign it as data\n",
    "for rank in range(0,h+1):\n",
    "    nodes_in_rank = nx.descendants_at_distance(G, 0, rank)\n",
    "    for node in nodes_in_rank: \n",
    "        G.nodes[node]['rank'] = rank"
   ]
  },
  {
   "cell_type": "code",
   "execution_count": null,
   "id": "c80a6fd3",
   "metadata": {},
   "outputs": [],
   "source": [
    "# calculate layout positions, for example using Graphviz's 'twopi' algorithm, calculated via networkx's API.  \n",
    "pos = nx.drawing.nx_agraph.graphviz_layout(G, prog='twopi')"
   ]
  },
  {
   "cell_type": "code",
   "execution_count": null,
   "id": "2d870537",
   "metadata": {},
   "outputs": [],
   "source": [
    "# Step 2: Convert graph data from NetworkX's format to the pandas DataFrames expected by Altair\n",
    "\n",
    "pos_df = pd.DataFrame.from_records(dict(node_id=k, x=x, y=y) for k,(x,y) in pos.items())\n",
    "node_df = pd.DataFrame.from_records(dict(data, **{'node_id': n}) for n,data in G.nodes.data())\n"
   ]
  },
  {
   "cell_type": "code",
   "execution_count": null,
   "id": "3784deeb",
   "metadata": {},
   "outputs": [],
   "source": [
    "pos_df.head()"
   ]
  },
  {
   "cell_type": "code",
   "execution_count": null,
   "id": "638dc2e0",
   "metadata": {},
   "outputs": [],
   "source": [
    "node_df.head()"
   ]
  },
  {
   "cell_type": "code",
   "execution_count": null,
   "id": "ebbc44b7",
   "metadata": {},
   "outputs": [],
   "source": [
    "edge_data = ((dict(d, **{'edge_id':i, 'end':'source', 'node_id':s}),\n",
    "              dict(d, **{'edge_id':i, 'end':'target', 'node_id':t}))\n",
    "             for i,(s,t,d) in enumerate(G.edges.data()))\n",
    "edge_df = pd.DataFrame.from_records(chain.from_iterable(edge_data))"
   ]
  },
  {
   "cell_type": "code",
   "execution_count": null,
   "id": "17a63303",
   "metadata": {},
   "outputs": [],
   "source": [
    "edge_df.head()"
   ]
  },
  {
   "cell_type": "code",
   "execution_count": null,
   "id": "face3b2e",
   "metadata": {},
   "outputs": [],
   "source": [
    "# Step 3:  Use Altair to encode the graph data as marks in a visualization\n",
    "x,y = alt.X('x:Q', axis=None), alt.Y('y:Q', axis=None)\n",
    "# use a lookup to tie position data to the other graph data\n",
    "node_position_lookup = {\n",
    "    'lookup': 'node_id', \n",
    "    'from_': alt.LookupData(data=pos_df, key='node_id', fields=['x', 'y'])\n",
    "}\n",
    "nodes = (\n",
    "    alt.Chart(node_df)\n",
    "    .mark_circle(size=300, opacity=1)\n",
    "    .encode(x=x, y=y, color=alt.Color('rank:N', legend=None))\n",
    "    .transform_lookup(**node_position_lookup)\n",
    ")\n",
    "edges = (\n",
    "    alt.Chart(edge_df)\n",
    "    .mark_line(color='gray')\n",
    "    .encode(x=x, y=y, detail='edge_id:N')  # `detail` gives one line per edge\n",
    "    .transform_lookup(**node_position_lookup)\n",
    ")\n",
    "chart = (\n",
    "    (edges+nodes)\n",
    "    .properties(width=500, height=500,)\n",
    "    .configure_view(strokeWidth=0)\n",
    ")"
   ]
  },
  {
   "cell_type": "code",
   "execution_count": null,
   "id": "7d5f3b4a",
   "metadata": {},
   "outputs": [],
   "source": [
    "chart"
   ]
  },
  {
   "cell_type": "code",
   "execution_count": null,
   "id": "87f2c82d",
   "metadata": {},
   "outputs": [],
   "source": []
  }
 ],
 "metadata": {
  "language_info": {
   "name": "python",
   "pygments_lexer": "ipython3"
  }
 },
 "nbformat": 4,
 "nbformat_minor": 5
}
