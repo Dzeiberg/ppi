{
 "cells": [
  {
   "cell_type": "code",
   "execution_count": 3,
   "id": "78b2aeeb",
   "metadata": {},
   "outputs": [],
   "source": [
    "import networkx as nx\n",
    "edgotype_train = nx.read_gpickle(\"data/ppi/y2hEdgotyping/edgotype_train.gpickle\")\n",
    "edgotype_val = nx.read_gpickle(\"data/ppi/y2hEdgotyping/edgotype_val.gpickle\")\n",
    "edgotype_test = nx.read_gpickle(\"data/ppi/y2hEdgotyping/edgotype_test.gpickle\")"
   ]
  },
  {
   "cell_type": "code",
   "execution_count": 8,
   "id": "8840465d",
   "metadata": {},
   "outputs": [
    {
     "data": {
      "text/plain": [
       "('ENSG00000072062',\n",
       " {'orf_id': 71136,\n",
       "  'seq': 'MGNAAAAKKGSEQESVKEFLAKAKEDFLKKWESPAQNTAHLDQFERIKTLGTGSFGRVMLVKHKETGNHYAMKILDKQKVVKLKQIEHTLNEKRILQAVNFPFLVKLEFSFKDNSNLYMVMEYVPGGEMFSHLRRIGRFSEPHARFYAAQIVLTFEYLHSLDLIYRDLKPENLLIDQQGYIQVTDFGFAKRVKGRTWTLCGTPEYLAPEIILSKGYNKAVDWWALGVLIYEMAAGYPPFFADQPIQIYEKIVSGKVRFPSHFSSDLKDLLRNLLQVDLTKRFGNLKNGVNDIKNHKWFATTDWIAIYQRKVEAPFIPKFKGPGDTSNFDDYEEEEIRVSINEKCGKEFSEF',\n",
       "  'symbol': 'PRKACA',\n",
       "  'uniprotMatches':       Entry  Reviewed   Entry Name  \\\n",
       "  351  P17612  reviewed  KAPCA_HUMAN   \n",
       "  \n",
       "                                           Protein names    Gene Names  \\\n",
       "  351  cAMP-dependent protein kinase catalytic subuni...  PRKACA PKACA   \n",
       "  \n",
       "                   Organism  Length Gene Names (ORF) Gene Names (primary)  \\\n",
       "  351  Homo sapiens (Human)     351              NaN               PRKACA   \n",
       "  \n",
       "                                                Sequence  \\\n",
       "  351  MGNAAAAKKGSEQESVKEFLAKAKEDFLKKWESPAQNTAHLDQFER...   \n",
       "  \n",
       "                                      Gene Ontology (GO)  \\\n",
       "  351  acrosomal vesicle [GO:0001669]; calcium channe...   \n",
       "  \n",
       "                                                  RefSeq  \\\n",
       "  351  NP_001291278.1;NP_002721.1 [P17612-1];NP_99740...   \n",
       "  \n",
       "                                                    EMBL  \\\n",
       "  351  X07767;AK290147;DQ667173;CH471106;BC039846;BC1...   \n",
       "  \n",
       "                                                 CCDS AlphaFoldDB  \\\n",
       "  351  CCDS12304.1 [P17612-1];CCDS12305.1 [P17612-2];     P17612;   \n",
       "  \n",
       "                                                     PDB  \\\n",
       "  351  2GU8;3AGL;3AGM;3AMA;3AMB;3L9L;3L9M;3L9N;3MVJ;3...   \n",
       "  \n",
       "                                                 Ensembl      Pfam  \n",
       "  351  ENST00000308677.9 [P17612-1];ENST00000589994.6...  PF00069;  ,\n",
       "  'alphafoldStructures': ['/data/dzeiberg/alphafold/predictions/AF-P17612-F1-model_v4.pdb.gz']})"
      ]
     },
     "execution_count": 8,
     "metadata": {},
     "output_type": "execute_result"
    }
   ],
   "source": [
    "next(iter(edgotype_train.nodes(data=True)))#[1][\"uniprotMatches\"]"
   ]
  },
  {
   "cell_type": "code",
   "execution_count": 9,
   "id": "15e7b4af",
   "metadata": {},
   "outputs": [
    {
     "data": {
      "text/plain": [
       "('ENSG00000072062',\n",
       " 'ENSG00000108946',\n",
       " {'db_ensembl_gene_id_mt': 'ENSG00000108946',\n",
       "  'ad_ensembl_gene_id_mt': 'ENSG00000072062',\n",
       "  'db_mut_id_mt': 200622,\n",
       "  'aa_change_mt': 'Ile327Thr',\n",
       "  'clinical_significance_mt': 'Pathogenic',\n",
       "  'nt_change_mt': '980T>C',\n",
       "  'Substitution': 'I327T',\n",
       "  'MutPred2 score': 0.923,\n",
       "  'Molecular mechanisms with Pr >= 0.01 and P < 0.99': 'Loss of Zinc_binding at E326 (Pr = 0.32 | P = 0.01); Gain of Loop (Pr = 0.26 | P = 0.05); Gain of Manganese_binding at E326 (Pr = 0.26 | P = 5.9e-03); Loss of Helix (Pr = 0.26 | P = 0.13); Loss of Relative_solvent_accessibility (Pr = 0.25 | P = 0.04); Loss of Catalytic_site at E326 (Pr = 0.23 | P = 7.5e-03); Altered PPI_residue (Pr = 0.23 | P = 0.11); Gain of Strand (Pr = 0.23 | P = 0.29); Gain of Sodium_binding at N332 (Pr = 0.21 | P = 0.03); Altered PPI_hotspot (Pr = 0.19 | P = 0.12); Loss of Allosteric_site at E326 (Pr = 0.17 | P = 0.07); Gain of Phosphorylation at Y323 (Pr = 0.15 | P = 0.14); Loss of B-factor (Pr = 0.14 | P = 0.72); Gain of Intrinsic_disorder (Pr = 0.13 | P = 0.44); Altered DNA_binding (Pr = 0.13 | P = 0.06); Altered MoRF (Pr = 0.13 | P = 0.35); Gain of Potassium_binding at E326 (Pr = 0.10 | P = 0.05); Gain of Nickel_binding at N332 (Pr = 0.07 | P = 0.15); Altered Stability (Pr = 0.06 | P = 0.09); Altered Calmodulin_binding (Pr = 0.04 | P = 0.29); Loss of Copper_binding at E326 (Pr = 0.04 | P = 0.06); Altered Cytoplasmic_loop (Pr = 0.03 | P = 0.34); Altered Non-cytoplasmic_loop (Pr = 0.03 | P = 0.64); Gain of ADP-ribosylation at E326 (Pr = 0.02 | P = 0.61); Loss of Proteolytic_cleavage at D322 (Pr = 0.02 | P = 0.60); Loss of Sulfation at Y323 (Pr = 0.01 | P = 0.05)',\n",
       "  'Motif information': 'Altered Motifs (ELME000052:Phosphothreonine motif binding a subset of FHA domains that show a preference for a large aliphatic amino acid at the pT+3 position.; ELME000335:Inverted version of LIG_SUMO_SBM_1 that mediates binding to SUMO proteins non-covalently.; ELME000336:NEK2 phosphorylation motif with preferred Phe - Leu or Met in the -3 position to compensate for less favorable residues in the +1 and +2 position.; PS00889:Cyclic nucleotide-binding domain signature 2)',\n",
       "  'Remarks': '-',\n",
       "  'featFileNum': 56.0,\n",
       "  'fileRowNum': 0.0,\n",
       "  'LW_mt': 4.0,\n",
       "  'LWH1_f_mt': nan,\n",
       "  'LWH10_f_mt': 0.0,\n",
       "  'LWH25_f_mt': 0.0,\n",
       "  'LWA_f_mt': 0.0,\n",
       "  'LWAH1_f_mt': 0.0,\n",
       "  'score_mt': 0,\n",
       "  'score_norm_mt': 0.0,\n",
       "  'LW_wt': 4.0,\n",
       "  'LWH1_f_wt': 3.0,\n",
       "  'LWH10_f_wt': 0.0,\n",
       "  'LWH25_f_wt': 0.0,\n",
       "  'LWA_f_wt': 0.0,\n",
       "  'LWAH1_f_wt': 0.0,\n",
       "  'score_wt': 1,\n",
       "  'score_norm_wt': 0.2})"
      ]
     },
     "execution_count": 9,
     "metadata": {},
     "output_type": "execute_result"
    }
   ],
   "source": [
    "next(iter(edgotype_train.edges(data=True)))"
   ]
  },
  {
   "cell_type": "code",
   "execution_count": 10,
   "id": "9968efef",
   "metadata": {},
   "outputs": [
    {
     "data": {
      "text/plain": [
       "{'orf_id': 2455,\n",
       " 'seq': 'MESGSTAASEEARSLRECELYVQKHNIQALLKDSIVQLCTARPERPMAFLREYFERLEKEEAKQIQNLQKAGTRTDSREDEISPPPPNPVVKGRRRRGAISAEVYTEEDAASYVRKVIPKDYKTMAALAKAIEKNVLFSHLDDNERSDIFDAMFSVSFIAGETVIQQGDEGDNFYVIDQGETDVYVNNEWATSVGEGGSFGELALIYGTPRAATVKAKTNVKLWGIDRDSYRRILMGSTLRKRKMYEEFLSKVSILESLDKWERLTVADALEPVQFEDGQKIVVQGEPGDEFFIILEGSAAVLQRRSENEEFVEVGRLGPSDYFGEIALLMNRPRAATVVARGPLKCVKLDRPRFERVLGPCSDILKRNIQQYNSFVSLSV',\n",
       " 'symbol': 'PRKAR1A',\n",
       " 'uniprotMatches':       Entry  Reviewed  Entry Name  \\\n",
       " 803  P10644  reviewed  KAP0_HUMAN   \n",
       " \n",
       "                                          Protein names  \\\n",
       " 803  cAMP-dependent protein kinase type I-alpha reg...   \n",
       " \n",
       "                    Gene Names              Organism  Length Gene Names (ORF)  \\\n",
       " 803  PRKAR1A PKR1 PRKAR1 TSE1  Homo sapiens (Human)     381              NaN   \n",
       " \n",
       "     Gene Names (primary)                                           Sequence  \\\n",
       " 803              PRKAR1A  MESGSTAASEEARSLRECELYVQKHNIQALLKDSIVQLCTARPERP...   \n",
       " \n",
       "                                     Gene Ontology (GO)  \\\n",
       " 803  cAMP-dependent protein kinase complex [GO:0005...   \n",
       " \n",
       "                                                 RefSeq  \\\n",
       " 803  NP_001263218.1 [P10644-1];NP_001263219.1 [P106...   \n",
       " \n",
       "                                                   EMBL  \\\n",
       " 803  M18468;M33336;S54705;S54707;S54709;S54711;Y076...   \n",
       " \n",
       "                                                CCDS AlphaFoldDB  \\\n",
       " 803  CCDS11678.1 [P10644-1];CCDS62307.1 [P10644-2];     P10644;   \n",
       " \n",
       "                  PDB                                            Ensembl  \\\n",
       " 803  5KJX;5KJY;5KJZ;  ENST00000358598.6 [P10644-1];ENST00000392711.5...   \n",
       " \n",
       "                  Pfam  \n",
       " 803  PF00027;PF02197;  ,\n",
       " 'alphafoldStructures': ['/data/dzeiberg/alphafold/predictions/AF-P10644-F1-model_v4.pdb.gz']}"
      ]
     },
     "execution_count": 10,
     "metadata": {},
     "output_type": "execute_result"
    }
   ],
   "source": [
    "edgotype_train.nodes[\"ENSG00000108946\"]"
   ]
  },
  {
   "cell_type": "code",
   "execution_count": null,
   "id": "e0ca6743",
   "metadata": {},
   "outputs": [],
   "source": []
  }
 ],
 "metadata": {
  "kernelspec": {
   "display_name": "structure",
   "language": "python",
   "name": "structure"
  },
  "language_info": {
   "codemirror_mode": {
    "name": "ipython",
    "version": 3
   },
   "file_extension": ".py",
   "mimetype": "text/x-python",
   "name": "python",
   "nbconvert_exporter": "python",
   "pygments_lexer": "ipython3",
   "version": "3.9.12"
  }
 },
 "nbformat": 4,
 "nbformat_minor": 5
}
